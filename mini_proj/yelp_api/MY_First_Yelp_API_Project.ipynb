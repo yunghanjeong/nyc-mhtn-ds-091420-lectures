{
 "cells": [
  {
   "cell_type": "markdown",
   "metadata": {},
   "source": [
    "# This is my first Yelp API Project"
   ]
  },
  {
   "cell_type": "markdown",
   "metadata": {},
   "source": [
    "The purpose of this project/notebook is to demonstrate my understanding of json data format and API usage through yelp API. This is based on Introduction_to_APIs notebook (located in the same repo), which was suppplied by Flatiron School during my Data Science Immersiver Course. \n",
    "\n",
    "The goal of this project/notebook is to complete a yelp query, collect and clean data from the query, and visualize the data in a meaningful way. \n",
    "\n",
    "09/22/20"
   ]
  },
  {
   "cell_type": "code",
   "execution_count": 129,
   "metadata": {},
   "outputs": [],
   "source": [
    "#import necessary libraries\n",
    "import pandas as pd\n",
    "import numpy as np\n",
    "import requests\n",
    "import json\n",
    "import matplotlib.pyplot as plt\n",
    "%matplotlib inline"
   ]
  },
  {
   "cell_type": "markdown",
   "metadata": {},
   "source": [
    "Below is the location of my Yelp API key"
   ]
  },
  {
   "cell_type": "code",
   "execution_count": 4,
   "metadata": {},
   "outputs": [],
   "source": [
    "#read my api key from from internal folder. This folder is not commited to my repo\n",
    "mykey = open(\"no_commit/yelpapi.txt\", \"r\").read().strip() #.strip() method is necessary to remove whitespace"
   ]
  },
  {
   "cell_type": "markdown",
   "metadata": {},
   "source": [
    "### Yelp Query\n",
    "\n",
    "Querying 50 businesses with \"Brazilian Jiu Jitsu\" keyword located in NYC"
   ]
  },
  {
   "cell_type": "code",
   "execution_count": 5,
   "metadata": {},
   "outputs": [],
   "source": [
    "#Query Data, this is mostly copied from Introduction_to_APIs\n",
    "\n",
    "term = \"Brazilian Jiu Jitsu\"\n",
    "location = \"NYC\"\n",
    "SEARCH_LIMIT = 50\n",
    "\n",
    "url = \"https://api.yelp.com/v3/businesses/search\"\n",
    "\n",
    "headers = {\n",
    "        \"Authorization\": \"Bearer {}\".format(mykey),\n",
    "    }\n",
    "\n",
    "url_params = {\n",
    "                \"term\": term.replace(\" \", \"+\"),\n",
    "                \"location\": location.replace(\" \", \"+\"),\n",
    "                \"limit\": SEARCH_LIMIT\n",
    "            }\n",
    "response = requests.get(url, headers=headers, params=url_params)"
   ]
  },
  {
   "cell_type": "markdown",
   "metadata": {},
   "source": [
    "Check for response"
   ]
  },
  {
   "cell_type": "code",
   "execution_count": 6,
   "metadata": {},
   "outputs": [
    {
     "name": "stdout",
     "output_type": "stream",
     "text": [
      "<Response [200]>\n"
     ]
    }
   ],
   "source": [
    "print(response) #if this return 200 then the request was successful"
   ]
  },
  {
   "cell_type": "markdown",
   "metadata": {},
   "source": [
    "Run the cell below to preview data"
   ]
  },
  {
   "cell_type": "code",
   "execution_count": 10,
   "metadata": {},
   "outputs": [],
   "source": [
    "#print(response.text)"
   ]
  },
  {
   "cell_type": "code",
   "execution_count": 9,
   "metadata": {},
   "outputs": [],
   "source": [
    "nycbjjgym = response.text\n",
    "nycbjjgym = json.loads(nycbjjgym)"
   ]
  },
  {
   "cell_type": "markdown",
   "metadata": {},
   "source": [
    "Run the cell below to review response keys. It should be: businesses, total, region"
   ]
  },
  {
   "cell_type": "code",
   "execution_count": 11,
   "metadata": {},
   "outputs": [
    {
     "data": {
      "text/plain": [
       "dict_keys(['businesses', 'total', 'region'])"
      ]
     },
     "execution_count": 11,
     "metadata": {},
     "output_type": "execute_result"
    }
   ],
   "source": [
    "nycbjjgym.keys()"
   ]
  },
  {
   "cell_type": "markdown",
   "metadata": {},
   "source": [
    "### Using pandas for analysis\n",
    "\n",
    "First, I would like to carry on an analysis to see if there are a \"highly competitive\" business area. Essentially, I want to find which address/zipcode contains most amount of gyms."
   ]
  },
  {
   "cell_type": "code",
   "execution_count": 25,
   "metadata": {},
   "outputs": [],
   "source": [
    "nycbjj_df = pd.DataFrame.from_dict(nycbjjgym[\"businesses\"])"
   ]
  },
  {
   "cell_type": "markdown",
   "metadata": {},
   "source": [
    "Run the cell below to check for null values. Seems like we are dealing with clean data"
   ]
  },
  {
   "cell_type": "code",
   "execution_count": 29,
   "metadata": {},
   "outputs": [
    {
     "name": "stdout",
     "output_type": "stream",
     "text": [
      "<class 'pandas.core.frame.DataFrame'>\n",
      "RangeIndex: 50 entries, 0 to 49\n",
      "Data columns (total 15 columns):\n",
      "id               50 non-null object\n",
      "alias            50 non-null object\n",
      "name             50 non-null object\n",
      "image_url        50 non-null object\n",
      "is_closed        50 non-null bool\n",
      "url              50 non-null object\n",
      "review_count     50 non-null int64\n",
      "categories       50 non-null object\n",
      "rating           50 non-null float64\n",
      "coordinates      50 non-null object\n",
      "transactions     50 non-null object\n",
      "location         50 non-null object\n",
      "phone            50 non-null object\n",
      "display_phone    50 non-null object\n",
      "distance         50 non-null float64\n",
      "dtypes: bool(1), float64(2), int64(1), object(11)\n",
      "memory usage: 5.6+ KB\n"
     ]
    }
   ],
   "source": [
    "nycbjj_df.info()"
   ]
  },
  {
   "cell_type": "markdown",
   "metadata": {},
   "source": [
    "### Cleaning/Appending Zipcode\n",
    "The address column contains the full address (in dictionary dtype) of each business. So, for quick analysis I created a column that is just the zip code pulled from the address column. I achieved this through list comprehension where I pull the \"zip_code\" keyvalue from the address. "
   ]
  },
  {
   "cell_type": "code",
   "execution_count": 46,
   "metadata": {},
   "outputs": [],
   "source": [
    "#get only the zip code to see where in NYC there is most amount of bjj gyms\n",
    "nycbjj_df[\"zip_code\"] = [address[\"zip_code\"] for address in nycbjj_df.location]"
   ]
  },
  {
   "cell_type": "code",
   "execution_count": 65,
   "metadata": {
    "scrolled": true
   },
   "outputs": [],
   "source": [
    "#nycbjj_df.head() #Run this to check if above ran correctly"
   ]
  },
  {
   "cell_type": "markdown",
   "metadata": {},
   "source": [
    "Checking to see if there are any duplicate zipcodes in the data. It seems like there are few."
   ]
  },
  {
   "cell_type": "code",
   "execution_count": 49,
   "metadata": {},
   "outputs": [
    {
     "data": {
      "text/plain": [
       "41"
      ]
     },
     "execution_count": 49,
     "metadata": {},
     "output_type": "execute_result"
    }
   ],
   "source": [
    "len(nycbjj_df.zip_code.unique()) #checking to see if there are any repeating zip codes"
   ]
  },
  {
   "cell_type": "markdown",
   "metadata": {},
   "source": [
    "Plotting the results by grouping the data by zip code and getting counts on names, this could be done with any columns, and dropping any zipcode that only has 1 gym. "
   ]
  },
  {
   "cell_type": "code",
   "execution_count": 71,
   "metadata": {},
   "outputs": [
    {
     "data": {
      "image/png": "[encoded data removed]",
      "text/plain": [
       "<Figure size 432x288 with 1 Axes>"
      ]
     },
     "metadata": {
      "needs_background": "light"
     },
     "output_type": "display_data"
    }
   ],
   "source": [
    "zip_per_gym = nycbjj_df[[\"name\", \"zip_code\"]].groupby(\"zip_code\").count() #get groupyby, output is series\n",
    "zip_per_gym = zip_per_gym[zip_per_gym > 1].dropna() #get only values where it's greater than 1 and rest is NaN, so dropna\n",
    "zip_per_gym.plot(kind=\"bar\", legend = False);\n",
    "plt.ylabel(\"Amount of Gyms\");\n",
    "plt.yticks([2,4])\n",
    "plt.xlabel(\"Zip Code\");\n",
    "plt.title(\"BJJ Gyms per Zip Code\");"
   ]
  },
  {
   "cell_type": "markdown",
   "metadata": {},
   "source": [
    "It seems like Midtown near Penn station is the most popular area! 10001 area code is approximately betwen 34th & 24th St and 12 and 5th Ave. 10013 is a lower Manhattan zip code, and 10036 is another Midtown code near Hell's Kitchen. Then, the area moves to Brooklyn, where 11211 is Williamsburg Area, 11215 is near Park Slope, and 11222 is around Greenpoint. \n",
    "\n",
    "Out of 16 gyms in this analysis there are 10 gyms in Manhattan and 6 gyms in Brooklyn. Midtown seems to be most saturated, especially near Penn Station in 10001 code."
   ]
  },
  {
   "cell_type": "markdown",
   "metadata": {},
   "source": [
    "### Replicating the methods above for further analysis\n",
    "\n",
    "Now that gyms per zipcode logic is completed, I want to carry on a further analysis to see which area might be the best area to train in. For this I would like to visualize the following: show amount of gyms, average rating, and amount of reviews per zip code."
   ]
  },
  {
   "cell_type": "code",
   "execution_count": 99,
   "metadata": {},
   "outputs": [
    {
     "data": {
      "text/html": [
       "<div>\n",
       "<style scoped>\n",
       "    .dataframe tbody tr th:only-of-type {\n",
       "        vertical-align: middle;\n",
       "    }\n",
       "\n",
       "    .dataframe tbody tr th {\n",
       "        vertical-align: top;\n",
       "    }\n",
       "\n",
       "    .dataframe thead th {\n",
       "        text-align: right;\n",
       "    }\n",
       "</style>\n",
       "<table border=\"1\" class=\"dataframe\">\n",
       "  <thead>\n",
       "    <tr style=\"text-align: right;\">\n",
       "      <th></th>\n",
       "      <th>name</th>\n",
       "      <th>avg_rating</th>\n",
       "      <th>avg_reviews</th>\n",
       "    </tr>\n",
       "    <tr>\n",
       "      <th>zip_code</th>\n",
       "      <th></th>\n",
       "      <th></th>\n",
       "      <th></th>\n",
       "    </tr>\n",
       "  </thead>\n",
       "  <tbody>\n",
       "    <tr>\n",
       "      <th>11211</th>\n",
       "      <td>2.0</td>\n",
       "      <td>5.000</td>\n",
       "      <td>11.50</td>\n",
       "    </tr>\n",
       "    <tr>\n",
       "      <th>10036</th>\n",
       "      <td>2.0</td>\n",
       "      <td>5.000</td>\n",
       "      <td>10.00</td>\n",
       "    </tr>\n",
       "    <tr>\n",
       "      <th>11215</th>\n",
       "      <td>2.0</td>\n",
       "      <td>4.750</td>\n",
       "      <td>22.00</td>\n",
       "    </tr>\n",
       "    <tr>\n",
       "      <th>10001</th>\n",
       "      <td>4.0</td>\n",
       "      <td>4.625</td>\n",
       "      <td>42.75</td>\n",
       "    </tr>\n",
       "    <tr>\n",
       "      <th>10013</th>\n",
       "      <td>2.0</td>\n",
       "      <td>4.500</td>\n",
       "      <td>90.00</td>\n",
       "    </tr>\n",
       "    <tr>\n",
       "      <th>10038</th>\n",
       "      <td>2.0</td>\n",
       "      <td>4.500</td>\n",
       "      <td>9.00</td>\n",
       "    </tr>\n",
       "    <tr>\n",
       "      <th>11222</th>\n",
       "      <td>2.0</td>\n",
       "      <td>4.250</td>\n",
       "      <td>15.00</td>\n",
       "    </tr>\n",
       "  </tbody>\n",
       "</table>\n",
       "</div>"
      ],
      "text/plain": [
       "          name  avg_rating  avg_reviews\n",
       "zip_code                               \n",
       "11211      2.0       5.000        11.50\n",
       "10036      2.0       5.000        10.00\n",
       "11215      2.0       4.750        22.00\n",
       "10001      4.0       4.625        42.75\n",
       "10013      2.0       4.500        90.00\n",
       "10038      2.0       4.500         9.00\n",
       "11222      2.0       4.250        15.00"
      ]
     },
     "execution_count": 99,
     "metadata": {},
     "output_type": "execute_result"
    }
   ],
   "source": [
    "#grab a new groupby to get total review_count and rating per zip\n",
    "zip_gym_stat = nycbjj_df[[\"zip_code\", \"review_count\", \"rating\"]].groupby(\"zip_code\").sum()\n",
    "\n",
    "#merge this new groupby with groupby from above\n",
    "#since this is a left merge by default and the first DataFrame already filtered out zipcodes\n",
    "#the merge can occur on zip_code and it will drop all unnecessary values!\n",
    "zip_gym = zip_per_gym.merge(zip_gym_stat, on = \"zip_code\")\n",
    "\n",
    "#calculate average rating in the zipcode\n",
    "zip_gym[\"avg_rating\"] = zip_gym[\"rating\"] / zip_gym[\"name\"]\n",
    "\n",
    "#calculate average reviews in the zip code\n",
    "zip_gym[\"avg_reviews\"] = zip_gym[\"review_count\"] / zip_gym[\"name\"]\n",
    "\n",
    "#drop the sum columns for cleaner DataFrame\n",
    "zip_gym = zip_gym.drop([\"rating\", \"review_count\"], axis = 1)\n",
    "\n",
    "#sort values by average ratings than average reviews\n",
    "zip_gym = zip_gym.sort_values(by=[\"avg_rating\", \"avg_reviews\"], ascending = False)\n",
    "\n",
    "#show the results!\n",
    "zip_gym"
   ]
  },
  {
   "cell_type": "markdown",
   "metadata": {},
   "source": [
    "### Quantity != Quality!\n",
    "\n",
    "When the average rating and review counts per zipcode is calculated and sorted respectively, the resulting order of zip codes changes! It seems that the Williamsburg area is the best location to train followed closely by Hell's Kitchen area and Park Slope area.\n",
    "\n",
    "Although, it should be noted that the average values in this case is not necessarily a good indication of the area since most areas only have 2 gyms. In this case a single bad review in a small gym (fewer review counts) can really swing the data"
   ]
  },
  {
   "cell_type": "markdown",
   "metadata": {},
   "source": [
    "### Plotting the Results\n",
    "\n",
    "Now, the data should be visualized in a meaningful way. I think the best case would be a bar graph with 2 y- axis. The first y axis can be between 0-5 since the name column and avg_rating column shares a similar range of values. The 2nd y axis can be between 5-95 to be inclusive with maybe a slice betwen 25-40 and 45-85 for the outliers. "
   ]
  },
  {
   "cell_type": "code",
   "execution_count": 159,
   "metadata": {},
   "outputs": [
    {
     "data": {
      "image/png": "[encoded data removed]",
      "text/plain": [
       "<Figure size 864x576 with 2 Axes>"
      ]
     },
     "metadata": {
      "needs_background": "light"
     },
     "output_type": "display_data"
    }
   ],
   "source": [
    "#zip_gym.plot(kind=\"bar\")\n",
    "fig, ax = plt.subplots(figsize = (12,8))\n",
    "# fig = plt.figure()\n",
    "# ax = fig.add_subplot()\n",
    "ax2 = ax.twinx()\n",
    "zipcode = zip_gym.index\n",
    "xpos = np.array(range(0,len(zip_gym))) #need numpy array, because x position have to be calculated in vectorized format\n",
    "width = 0.2 #set bar width\n",
    "\n",
    "#graph each bars.... in Brazilian colors!\n",
    "ax.axhline(zip_gym.avg_rating.mean(), color = \"grey\", label = \"Average Gym Rating\")\n",
    "rating = ax.bar(xpos, zip_gym.avg_rating, width, label=\"Average Rating\", color = \"gold\")\n",
    "gyms = ax.bar(xpos-width, zip_gym.name, width, label=\"Number of Gyms\", color = \"blue\")\n",
    "reviews = ax2.bar(xpos+width, zip_gym.avg_reviews, width, label=\"Average Reviews\", color = \"green\")\n",
    "\n",
    "\n",
    "\n",
    "#set labels\n",
    "ax.set_ylabel(\"Gyms in Zipcode/Average Rating\")\n",
    "ax.set_xlabel(\"Zip Code\")\n",
    "ax.set_title(\"Number of BJJ Gyms, Average Rating, and Reivew Counts per Zipcode with multiple gyms in NYC\")\n",
    "ax2.set_ylabel(\"Average Reviews\")\n",
    "\n",
    "#set x tick label as zipcodes\n",
    "ax.set_xticks(xpos)\n",
    "ax.set_xticklabels(zipcode)\n",
    "\n",
    "#show legends and put their positions near the axis of their appropriate value\n",
    "ax.legend(bbox_to_anchor = (0,-1.05,1,1), loc = \"upper left\")\n",
    "ax2.legend(bbox_to_anchor = (0,-1.05,1,1), loc = \"upper right\")\n",
    "\n",
    "fig.tight_layout()\n",
    "plt.savefig(\"nyc_bjj_gyms_per_zipcode.png\")\n",
    "plt.show()\n",
    "#secy = ax.secondary_yaxis('right', functions=zip_gym[\"avg_reviews\"])"
   ]
  },
  {
   "cell_type": "code",
   "execution_count": null,
   "metadata": {},
   "outputs": [],
   "source": []
  }
 ],
 "metadata": {
  "kernelspec": {
   "display_name": "Python 3",
   "language": "python",
   "name": "python3"
  },
  "language_info": {
   "codemirror_mode": {
    "name": "ipython",
    "version": 3
   },
   "file_extension": ".py",
   "mimetype": "text/x-python",
   "name": "python",
   "nbconvert_exporter": "python",
   "pygments_lexer": "ipython3",
   "version": "3.6.9"
  }
 },
 "nbformat": 4,
 "nbformat_minor": 4
}
