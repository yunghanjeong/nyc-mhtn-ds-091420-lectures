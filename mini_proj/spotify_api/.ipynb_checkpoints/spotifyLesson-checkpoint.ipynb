{
 "cells": [
  {
   "cell_type": "markdown",
   "metadata": {},
   "source": [
    "# Objectives\n",
    "YWBAT\n",
    "* use the spotify API to make calls \n",
    "* build a spotify api class in Python\n",
    "* use a decorator to refresh an api token \n",
    "\n",
    "# Outline\n",
    "* read in spotify credentials\n",
    "* make a request for an access token\n",
    "* build that out into functions\n",
    "* write spotify api class\n",
    "* write method to get an access token \n",
    "* write decorator for freshing token"
   ]
  },
  {
   "cell_type": "code",
   "execution_count": 2,
   "metadata": {},
   "outputs": [],
   "source": [
    "import os\n",
    "import requests\n",
    "import base64\n",
    "import datetime\n",
    "from functools import wraps"
   ]
  },
  {
   "cell_type": "code",
   "execution_count": 5,
   "metadata": {},
   "outputs": [],
   "source": [
    "with open(\"\") as f:\n",
    "    d = json.load(f)\n",
    "    client_id = d['client_id']\n",
    "    client_secret = d['client_secret']"
   ]
  },
  {
   "cell_type": "code",
   "execution_count": 12,
   "metadata": {},
   "outputs": [],
   "source": [
    "class SpotifyAPI():\n",
    "    \n",
    "    def __init(self, client, ide, client_secret):\n",
    "        self.client_id = client_id\n",
    "        self.client_secret = client_secret\n",
    "        pass\n",
    "\n",
    "    def get_encoded_client_credential(self):\n",
    "        #Client crendentials must be encoded by base64\n",
    "        client_credentials = f\"{self.client_id}:{self.client_secret}\"\n",
    "        client_credentials_b64 = base64.b64encode(client_credentials.encode())\n",
    "        return client_credentials_b64\n",
    "\n",
    "    def get_access_toke(self):\n",
    "        token_url = \"https://accounts.spotify.com/api/token\"\n",
    "        method=\"POST\"\n",
    "        data = {\"grant_type\": \"client_credentials\"}\n",
    "\n",
    "        client_credentials_b64 = get_encoded_client_credential(self.client_id, self.client_secret)\n",
    "\n",
    "\n",
    "        headers = {\"Authorization\": f\"Basic {client_credentials_b64.decode()}\"}\n",
    "        r = requests.request(method=method, url=token_url, data=data, headers=headers)\n",
    "        r.raise_for_status()\n",
    "\n",
    "        token = r.json()[\"access_token\"]\n",
    "\n",
    "        now = datetime.datetime.now()\n",
    "        expires_in = r.json()[\"expires_in\"]\n",
    "        self.expires_at = now + datetime.timedelta(seconds = expires_in)\n",
    "\n",
    "        return token\n",
    "    \n",
    "    def search(self, q, type=\"artist\"):\n",
    "        url = \"http://api.spotify.com/v1/search\"\n",
    "        method = \"GET\"\n",
    "        bearer_token_hears = {\"Authorization\": f\"{self.token}\"}"
   ]
  },
  {
   "cell_type": "code",
   "execution_count": null,
   "metadata": {},
   "outputs": [],
   "source": []
  }
 ],
 "metadata": {
  "kernelspec": {
   "display_name": "Python 3",
   "language": "python",
   "name": "python3"
  },
  "language_info": {
   "codemirror_mode": {
    "name": "ipython",
    "version": 3
   },
   "file_extension": ".py",
   "mimetype": "text/x-python",
   "name": "python",
   "nbconvert_exporter": "python",
   "pygments_lexer": "ipython3",
   "version": "3.6.9"
  }
 },
 "nbformat": 4,
 "nbformat_minor": 2
}
