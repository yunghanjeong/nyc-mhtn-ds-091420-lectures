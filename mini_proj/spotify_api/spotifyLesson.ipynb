{
 "cells": [
  {
   "cell_type": "markdown",
   "metadata": {},
   "source": [
    "# Objectives\n",
    "YWBAT\n",
    "* use the spotify API to make calls \n",
    "* build a spotify api class in Python\n",
    "* use a decorator to refresh an api token \n",
    "\n",
    "# Outline\n",
    "* read in spotify credentials\n",
    "* make a request for an access token\n",
    "* build that out into functions\n",
    "* write spotify api class\n",
    "* write method to get an access token \n",
    "* write decorator for freshing token"
   ]
  },
  {
   "cell_type": "code",
   "execution_count": 14,
   "metadata": {},
   "outputs": [],
   "source": [
    "import os\n",
    "import requests\n",
    "import base64\n",
    "import datetime\n",
    "from functools import wraps"
   ]
  },
  {
   "cell_type": "code",
   "execution_count": 15,
   "metadata": {},
   "outputs": [],
   "source": [
    "with open(\"/Users/rcarrasco/.ssh/spotify.json\") as f:\n",
    "    d = json.load(f)\n",
    "    client_id = d['client_id']\n",
    "    client_secret = d['client_secret']"
   ]
  },
  {
   "cell_type": "code",
   "execution_count": 85,
   "metadata": {},
   "outputs": [],
   "source": [
    "class SpotifyAPI():\n",
    "    \n",
    "    def __init__(self, client_id, client_secret):\n",
    "        self.client_id = client_id\n",
    "        self.client_secret = client_secret\n",
    "        self.access_token = None\n",
    "        pass\n",
    "    \n",
    "    \n",
    "    class Decorators():\n",
    "        @staticmethod\n",
    "        def refreshToken(decorated):\n",
    "            @wraps(decorated)\n",
    "            def wrapper(api, *args, **kwargs):\n",
    "                now = datetime.datetime.now()\n",
    "                if now > api.expires_at:\n",
    "                    api.get_access_token()\n",
    "                return decorated(api, *args, **kwargs)\n",
    "            return wrapper\n",
    "    \n",
    "    \n",
    "    def get_encoded_client_credentials(self):\n",
    "        client_credentials = f\"{self.client_id}:{self.client_secret}\"\n",
    "        client_credentials_b64 = base64.b64encode(client_credentials.encode())\n",
    "        return client_credentials_b64 \n",
    "\n",
    "\n",
    "    def get_access_token(self):\n",
    "        token_url = \"https://accounts.spotify.com/api/token\"\n",
    "        method=\"POST\"\n",
    "        data = {\"grant_type\": \"client_credentials\"}\n",
    "        client_credentials_b64 = get_encoded_client_credentials(self.client_id, self.client_secret)\n",
    "        headers = {\"Authorization\": f\"Basic {client_credentials_b64.decode()}\"}\n",
    "        r = requests.request(method=method, url=token_url, data=data, headers=headers)\n",
    "        self.access_token = r.json()['access_token']\n",
    "        now = datetime.datetime.now()\n",
    "        expires_in = r.json()['expires_in']\n",
    "        self.expires_at = now + datetime.timedelta(seconds=expires_in)\n",
    "        return  \n",
    "    \n",
    "    \n",
    "    def get_bearer_token_headers(self):\n",
    "        if self.access_token is None:\n",
    "            raise Exception(\"No Access Token Found\")\n",
    "        return {\"Authorization\": f\"Bearer {self.access_token}\"}\n",
    "            \n",
    "        \n",
    "    @Decorators.refreshToken\n",
    "    def search(self, **params):\n",
    "        \"\"\"\n",
    "        **params takes in spotify arguments\n",
    "        q: (required) query term\n",
    "        type: (required) type of spotify object album, playlist, artist, etc\n",
    "        market: (optional) market of country you want to query\n",
    "        \n",
    "        example:\n",
    "        search(q='the dark knight', type='album')\n",
    "        \n",
    "        \"\"\"\n",
    "        url = \"https://api.spotify.com/v1/search\"\n",
    "        method = \"GET\"\n",
    "        bearer_token_headers = self.get_bearer_token_headers()\n",
    "        r = requests.request(method=method, url=url, headers=bearer_token_headers, params=params)\n",
    "        return r \n",
    "    \n",
    "    \n",
    "    @Decorators.refreshToken\n",
    "    def search_tracks(self, endpoint_path='tracks', track_id=None, **params):\n",
    "        url = \"https://api.spotify.com/v1\"\n",
    "        url = os.path.join(url, endpoint_path)\n",
    "        if track_id:\n",
    "            url = os.path.join(url, track_id)\n",
    "        print(url)\n",
    "    \n"
   ]
  },
  {
   "cell_type": "code",
   "execution_count": 86,
   "metadata": {},
   "outputs": [],
   "source": [
    "client = SpotifyAPI(client_id=client_id, client_secret=client_secret)"
   ]
  },
  {
   "cell_type": "code",
   "execution_count": 87,
   "metadata": {},
   "outputs": [
    {
     "name": "stdout",
     "output_type": "stream",
     "text": [
      "https://api.spotify.com/v1/tracks\n"
     ]
    }
   ],
   "source": [
    "client.search_tracks()"
   ]
  },
  {
   "cell_type": "markdown",
   "metadata": {},
   "source": [
    "# What did we learn? \n",
    "* base64 and decorators\n",
    "* spotify has a lot of endpoints and options\n",
    "* I did not know you could make a static method and call if before the function with a decorator\n",
    "* making useful function for search queries and general api things\n",
    "* wraps from functools"
   ]
  },
  {
   "cell_type": "code",
   "execution_count": null,
   "metadata": {},
   "outputs": [],
   "source": []
  }
 ],
 "metadata": {
  "kernelspec": {
   "display_name": "Python 3",
   "language": "python",
   "name": "python3"
  },
  "language_info": {
   "codemirror_mode": {
    "name": "ipython",
    "version": 3
   },
   "file_extension": ".py",
   "mimetype": "text/x-python",
   "name": "python",
   "nbconvert_exporter": "python",
   "pygments_lexer": "ipython3",
   "version": "3.6.9"
  }
 },
 "nbformat": 4,
 "nbformat_minor": 2
}
