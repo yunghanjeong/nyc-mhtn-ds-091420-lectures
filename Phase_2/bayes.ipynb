{
 "cells": [
  {
   "cell_type": "markdown",
   "metadata": {},
   "source": [
    "# Bayes' Theorem\n",
    "\n",
    "<img src=\"./img/bayes.jpg\" width = '500' alt=\"Dice\" style=\"float: center; margin-left: 10px;\" />\n",
    "<caption><left> Img Resourse:[Mattbuck](https://commons.wikimedia.org/wiki/User:Mattbuck) </left></caption>\n",
    "\n",
    "## Lesson Objectives\n",
    "\n",
    "By the end of class students will be able to:\n",
    "\n",
    "- Apply Bayes Theorem to a word problem.\n",
    "- Define and identify the likelihood, prior, and posterior\n",
    "- Explain the difference between Bayesian theory and Frequentist theory"
   ]
  },
  {
   "cell_type": "markdown",
   "metadata": {},
   "source": [
    "## Review of Conditional Probability\n",
    "\n",
    "- In probability theory, Bayes’ theorem (alternatively Bayes’ law or Bayes’ rule) describes the probability of an event, **based on prior knowledge of conditions** that might be related to the event.\n",
    "\n",
    "- In mathematical notation it is expressed as:\n",
    "\n",
    "$$ P(A|B) = \\frac{P(A)P(B|A)}{P(B)} $$\n",
    "\n",
    "__Notation__\n",
    "\n",
    "$P(A|B)$ -- probability of A given B\n",
    "\n",
    "$P(B|A)$ -- probability of B given A\n",
    "\n",
    "$P(A)$ -- probability of A\n",
    "\n",
    "$P(B)$ -- probability of B\n",
    "\n",
    "\n",
    "__Note:__ In fact, the reason why such relation holds is easy to show: The main ingredient is the definition of conditional probability:"
   ]
  },
  {
   "cell_type": "markdown",
   "metadata": {},
   "source": [
    "$$ P(A|B) = \\frac{P(A\\cap B)}{P(B)}$$"
   ]
  },
  {
   "cell_type": "markdown",
   "metadata": {},
   "source": [
    "$$\n",
    " \\left.\n",
    "    \\begin{array} \\\\\n",
    "        P(A|B) = \\frac{P(A \\cap B)}{P(B)} \\Rightarrow  P(A|B) P(B) =P(A\\cap B) \\\\\n",
    "        P(B|A) = \\frac{P(B\\cap A)}{P(A)} \\Rightarrow    P(B|A)P(A) =P(B \\cap A) \n",
    "    \\end{array}\n",
    " \\right \\}= P(A|B)  =\\frac{P(A)P(B|A)}{P(B)}\\\\\n",
    "$$\n",
    "\n",
    "Where:\n",
    "\n",
    "$P(A\\cap B)$ -- the probability of the intersection of A and B\n",
    "\n",
    "$P(B\\cap A)$ -- the probability of the intersection of B and A\n",
    "\n"
   ]
  },
  {
   "cell_type": "markdown",
   "metadata": {},
   "source": [
    "\n",
    "[3 Blue 1 Brown Video](https://www.youtube.com/watch?v=HZGCoVF3YvM)\n"
   ]
  },
  {
   "cell_type": "markdown",
   "metadata": {},
   "source": [
    "## Family with two children"
   ]
  },
  {
   "cell_type": "markdown",
   "metadata": {},
   "source": [
    "[Example is from: Data Science From Scratch](https://www.amazon.com/Data-Science-Scratch-Principles-Python/dp/149190142X)"
   ]
  },
  {
   "cell_type": "markdown",
   "metadata": {},
   "source": [
    "- Assume that each child is equally likely to be a girl or boy\n",
    "\n",
    "- The gender of the second child is independent of the gender of the first child\n"
   ]
  },
  {
   "cell_type": "markdown",
   "metadata": {},
   "source": [
    "__Q:__ Now we can ask what is the probability of the event “both children are girls” (B) conditional on the event “the older child is a girl” (G)?\n",
    "\n",
    "\n",
    "$P(two girls | older is girl) = \\frac{P(two girls\\cap older is girl}{P(older is girl)}$\n",
    "\n",
    "\n",
    "We have 4 possible ways in which we could have 2 children:\n",
    "- Boy, Girl\n",
    "- Boy, Boy\n",
    "- Girl, Boy\n",
    "- Girl, Girl"
   ]
  },
  {
   "cell_type": "code",
   "execution_count": 3,
   "metadata": {},
   "outputs": [
    {
     "data": {
      "text/plain": [
       "0.5"
      ]
     },
     "execution_count": 3,
     "metadata": {},
     "output_type": "execute_result"
    }
   ],
   "source": [
    "## your answer here\n",
    "\n",
    "## Here naming is just for the instructional purposes\n",
    "## Don't name your variables in this way in your own code!\n",
    "\n",
    "probability_B = 1/4\n",
    "\n",
    "probability_G = 1/2\n",
    "\n",
    "probability_B_and_G = 1/4\n",
    "\n",
    "probability_B_given_G = probability_B_and_G/probability_G\n",
    "\n",
    "probability_B_given_G\n"
   ]
  },
  {
   "cell_type": "markdown",
   "metadata": {},
   "source": [
    "__Q:__ We could also ask about the probability of the event “both children are girls” conditional on the event “at least one of the children is a girl” (L)."
   ]
  },
  {
   "cell_type": "code",
   "execution_count": 2,
   "metadata": {},
   "outputs": [
    {
     "data": {
      "text/plain": [
       "0.3333333333333333"
      ]
     },
     "execution_count": 2,
     "metadata": {},
     "output_type": "execute_result"
    }
   ],
   "source": [
    "probability_B = 1/4 #both girls\n",
    "\n",
    "probability_L = 3/4 #at least 1 is a girl\n",
    "\n",
    "probability_B_and_L = 1/4\n",
    "\n",
    "probability_B_given_L = probability_B_and_L/probability_L\n",
    "\n",
    "probability_B_given_L"
   ]
  },
  {
   "cell_type": "markdown",
   "metadata": {},
   "source": [
    "Let's simulate this situation"
   ]
  },
  {
   "cell_type": "code",
   "execution_count": 4,
   "metadata": {},
   "outputs": [
    {
     "name": "stdout",
     "output_type": "stream",
     "text": [
      "P(both | older): 0.5007089325501317\n",
      "P(both | either):  0.3311897106109325\n"
     ]
    }
   ],
   "source": [
    "import random\n",
    "def random_kid():\n",
    "    return random.choice([\"boy\", \"girl\"])\n",
    "\n",
    "both_girls = 0\n",
    "older_girl = 0\n",
    "either_girl = 0\n",
    "\n",
    "random.seed(0)\n",
    "for _ in range(10000):\n",
    "    younger = random_kid()\n",
    "    older = random_kid()\n",
    "    if older == \"girl\":\n",
    "        older_girl += 1\n",
    "    if older == \"girl\" and younger == \"girl\":\n",
    "        both_girls += 1\n",
    "    if older == \"girl\" or younger == \"girl\":\n",
    "        either_girl += 1\n",
    "\n",
    "print(\"P(both | older):\", both_girls / older_girl )     # 0.514 ~ 1/2\n",
    "print(\"P(both | either): \", both_girls / either_girl)   # 0.342 ~ 1/3"
   ]
  },
  {
   "cell_type": "markdown",
   "metadata": {},
   "source": [
    "## Discussion of the terms in the theorem\n",
    "\n",
    "$P(A|B)$ -- Posterior:  the probability that A is true after the data is considered\n",
    "\n",
    "$P(B|A)$ -- Likelihood: the evidence about A provided by the data\n",
    "\n",
    "$P(A)$ -- Prior:  the probability that A is true before the data is considered\n",
    "\n"
   ]
  },
  {
   "cell_type": "markdown",
   "metadata": {},
   "source": [
    "\n",
    "# Bayesian vs Frequentist\n",
    "\n",
    "- Most people want statistics to tell them the probability of their hypothesis given their data \n",
    "- Bayes will tell you the relative probability of your hypothesis given your data\n",
    "- Frequentism will tell you the “objective” probability of your data give your (null) hypothesis\n",
    "\n",
    "\n",
    "Additionally,\n",
    "- Bayesian statistics assume data is fixed and the parameters will vary\n",
    "- Frequestist statistics assume data vary and parameters are fixed\n"
   ]
  },
  {
   "cell_type": "markdown",
   "metadata": {},
   "source": [
    "1. A **Frequentist** Approach to the Coin Toss Experiment\n",
    "\n",
    " - We set a parameter for having a Head for one coin toss (say p)\n",
    " \n",
    " - Collect a data (say toss the coin many times)\n",
    " \n",
    " - Then calculate the probability of getting such data with this parameters.\n",
    " \n",
    "2. A **Bayesian** Approach to the Coin Toss Experiment:\n",
    "\n",
    " - You start with an prior about the parameter (p: probability of getting a H in this case and let's say p can be any number between 0 and 1 and any number is equally likely.)\n",
    "    \n",
    " - Collect data\n",
    "    \n",
    " - Then adjust your prior belief about the distribution of the parameter p.\n",
    "\n",
    "\n",
    "[Intuitive Example of Difference between Bayesian and Frequentist Statistics](https://youtu.be/r76oDIvwETI)\n",
    "\n",
    "[Coin Flip- Bayesian vs Frequentist](https://youtu.be/YsJ4W1k0hUg)\n",
    "\n",
    "[World Cup Win Bayesian vs Frequentist](https://youtu.be/XJqOEvzUG38)\n",
    "\n"
   ]
  },
  {
   "cell_type": "markdown",
   "metadata": {},
   "source": [
    "## Practice!\n",
    "A company has found that 80% of its new management hires are meeting expectations,\n",
    "while 20% are not. Of the satisfactory hires, 75% had sales experience, while of the\n",
    "unsatisfactory hires, 55% had sales experience. What is the probability that a new hire with\n",
    "sales experience will meet expectations? \n",
    "\n",
    "\n",
    "#### In your group do the following:\n",
    "\n",
    "- Write out the definition of each term in the context of this scenario:\n",
    "    - posterior\n",
    "    - prior\n",
    "    - likelihood\n",
    "    \n",
    "- Using Bayes Theorem solve for the probability that a new hire with sales experience will meet expectations?"
   ]
  },
  {
   "cell_type": "markdown",
   "metadata": {},
   "source": [
    "Posterior: What is the probabiliy of new hire will meet expectation GIVEN that they have sales experience? P(X|E)\n",
    "\n",
    "Prior: Probability of meeting expectation P(X)\n",
    "\n",
    "Likelihood: Probability of having experience GIVEN expectation has been met P(E|X)"
   ]
  },
  {
   "cell_type": "code",
   "execution_count": 6,
   "metadata": {},
   "outputs": [
    {
     "data": {
      "text/plain": [
       "0.8450704225352113"
      ]
     },
     "execution_count": 6,
     "metadata": {},
     "output_type": "execute_result"
    }
   ],
   "source": [
    "# your code here\n",
    "prior = 0.8 #satisfactory level\n",
    "likelihood1 = 0.75 #having experience GIVEN satisfactory\n",
    "likelihood2 = 0.55 #having experience GIVEN UNsatifactory\n",
    "\n",
    "posterior = (prior * likelihood1)/((prior * likelihood1)+((1-prior)*likelihood2))\n",
    "posterior"
   ]
  },
  {
   "cell_type": "markdown",
   "metadata": {},
   "source": [
    "## More Practice!\n",
    "\n",
    "A certain disease has an incidence rate of 2%. If the false negative rate is 10% and the\n",
    "false positive rate is 1%, compute the probability that a person who tests positive actually\n",
    "has the disease.\n",
    "\n",
    "Imagine 10,000 people who are tested. Of these 10,000, 200 will have the disease; 10% of\n",
    "them, or 20, will test negative and the remaining 180 will test positive. Of the 9800 who do\n",
    "not have the disease, 1% of them, or 98, will test positive. \n",
    "\n",
    "#### In your group do the following:\n",
    "\n",
    "- Write out the definition of each term in the context of this scenario:\n",
    "    - posterior\n",
    "    - prior\n",
    "    - likelihood\n",
    "    \n",
    "- Using Bayes Theorem solve for the probability that a person who tests positively actually has the disease\n"
   ]
  },
  {
   "cell_type": "markdown",
   "metadata": {},
   "source": [
    "Posterior: Having the disease GIVEN positive test #P(A|B) what we want to find\n",
    "\n",
    "Prior: Having the disease #P(A) = 0.02\n",
    "\n",
    "Likelihood: Positive test GIVEN having the disease #P(B|A) = 0.99 NOT false positive"
   ]
  },
  {
   "cell_type": "code",
   "execution_count": 9,
   "metadata": {},
   "outputs": [
    {
     "data": {
      "text/plain": [
       "0.6474820143884893"
      ]
     },
     "execution_count": 9,
     "metadata": {},
     "output_type": "execute_result"
    }
   ],
   "source": [
    "# your code here\n",
    "prior = 0.02\n",
    "lh = 0.9\n",
    "lh2 = 0.01\n",
    "\n",
    "ans = (prior * lh)/(((prior * lh))+((1-prior)*lh2))\n",
    "ans "
   ]
  },
  {
   "cell_type": "code",
   "execution_count": null,
   "metadata": {},
   "outputs": [],
   "source": []
  }
 ],
 "metadata": {
  "kernelspec": {
   "display_name": "Python 3",
   "language": "python",
   "name": "python3"
  },
  "language_info": {
   "codemirror_mode": {
    "name": "ipython",
    "version": 3
   },
   "file_extension": ".py",
   "mimetype": "text/x-python",
   "name": "python",
   "nbconvert_exporter": "python",
   "pygments_lexer": "ipython3",
   "version": "3.8.5"
  },
  "toc": {
   "base_numbering": 1,
   "nav_menu": {},
   "number_sections": true,
   "sideBar": true,
   "skip_h1_title": false,
   "title_cell": "Table of Contents",
   "title_sidebar": "Contents",
   "toc_cell": false,
   "toc_position": {},
   "toc_section_display": true,
   "toc_window_display": false
  }
 },
 "nbformat": 4,
 "nbformat_minor": 4
}
