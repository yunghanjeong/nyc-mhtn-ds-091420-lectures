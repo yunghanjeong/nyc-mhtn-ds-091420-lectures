{
 "cells": [
  {
   "cell_type": "markdown",
   "metadata": {},
   "source": [
    "## Starting off\n",
    "\n",
    "Can you explain what the bias-variance tradeoff is and how it affects your modelling process?"
   ]
  },
  {
   "cell_type": "markdown",
   "metadata": {},
   "source": [
    "# Regularization \n",
    "Agenda today:\n",
    "- Reviewing overfitting & underfitting, bias variance tradeoff\n",
    "- Ridge regression \n",
    "- Lasso regression \n",
    "- AIC and BIC"
   ]
  },
  {
   "cell_type": "markdown",
   "metadata": {},
   "source": [
    "# Background"
   ]
  },
  {
   "cell_type": "markdown",
   "metadata": {},
   "source": [
    "## Bias vs Variance Tradeoff"
   ]
  },
  {
   "cell_type": "markdown",
   "metadata": {},
   "source": [
    "<img src =\"resources/rsme_poly_2.png\" width = \"500\">"
   ]
  },
  {
   "cell_type": "markdown",
   "metadata": {},
   "source": [
    "### Using the chart above, determine what is the optimal number of degrees for our polynomial features for this model? In general, how does increasing the polynomial degree relate to the Bias/Variance tradeoff?  (Note that this graph shows RMSE and not MSE.)"
   ]
  },
  {
   "cell_type": "code",
   "execution_count": 1,
   "metadata": {},
   "outputs": [],
   "source": [
    "# Your answer here"
   ]
  },
  {
   "cell_type": "markdown",
   "metadata": {},
   "source": [
    "## Cost Function"
   ]
  },
  {
   "cell_type": "markdown",
   "metadata": {},
   "source": [
    "Before we dive into regularization, let's (re)visit a concept called **Cost Function**. A cost function is a measure of how good or bad the model is at estimating the relationship of our $X$ and $y$ variables. Usually, it is expressed in the difference between actual values and predicted values. For simple linear regression, the cost function is represented as:\n",
    "<center> $$ \\text{cost_function}= \\sum_{i=1}^n(y_i - \\hat{y})^2 = \\sum_{i=1}^n(y_i - \\sum( bx + b_0))^2$$\n",
    "\n",
    "\n",
    "For linear regression with multiple predictors, the cost function is expressed as:\n",
    "$$ \\text{cost_function}= \\sum_{i=1}^n(y_i - \\hat{y})^2 = \\sum_{i=1}^n(y_i - \\sum_{j=1}^k(m_jx_{ij} + b))^2$$\n",
    "\n",
    "Where k stands for number of predictors at jth term.\n",
    "\n",
    "***Our goal in fitting the model is to find the terms of the model that minimizes this cost_function.***\n",
    "\n",
    "\n",
    "\n",
    "<center> Minimize(Loss(Data|Model))"
   ]
  },
  {
   "cell_type": "markdown",
   "metadata": {},
   "source": [
    "## Part I. Regularizing a Model\n",
    "Even though Lasso and Ridge regressions are only used in regression, regularizing a model is a common procedure in the process of building machine learning models. It is an effective procedure for tackling the problem of overfitting. Generally speaking, applying regularization technique introduces some **bias** to the model, but reduces the **variance**, and therefore results in better performance in testing data. As you will see later in this module, models built from various classification algorithms often require tuning using regularization in order to overcome overfitting. \n",
    "\n",
    "What is regularization in the context of regression? As we recall, as the complexity of model increases, the model overfits and performance on the testing set decreases. Regularization techniques *shrinks* the regression coefficients such that the coefficients are not affecting the outcomes as much as they originally would have. In other words, using regularization applies a *penalty* to the coefficients of your regression model. Let's see how exactly Ridge regression and Lasso regression work to reduce variances in regression models and result in better fit. "
   ]
  },
  {
   "cell_type": "markdown",
   "metadata": {},
   "source": [
    "***We will now minimize loss+complexity which is call structural risk minimization:***\n",
    "<center> Minimize(Loss(Data|Model) + complexity(Model))"
   ]
  },
  {
   "cell_type": "markdown",
   "metadata": {},
   "source": [
    "<img src=\"https://media.giphy.com/media/26ufdipQqU2lhNA4g/giphy.gif\" >"
   ]
  },
  {
   "cell_type": "markdown",
   "metadata": {},
   "source": [
    "## Part II. Ridge Regression (L2 Norm)\n"
   ]
  },
  {
   "cell_type": "markdown",
   "metadata": {},
   "source": [
    "\n",
    "The ridge regression applies a penalizing parameter $\\lambda$, such that a small bias will be introduced to the entire model depending on the value of $\\lambda$, which is called a *hyperparameter*. \n",
    "\n",
    "$ \\text{cost_function_ridge}= \\sum_{i=1}^n(y_i - \\hat{y})^2 = \\sum_{i=1}^n(y_i - \\sum_{j=1}^k(\\beta_jx_{ij} + b))^2 + \\lambda \\sum_{j=1}^p \\beta_j^2$\n",
    "\n",
    "The result of applying such a penalizing parameter to the cost function, resulting a different regression model that minimizing the residual sum of square **and** the term $\\lambda \\sum_{j=1}^p \\beta_j^2$. \n",
    "\n",
    "The Ridge regression improves the fit of the original regression line by introducing some bias/changing the slope and intercept of the original line. Recall the way we interpret a regression model Y = mx + b: with every unit increase in x, the outcome y increase by m unit. Therefore, the bigger the coefficient m is, the more the outcome is subjected to changes in predictor x. Ridge regression works by reducing the magnitude of the coefficient m and therefore reducing the effect the predictors have on the outcome. Let's look at a simple example.\n",
    "\n",
    "The ridge regression penalty term contains all of the coefficients squared from the original regression line except for the intercept term. "
   ]
  },
  {
   "cell_type": "markdown",
   "metadata": {},
   "source": [
    "## Part III. Lambda Amount\n",
    "\n",
    "Performing L2 regularization has the following effect on a model\n",
    "\n",
    "- Encourages weight values toward 0 (but not exactly 0)\n",
    "- Encourages the mean of the weights toward 0, with a normal (bell-shaped or Gaussian) distribution.\n",
    "\n",
    "Increasing the lambda value strengthens the regularization effect. For example, the histogram of weights for a high value of lambda might look as shown below.\n",
    "\n"
   ]
  },
  {
   "cell_type": "markdown",
   "metadata": {},
   "source": [
    "<img src =\"resources/HighLambda.svg\" width = \"500\">"
   ]
  },
  {
   "cell_type": "markdown",
   "metadata": {},
   "source": [
    "Lowering the value of lambda tends to yield a flatter histogram, as shown below.\n",
    "\n",
    "<img src =\"resources/LowLambda.svg\" width = \"500\">"
   ]
  },
  {
   "cell_type": "markdown",
   "metadata": {},
   "source": [
    "When choosing a lambda value, the goal is to strike the right balance between simplicity and training-data fit:\n",
    "\n",
    "- If your lambda value is too high, your model will be simple, but you run the risk of underfitting your data. Your model won't learn enough about the training data to make useful predictions.\n",
    "\n",
    "- If your lambda value is too low, your model will be more complex, and you run the risk of overfitting your data. Your model will learn too much about the particularities of the training data, and won't be able to generalize to new data."
   ]
  },
  {
   "cell_type": "markdown",
   "metadata": {},
   "source": [
    "## Part IV. Lasso Regression (L1 Norm)\n",
    "Lasso regression is very similar to Ridge regression except for one difference - the penalty term is not squared but the absolute values of the coefficients muliplied by lambda, expressed by:\n",
    "\n",
    "$ \\text{cost_function_lasso}= \\sum_{i=1}^n(y_i - \\hat{y})^2 = \\sum_{i=1}^n(y_i - \\sum_{j=1}^k(\\beta_jx_{ij} + b))^2 + \\lambda \\sum_{j=1}^p \\mid \\beta_j \\mid$\n",
    "\n",
    "The biggest difference in Ridge and Lasso is that Lasso simultaneously performs variable selection: some coefficients are shrunk to 0, rendering them nonexistence in the original regression model. Therefore, Lasso regression performs very well when you have higher dimensional dataset where some predictors are useless; whereas Ridge works best when all the predictors are needed. "
   ]
  },
  {
   "cell_type": "markdown",
   "metadata": {},
   "source": [
    "https://developers.google.com/machine-learning/crash-course/regularization-for-simplicity/playground-exercise-examining-l2-regularization"
   ]
  },
  {
   "cell_type": "markdown",
   "metadata": {},
   "source": [
    "# Applied: Comparing different models"
   ]
  },
  {
   "cell_type": "code",
   "execution_count": 2,
   "metadata": {
    "scrolled": true
   },
   "outputs": [],
   "source": [
    "# implementation \n",
    "from sklearn.linear_model import LinearRegression\n",
    "from sklearn.preprocessing import MinMaxScaler, StandardScaler\n",
    "from sklearn.linear_model import Lasso, Ridge, LinearRegression\n",
    "from sklearn.model_selection import train_test_split\n",
    "from sklearn.metrics import mean_squared_error\n",
    "import pandas as pd\n",
    "import numpy as np\n",
    "import matplotlib.pyplot as plt\n",
    "import seaborn as sns\n",
    "\n",
    "data = sns.load_dataset('mpg')\n",
    "\n",
    "#data = pd.read_csv(\"https://raw.githubusercontent.com/learn-co-curriculum/dsc-2-24-09-ridge-and-lasso-regression/master/auto-mpg.csv\") \n",
    "# data = data.sample(50)\n",
    "y = data[[\"mpg\"]]\n",
    "X = data.drop([\"mpg\", \"name\", \"origin\"], axis=1)\n"
   ]
  },
  {
   "cell_type": "code",
   "execution_count": 3,
   "metadata": {},
   "outputs": [
    {
     "data": {
      "text/plain": [
       "mpg             0\n",
       "cylinders       0\n",
       "displacement    0\n",
       "horsepower      6\n",
       "weight          0\n",
       "acceleration    0\n",
       "model_year      0\n",
       "origin          0\n",
       "name            0\n",
       "dtype: int64"
      ]
     },
     "execution_count": 3,
     "metadata": {},
     "output_type": "execute_result"
    }
   ],
   "source": [
    "data.isnull().sum()"
   ]
  },
  {
   "cell_type": "markdown",
   "metadata": {},
   "source": [
    "### Perform a train test split"
   ]
  },
  {
   "cell_type": "code",
   "execution_count": 33,
   "metadata": {},
   "outputs": [],
   "source": [
    "X_train , X_test, y_train, y_test = train_test_split(X, y, test_size=0.25, random_state=12)\n"
   ]
  },
  {
   "cell_type": "code",
   "execution_count": 34,
   "metadata": {},
   "outputs": [
    {
     "data": {
      "text/plain": [
       "cylinders\n",
       "3    105.000000\n",
       "4     77.561290\n",
       "5     90.000000\n",
       "6    100.116667\n",
       "8    159.726027\n",
       "Name: horsepower, dtype: float64"
      ]
     },
     "execution_count": 34,
     "metadata": {},
     "output_type": "execute_result"
    }
   ],
   "source": [
    "X_train.groupby('cylinders')['horsepower'].mean()"
   ]
  },
  {
   "cell_type": "markdown",
   "metadata": {},
   "source": [
    "### Handle missing values"
   ]
  },
  {
   "cell_type": "code",
   "execution_count": 35,
   "metadata": {},
   "outputs": [
    {
     "name": "stdout",
     "output_type": "stream",
     "text": [
      "{3: 105.0, 4: 77.6, 5: 90.0, 6: 100.1, 8: 159.7}\n"
     ]
    },
    {
     "name": "stderr",
     "output_type": "stream",
     "text": [
      "/anaconda3/lib/python3.7/site-packages/pandas/core/generic.py:6245: SettingWithCopyWarning: \n",
      "A value is trying to be set on a copy of a slice from a DataFrame\n",
      "\n",
      "See the caveats in the documentation: https://pandas.pydata.org/pandas-docs/stable/user_guide/indexing.html#returning-a-view-versus-a-copy\n",
      "  self._update_inplace(new_data)\n"
     ]
    }
   ],
   "source": [
    "cyl_hp = X_train.groupby('cylinders')['horsepower'].mean().round(1).to_dict()\n",
    "print(cyl_hp)\n",
    "\n",
    "X_train['horsepower'].fillna(X_train['cylinders'].map(cyl_hp), inplace=True)\n"
   ]
  },
  {
   "cell_type": "markdown",
   "metadata": {},
   "source": [
    "### Scale the data by fitting the scaler to the train set and then transforming the train and test set.  "
   ]
  },
  {
   "cell_type": "code",
   "execution_count": 36,
   "metadata": {},
   "outputs": [],
   "source": [
    "scale = StandardScaler()\n",
    "transformed = scale.fit_transform(X_train)\n",
    "X_train = pd.DataFrame(transformed, columns = X_train.columns)"
   ]
  },
  {
   "cell_type": "code",
   "execution_count": 37,
   "metadata": {},
   "outputs": [],
   "source": [
    "transformed = scale.transform(X_test)\n",
    "X_test = pd.DataFrame(transformed, columns = X_train.columns)"
   ]
  },
  {
   "cell_type": "code",
   "execution_count": 38,
   "metadata": {},
   "outputs": [
    {
     "data": {
      "text/html": [
       "<div>\n",
       "<style scoped>\n",
       "    .dataframe tbody tr th:only-of-type {\n",
       "        vertical-align: middle;\n",
       "    }\n",
       "\n",
       "    .dataframe tbody tr th {\n",
       "        vertical-align: top;\n",
       "    }\n",
       "\n",
       "    .dataframe thead th {\n",
       "        text-align: right;\n",
       "    }\n",
       "</style>\n",
       "<table border=\"1\" class=\"dataframe\">\n",
       "  <thead>\n",
       "    <tr style=\"text-align: right;\">\n",
       "      <th></th>\n",
       "      <th>cylinders</th>\n",
       "      <th>displacement</th>\n",
       "      <th>horsepower</th>\n",
       "      <th>weight</th>\n",
       "      <th>acceleration</th>\n",
       "      <th>model_year</th>\n",
       "    </tr>\n",
       "  </thead>\n",
       "  <tbody>\n",
       "    <tr>\n",
       "      <th>count</th>\n",
       "      <td>100.000000</td>\n",
       "      <td>100.000000</td>\n",
       "      <td>100.000000</td>\n",
       "      <td>100.000000</td>\n",
       "      <td>100.000000</td>\n",
       "      <td>100.000000</td>\n",
       "    </tr>\n",
       "    <tr>\n",
       "      <th>mean</th>\n",
       "      <td>0.155223</td>\n",
       "      <td>0.178509</td>\n",
       "      <td>0.158143</td>\n",
       "      <td>0.214941</td>\n",
       "      <td>-0.272926</td>\n",
       "      <td>0.116778</td>\n",
       "    </tr>\n",
       "    <tr>\n",
       "      <th>std</th>\n",
       "      <td>1.041057</td>\n",
       "      <td>1.011772</td>\n",
       "      <td>0.925539</td>\n",
       "      <td>1.014045</td>\n",
       "      <td>0.855078</td>\n",
       "      <td>1.036493</td>\n",
       "    </tr>\n",
       "    <tr>\n",
       "      <th>min</th>\n",
       "      <td>-1.422374</td>\n",
       "      <td>-1.145896</td>\n",
       "      <td>-1.299242</td>\n",
       "      <td>-1.518663</td>\n",
       "      <td>-2.386345</td>\n",
       "      <td>-1.613101</td>\n",
       "    </tr>\n",
       "    <tr>\n",
       "      <th>25%</th>\n",
       "      <td>-0.827054</td>\n",
       "      <td>-0.673170</td>\n",
       "      <td>-0.477167</td>\n",
       "      <td>-0.621899</td>\n",
       "      <td>-0.851302</td>\n",
       "      <td>-0.793253</td>\n",
       "    </tr>\n",
       "    <tr>\n",
       "      <th>50%</th>\n",
       "      <td>0.363584</td>\n",
       "      <td>-0.113617</td>\n",
       "      <td>-0.143199</td>\n",
       "      <td>0.026722</td>\n",
       "      <td>-0.269044</td>\n",
       "      <td>0.026595</td>\n",
       "    </tr>\n",
       "    <tr>\n",
       "      <th>75%</th>\n",
       "      <td>1.554223</td>\n",
       "      <td>1.092317</td>\n",
       "      <td>0.942196</td>\n",
       "      <td>0.895220</td>\n",
       "      <td>0.233815</td>\n",
       "      <td>0.914763</td>\n",
       "    </tr>\n",
       "    <tr>\n",
       "      <th>max</th>\n",
       "      <td>1.554223</td>\n",
       "      <td>2.558732</td>\n",
       "      <td>3.016651</td>\n",
       "      <td>2.415910</td>\n",
       "      <td>1.848257</td>\n",
       "      <td>1.666290</td>\n",
       "    </tr>\n",
       "  </tbody>\n",
       "</table>\n",
       "</div>"
      ],
      "text/plain": [
       "        cylinders  displacement  horsepower      weight  acceleration  \\\n",
       "count  100.000000    100.000000  100.000000  100.000000    100.000000   \n",
       "mean     0.155223      0.178509    0.158143    0.214941     -0.272926   \n",
       "std      1.041057      1.011772    0.925539    1.014045      0.855078   \n",
       "min     -1.422374     -1.145896   -1.299242   -1.518663     -2.386345   \n",
       "25%     -0.827054     -0.673170   -0.477167   -0.621899     -0.851302   \n",
       "50%      0.363584     -0.113617   -0.143199    0.026722     -0.269044   \n",
       "75%      1.554223      1.092317    0.942196    0.895220      0.233815   \n",
       "max      1.554223      2.558732    3.016651    2.415910      1.848257   \n",
       "\n",
       "       model_year  \n",
       "count  100.000000  \n",
       "mean     0.116778  \n",
       "std      1.036493  \n",
       "min     -1.613101  \n",
       "25%     -0.793253  \n",
       "50%      0.026595  \n",
       "75%      0.914763  \n",
       "max      1.666290  "
      ]
     },
     "execution_count": 38,
     "metadata": {},
     "output_type": "execute_result"
    }
   ],
   "source": [
    "X_test.describe()"
   ]
  },
  {
   "cell_type": "code",
   "execution_count": 39,
   "metadata": {},
   "outputs": [
    {
     "data": {
      "text/plain": [
       "cylinders       0\n",
       "displacement    0\n",
       "horsepower      0\n",
       "weight          0\n",
       "acceleration    0\n",
       "model_year      0\n",
       "dtype: int64"
      ]
     },
     "execution_count": 39,
     "metadata": {},
     "output_type": "execute_result"
    }
   ],
   "source": [
    "X_test.isnull().sum()"
   ]
  },
  {
   "cell_type": "code",
   "execution_count": 40,
   "metadata": {},
   "outputs": [
    {
     "data": {
      "text/plain": [
       "cylinders       0\n",
       "displacement    0\n",
       "horsepower      0\n",
       "weight          0\n",
       "acceleration    0\n",
       "model_year      0\n",
       "dtype: int64"
      ]
     },
     "execution_count": 40,
     "metadata": {},
     "output_type": "execute_result"
    }
   ],
   "source": [
    "X_train.isnull().sum()"
   ]
  },
  {
   "cell_type": "markdown",
   "metadata": {},
   "source": [
    "### Build a Ridge, Lasso and regular linear regression model. \n",
    "***Note how in scikit learn, the regularization parameter is denoted by alpha (and not lambda)***\n"
   ]
  },
  {
   "cell_type": "code",
   "execution_count": 41,
   "metadata": {},
   "outputs": [
    {
     "data": {
      "text/plain": [
       "Lasso(alpha=0.1, copy_X=True, fit_intercept=True, max_iter=1000,\n",
       "      normalize=False, positive=False, precompute=False, random_state=None,\n",
       "      selection='cyclic', tol=0.0001, warm_start=False)"
      ]
     },
     "execution_count": 41,
     "metadata": {},
     "output_type": "execute_result"
    }
   ],
   "source": [
    "# linear regression model\n",
    "lin = LinearRegression()\n",
    "lin.fit(X_train, y_train)\n",
    "\n",
    "#ridge model\n",
    "ridge_01 = Ridge(alpha=0.1)\n",
    "ridge_01.fit(X_train, y_train)\n",
    "\n",
    "#lasso model\n",
    "lasso_01 = Lasso(alpha=0.1)\n",
    "lasso_01.fit(X_train, y_train)\n"
   ]
  },
  {
   "cell_type": "markdown",
   "metadata": {},
   "source": [
    "#### Unpenalized Regression"
   ]
  },
  {
   "cell_type": "code",
   "execution_count": 42,
   "metadata": {},
   "outputs": [
    {
     "name": "stdout",
     "output_type": "stream",
     "text": [
      "The sum of coefficients [34.72125377]\n"
     ]
    }
   ],
   "source": [
    "print(\"The sum of coefficients\", abs(lin.coef_).sum()+ abs(lin.intercept_))\n"
   ]
  },
  {
   "cell_type": "markdown",
   "metadata": {},
   "source": [
    "#### Lasso Regression"
   ]
  },
  {
   "cell_type": "code",
   "execution_count": 43,
   "metadata": {},
   "outputs": [
    {
     "name": "stdout",
     "output_type": "stream",
     "text": [
      "The sum of coefficients [32.1095765]\n"
     ]
    }
   ],
   "source": [
    "print(\"The sum of coefficients\", abs(lasso_01.coef_).sum()+ abs(lasso_01.intercept_))\n"
   ]
  },
  {
   "cell_type": "markdown",
   "metadata": {},
   "source": [
    "#### Ridge Regression"
   ]
  },
  {
   "cell_type": "code",
   "execution_count": 44,
   "metadata": {
    "scrolled": true
   },
   "outputs": [
    {
     "name": "stdout",
     "output_type": "stream",
     "text": [
      "The sum of coefficients [34.65936473]\n"
     ]
    }
   ],
   "source": [
    "print(\"The sum of coefficients\", abs(ridge_01.coef_).sum()+ abs(ridge_01.intercept_))\n"
   ]
  },
  {
   "cell_type": "markdown",
   "metadata": {},
   "source": [
    "Create a dataframe with all of the coefficients for the models to compare the total value for coefficients\n"
   ]
  },
  {
   "cell_type": "code",
   "execution_count": 45,
   "metadata": {},
   "outputs": [],
   "source": [
    "a = pd.DataFrame(data=lin.coef_ , columns=X_test.columns).T\n",
    "b = pd.DataFrame(data=lasso_01.coef_ , index=X_test.columns)\n",
    "c = pd.DataFrame(data=ridge_01.coef_ , columns=X_test.columns).T"
   ]
  },
  {
   "cell_type": "code",
   "execution_count": 46,
   "metadata": {},
   "outputs": [],
   "source": [
    "all_coefs = pd.concat([a,b,c], axis=1)\n",
    "all_coefs.columns = ['Unreguralized', 'Lasso','Ridge']\n",
    "\n",
    "intercepts= [*lin.intercept_,*lasso_01.intercept_,*ridge_01.intercept_]\n",
    "\n",
    "intercept_df = pd.DataFrame([intercepts], index=['intercept'], columns = ['Unreguralized', 'Lasso','Ridge'])\n",
    "\n",
    "final = pd.concat([all_coefs, intercept_df])"
   ]
  },
  {
   "cell_type": "code",
   "execution_count": 47,
   "metadata": {},
   "outputs": [
    {
     "data": {
      "text/html": [
       "<div>\n",
       "<style scoped>\n",
       "    .dataframe tbody tr th:only-of-type {\n",
       "        vertical-align: middle;\n",
       "    }\n",
       "\n",
       "    .dataframe tbody tr th {\n",
       "        vertical-align: top;\n",
       "    }\n",
       "\n",
       "    .dataframe thead th {\n",
       "        text-align: right;\n",
       "    }\n",
       "</style>\n",
       "<table border=\"1\" class=\"dataframe\">\n",
       "  <thead>\n",
       "    <tr style=\"text-align: right;\">\n",
       "      <th></th>\n",
       "      <th>Unreguralized</th>\n",
       "      <th>Lasso</th>\n",
       "      <th>Ridge</th>\n",
       "    </tr>\n",
       "  </thead>\n",
       "  <tbody>\n",
       "    <tr>\n",
       "      <th>cylinders</th>\n",
       "      <td>-0.136971</td>\n",
       "      <td>-0.000000</td>\n",
       "      <td>-0.137331</td>\n",
       "    </tr>\n",
       "    <tr>\n",
       "      <th>displacement</th>\n",
       "      <td>0.738396</td>\n",
       "      <td>-0.000000</td>\n",
       "      <td>0.720956</td>\n",
       "    </tr>\n",
       "    <tr>\n",
       "      <th>horsepower</th>\n",
       "      <td>0.417693</td>\n",
       "      <td>-0.000000</td>\n",
       "      <td>0.406697</td>\n",
       "    </tr>\n",
       "    <tr>\n",
       "      <th>weight</th>\n",
       "      <td>-6.374134</td>\n",
       "      <td>-5.530301</td>\n",
       "      <td>-6.349448</td>\n",
       "    </tr>\n",
       "    <tr>\n",
       "      <th>acceleration</th>\n",
       "      <td>0.387689</td>\n",
       "      <td>0.070772</td>\n",
       "      <td>0.381652</td>\n",
       "    </tr>\n",
       "    <tr>\n",
       "      <th>model_year</th>\n",
       "      <td>2.904962</td>\n",
       "      <td>2.747094</td>\n",
       "      <td>2.901871</td>\n",
       "    </tr>\n",
       "    <tr>\n",
       "      <th>intercept</th>\n",
       "      <td>23.761409</td>\n",
       "      <td>23.761409</td>\n",
       "      <td>23.761409</td>\n",
       "    </tr>\n",
       "  </tbody>\n",
       "</table>\n",
       "</div>"
      ],
      "text/plain": [
       "              Unreguralized      Lasso      Ridge\n",
       "cylinders         -0.136971  -0.000000  -0.137331\n",
       "displacement       0.738396  -0.000000   0.720956\n",
       "horsepower         0.417693  -0.000000   0.406697\n",
       "weight            -6.374134  -5.530301  -6.349448\n",
       "acceleration       0.387689   0.070772   0.381652\n",
       "model_year         2.904962   2.747094   2.901871\n",
       "intercept         23.761409  23.761409  23.761409"
      ]
     },
     "execution_count": 47,
     "metadata": {},
     "output_type": "execute_result"
    }
   ],
   "source": [
    "final\n"
   ]
  },
  {
   "cell_type": "code",
   "execution_count": 48,
   "metadata": {},
   "outputs": [
    {
     "data": {
      "text/plain": [
       "Unreguralized    34.721254\n",
       "Lasso            32.109576\n",
       "Ridge            34.659365\n",
       "dtype: float64"
      ]
     },
     "execution_count": 48,
     "metadata": {},
     "output_type": "execute_result"
    }
   ],
   "source": [
    "final.abs().sum()"
   ]
  },
  {
   "cell_type": "markdown",
   "metadata": {},
   "source": [
    "### Fit models with a different penalties\n",
    "\n",
    "**Alpha = 0.5**"
   ]
  },
  {
   "cell_type": "code",
   "execution_count": 49,
   "metadata": {},
   "outputs": [
    {
     "data": {
      "text/plain": [
       "Lasso(alpha=0.5, copy_X=True, fit_intercept=True, max_iter=1000,\n",
       "      normalize=False, positive=False, precompute=False, random_state=None,\n",
       "      selection='cyclic', tol=0.0001, warm_start=False)"
      ]
     },
     "execution_count": 49,
     "metadata": {},
     "output_type": "execute_result"
    }
   ],
   "source": [
    "ridge_05 = Ridge(alpha=0.5)\n",
    "ridge_05.fit(X_train, y_train)\n",
    "\n",
    "lasso_05 = Lasso(alpha=0.5)\n",
    "lasso_05.fit(X_train, y_train)"
   ]
  },
  {
   "cell_type": "markdown",
   "metadata": {},
   "source": [
    "**Alpha =1**"
   ]
  },
  {
   "cell_type": "code",
   "execution_count": 50,
   "metadata": {},
   "outputs": [
    {
     "data": {
      "text/plain": [
       "Lasso(alpha=1, copy_X=True, fit_intercept=True, max_iter=1000, normalize=False,\n",
       "      positive=False, precompute=False, random_state=None, selection='cyclic',\n",
       "      tol=0.0001, warm_start=False)"
      ]
     },
     "execution_count": 50,
     "metadata": {},
     "output_type": "execute_result"
    }
   ],
   "source": [
    "ridge_1 = Ridge(alpha=1)\n",
    "ridge_1.fit(X_train, y_train)\n",
    "\n",
    "lasso_1 = Lasso(alpha=1)\n",
    "lasso_1.fit(X_train, y_train)"
   ]
  },
  {
   "cell_type": "code",
   "execution_count": 51,
   "metadata": {},
   "outputs": [],
   "source": [
    "r_05 = pd.DataFrame(data=ridge_05.coef_ , columns=X_test.columns).T\n",
    "r_1 = pd.DataFrame(data=ridge_1.coef_ , columns=X_test.columns).T"
   ]
  },
  {
   "cell_type": "code",
   "execution_count": 52,
   "metadata": {},
   "outputs": [],
   "source": [
    "l_05 = pd.DataFrame(data=lasso_05.coef_ , index=X_test.columns)\n",
    "l_1 = pd.DataFrame(data=lasso_1.coef_ , index=X_test.columns)"
   ]
  },
  {
   "cell_type": "code",
   "execution_count": 53,
   "metadata": {},
   "outputs": [],
   "source": [
    "more_coefs = pd.concat([l_05,r_05,l_1,r_1], axis=1)\n",
    "more_coefs.columns = ['Lasso_05', 'Ridge_05','Lasso_1','Ridge_1']"
   ]
  },
  {
   "cell_type": "code",
   "execution_count": 54,
   "metadata": {},
   "outputs": [
    {
     "data": {
      "text/html": [
       "<div>\n",
       "<style scoped>\n",
       "    .dataframe tbody tr th:only-of-type {\n",
       "        vertical-align: middle;\n",
       "    }\n",
       "\n",
       "    .dataframe tbody tr th {\n",
       "        vertical-align: top;\n",
       "    }\n",
       "\n",
       "    .dataframe thead th {\n",
       "        text-align: right;\n",
       "    }\n",
       "</style>\n",
       "<table border=\"1\" class=\"dataframe\">\n",
       "  <thead>\n",
       "    <tr style=\"text-align: right;\">\n",
       "      <th></th>\n",
       "      <th>Lasso_05</th>\n",
       "      <th>Ridge_05</th>\n",
       "      <th>Lasso_1</th>\n",
       "      <th>Ridge_1</th>\n",
       "    </tr>\n",
       "  </thead>\n",
       "  <tbody>\n",
       "    <tr>\n",
       "      <th>cylinders</th>\n",
       "      <td>-0.000000</td>\n",
       "      <td>-0.139485</td>\n",
       "      <td>-0.000000</td>\n",
       "      <td>-0.143584</td>\n",
       "    </tr>\n",
       "    <tr>\n",
       "      <th>displacement</th>\n",
       "      <td>-0.000000</td>\n",
       "      <td>0.654002</td>\n",
       "      <td>-0.000000</td>\n",
       "      <td>0.576128</td>\n",
       "    </tr>\n",
       "    <tr>\n",
       "      <th>horsepower</th>\n",
       "      <td>-0.000000</td>\n",
       "      <td>0.363864</td>\n",
       "      <td>-0.000000</td>\n",
       "      <td>0.312799</td>\n",
       "    </tr>\n",
       "    <tr>\n",
       "      <th>weight</th>\n",
       "      <td>-5.244371</td>\n",
       "      <td>-6.253433</td>\n",
       "      <td>-4.853253</td>\n",
       "      <td>-6.139191</td>\n",
       "    </tr>\n",
       "    <tr>\n",
       "      <th>acceleration</th>\n",
       "      <td>0.000000</td>\n",
       "      <td>0.358272</td>\n",
       "      <td>0.000000</td>\n",
       "      <td>0.330674</td>\n",
       "    </tr>\n",
       "    <tr>\n",
       "      <th>model_year</th>\n",
       "      <td>2.446808</td>\n",
       "      <td>2.889766</td>\n",
       "      <td>2.055685</td>\n",
       "      <td>2.875185</td>\n",
       "    </tr>\n",
       "  </tbody>\n",
       "</table>\n",
       "</div>"
      ],
      "text/plain": [
       "              Lasso_05  Ridge_05   Lasso_1   Ridge_1\n",
       "cylinders    -0.000000 -0.139485 -0.000000 -0.143584\n",
       "displacement -0.000000  0.654002 -0.000000  0.576128\n",
       "horsepower   -0.000000  0.363864 -0.000000  0.312799\n",
       "weight       -5.244371 -6.253433 -4.853253 -6.139191\n",
       "acceleration  0.000000  0.358272  0.000000  0.330674\n",
       "model_year    2.446808  2.889766  2.055685  2.875185"
      ]
     },
     "execution_count": 54,
     "metadata": {},
     "output_type": "execute_result"
    }
   ],
   "source": [
    "more_coefs"
   ]
  },
  {
   "cell_type": "code",
   "execution_count": 55,
   "metadata": {},
   "outputs": [],
   "source": [
    "intercepts_= [*lasso_05.intercept_,*ridge_05.intercept_, *lasso_1.intercept_,*ridge_1.intercept_ ]\n",
    "\n",
    "intercepts_df = pd.DataFrame([intercepts_], index=['intercept'], columns = ['Lasso_05', 'Ridge_05','Lasso_1','Ridge_1'])\n",
    "\n"
   ]
  },
  {
   "cell_type": "code",
   "execution_count": 56,
   "metadata": {},
   "outputs": [],
   "source": [
    "additional_df = pd.concat([more_coefs, intercepts_df])"
   ]
  },
  {
   "cell_type": "code",
   "execution_count": 57,
   "metadata": {},
   "outputs": [],
   "source": [
    "final_coefs = pd.concat([final,additional_df], axis=1)"
   ]
  },
  {
   "cell_type": "code",
   "execution_count": 58,
   "metadata": {},
   "outputs": [
    {
     "data": {
      "text/html": [
       "<div>\n",
       "<style scoped>\n",
       "    .dataframe tbody tr th:only-of-type {\n",
       "        vertical-align: middle;\n",
       "    }\n",
       "\n",
       "    .dataframe tbody tr th {\n",
       "        vertical-align: top;\n",
       "    }\n",
       "\n",
       "    .dataframe thead th {\n",
       "        text-align: right;\n",
       "    }\n",
       "</style>\n",
       "<table border=\"1\" class=\"dataframe\">\n",
       "  <thead>\n",
       "    <tr style=\"text-align: right;\">\n",
       "      <th></th>\n",
       "      <th>Unreguralized</th>\n",
       "      <th>Lasso</th>\n",
       "      <th>Ridge</th>\n",
       "      <th>Lasso_05</th>\n",
       "      <th>Ridge_05</th>\n",
       "      <th>Lasso_1</th>\n",
       "      <th>Ridge_1</th>\n",
       "    </tr>\n",
       "  </thead>\n",
       "  <tbody>\n",
       "    <tr>\n",
       "      <th>cylinders</th>\n",
       "      <td>-0.136971</td>\n",
       "      <td>-0.000000</td>\n",
       "      <td>-0.137331</td>\n",
       "      <td>-0.000000</td>\n",
       "      <td>-0.139485</td>\n",
       "      <td>-0.000000</td>\n",
       "      <td>-0.143584</td>\n",
       "    </tr>\n",
       "    <tr>\n",
       "      <th>displacement</th>\n",
       "      <td>0.738396</td>\n",
       "      <td>-0.000000</td>\n",
       "      <td>0.720956</td>\n",
       "      <td>-0.000000</td>\n",
       "      <td>0.654002</td>\n",
       "      <td>-0.000000</td>\n",
       "      <td>0.576128</td>\n",
       "    </tr>\n",
       "    <tr>\n",
       "      <th>horsepower</th>\n",
       "      <td>0.417693</td>\n",
       "      <td>-0.000000</td>\n",
       "      <td>0.406697</td>\n",
       "      <td>-0.000000</td>\n",
       "      <td>0.363864</td>\n",
       "      <td>-0.000000</td>\n",
       "      <td>0.312799</td>\n",
       "    </tr>\n",
       "    <tr>\n",
       "      <th>weight</th>\n",
       "      <td>-6.374134</td>\n",
       "      <td>-5.530301</td>\n",
       "      <td>-6.349448</td>\n",
       "      <td>-5.244371</td>\n",
       "      <td>-6.253433</td>\n",
       "      <td>-4.853253</td>\n",
       "      <td>-6.139191</td>\n",
       "    </tr>\n",
       "    <tr>\n",
       "      <th>acceleration</th>\n",
       "      <td>0.387689</td>\n",
       "      <td>0.070772</td>\n",
       "      <td>0.381652</td>\n",
       "      <td>0.000000</td>\n",
       "      <td>0.358272</td>\n",
       "      <td>0.000000</td>\n",
       "      <td>0.330674</td>\n",
       "    </tr>\n",
       "    <tr>\n",
       "      <th>model_year</th>\n",
       "      <td>2.904962</td>\n",
       "      <td>2.747094</td>\n",
       "      <td>2.901871</td>\n",
       "      <td>2.446808</td>\n",
       "      <td>2.889766</td>\n",
       "      <td>2.055685</td>\n",
       "      <td>2.875185</td>\n",
       "    </tr>\n",
       "    <tr>\n",
       "      <th>intercept</th>\n",
       "      <td>23.761409</td>\n",
       "      <td>23.761409</td>\n",
       "      <td>23.761409</td>\n",
       "      <td>23.761409</td>\n",
       "      <td>23.761409</td>\n",
       "      <td>23.761409</td>\n",
       "      <td>23.761409</td>\n",
       "    </tr>\n",
       "  </tbody>\n",
       "</table>\n",
       "</div>"
      ],
      "text/plain": [
       "              Unreguralized      Lasso      Ridge   Lasso_05   Ridge_05  \\\n",
       "cylinders         -0.136971  -0.000000  -0.137331  -0.000000  -0.139485   \n",
       "displacement       0.738396  -0.000000   0.720956  -0.000000   0.654002   \n",
       "horsepower         0.417693  -0.000000   0.406697  -0.000000   0.363864   \n",
       "weight            -6.374134  -5.530301  -6.349448  -5.244371  -6.253433   \n",
       "acceleration       0.387689   0.070772   0.381652   0.000000   0.358272   \n",
       "model_year         2.904962   2.747094   2.901871   2.446808   2.889766   \n",
       "intercept         23.761409  23.761409  23.761409  23.761409  23.761409   \n",
       "\n",
       "                Lasso_1    Ridge_1  \n",
       "cylinders     -0.000000  -0.143584  \n",
       "displacement  -0.000000   0.576128  \n",
       "horsepower    -0.000000   0.312799  \n",
       "weight        -4.853253  -6.139191  \n",
       "acceleration   0.000000   0.330674  \n",
       "model_year     2.055685   2.875185  \n",
       "intercept     23.761409  23.761409  "
      ]
     },
     "execution_count": 58,
     "metadata": {},
     "output_type": "execute_result"
    }
   ],
   "source": [
    "final_coefs"
   ]
  },
  {
   "cell_type": "code",
   "execution_count": 59,
   "metadata": {},
   "outputs": [
    {
     "data": {
      "text/plain": [
       "Unreguralized    34.721254\n",
       "Lasso            32.109576\n",
       "Ridge            34.659365\n",
       "Lasso_05         31.452588\n",
       "Ridge_05         34.420230\n",
       "Lasso_1          30.670348\n",
       "Ridge_1          34.138971\n",
       "dtype: float64"
      ]
     },
     "execution_count": 59,
     "metadata": {},
     "output_type": "execute_result"
    }
   ],
   "source": [
    "final_coefs.abs().sum()"
   ]
  },
  {
   "cell_type": "markdown",
   "metadata": {},
   "source": [
    "## Model Evaluation"
   ]
  },
  {
   "cell_type": "code",
   "execution_count": 60,
   "metadata": {},
   "outputs": [
    {
     "data": {
      "text/plain": [
       "(298, 6)"
      ]
     },
     "execution_count": 60,
     "metadata": {},
     "output_type": "execute_result"
    }
   ],
   "source": [
    "X_train.shape"
   ]
  },
  {
   "cell_type": "code",
   "execution_count": 63,
   "metadata": {},
   "outputs": [],
   "source": [
    "# create predictions\n",
    "\n",
    "y_h_lin_train = lin.predict(X_train)\n",
    "y_h_lin_test = lin.predict(X_test)\n",
    "\n",
    "\n",
    "y_h_ridge_train_01 = ridge_01.predict(X_train)\n",
    "y_h_ridge_test_01 = ridge_01.predict(X_test)\n",
    "\n",
    "y_h_lasso_train_01 = np.reshape(lasso_01.predict(X_train),(298,1))\n",
    "y_h_lasso_test_01 = np.reshape(lasso_01.predict(X_test),(100,1))\n",
    "\n",
    "y_h_ridge_train_05 = ridge_05.predict(X_train)\n",
    "y_h_ridge_test_05 = ridge_05.predict(X_test)\n",
    "\n",
    "y_h_lasso_train_05 = np.reshape(lasso_05.predict(X_train),(298,1))\n",
    "y_h_lasso_test_05 = np.reshape(lasso_05.predict(X_test),(100,1))\n",
    "\n",
    "y_h_ridge_train_1 = ridge_1.predict(X_train)\n",
    "y_h_ridge_test_1 = ridge_1.predict(X_test)\n",
    "\n",
    "y_h_lasso_train_1 = np.reshape(lasso_1.predict(X_train),(298,1))\n",
    "y_h_lasso_test_1 = np.reshape(lasso_1.predict(X_test),(100,1))\n"
   ]
  },
  {
   "cell_type": "markdown",
   "metadata": {},
   "source": [
    "#### Examining the Residual for Ridge, Lasso, and Unpenalized Regression coefficients"
   ]
  },
  {
   "cell_type": "code",
   "execution_count": 67,
   "metadata": {
    "scrolled": true
   },
   "outputs": [
    {
     "name": "stdout",
     "output_type": "stream",
     "text": [
      "Train Error Unpenalized Linear Model 12.345012453050336\n",
      "Test Error Unpenalized Linear Model 9.764004099854436\n",
      "\n",
      "\n",
      "Train Error Ridge Model alpha=0.1: 12.345074536072048\n",
      "Test Error Ridge Model alpha=0.1: 9.753800140658473\n",
      "\n",
      "\n",
      "Train Error Ridge Model alpha=0.5: 12.346495126950929\n",
      "Test Error Ridge Model alpha=0.5: 9.715024883595474\n",
      "\n",
      "\n",
      "Train Error Ridge Model alpha=1: 12.350623768999668\n",
      "Test Error Ridge Model alpha=1: 9.670795004580578\n",
      "\n",
      "\n",
      "Train Error Lasso Model alpha=0.1: 12.439146496138045\n",
      "Test Error Lasso Model alpha=0.1: 9.488946106091673\n",
      "\n",
      "\n",
      "Train Error Lasso Model alpha=0.5: 12.824789517391716\n",
      "Test Error Lasso Model alpha=0.5: 9.59586461409152\n",
      "\n",
      "\n",
      "Train Error Lasso Model alpha=1: 13.99814589011848\n",
      "Test Error Lasso Model alpha=1: 10.514110875815367\n",
      "\n",
      "\n"
     ]
    }
   ],
   "source": [
    "# examine the residual sum of sq\n",
    "\n",
    "\n",
    "print('Train Error Unpenalized Linear Model', mean_squared_error(y_train, lin.predict(X_train)))\n",
    "print('Test Error Unpenalized Linear Model', mean_squared_error(y_test, lin.predict(X_test)))\n",
    "print('\\n')\n",
    "print('Train Error Ridge Model alpha=0.1:', mean_squared_error(y_train, y_h_ridge_train_01))\n",
    "print('Test Error Ridge Model alpha=0.1:', mean_squared_error(y_test, y_h_ridge_test_01))\n",
    "print('\\n')\n",
    "\n",
    "print('Train Error Ridge Model alpha=0.5:', mean_squared_error(y_train, y_h_ridge_train_05))\n",
    "print('Test Error Ridge Model alpha=0.5:', mean_squared_error(y_test, y_h_ridge_test_05))\n",
    "print('\\n')\n",
    "print('Train Error Ridge Model alpha=1:', mean_squared_error(y_train, y_h_ridge_train_1))\n",
    "print('Test Error Ridge Model alpha=1:', mean_squared_error(y_test, y_h_ridge_test_1))\n",
    "print('\\n')\n",
    "\n",
    "print('Train Error Lasso Model alpha=0.1:', mean_squared_error(y_train, y_h_lasso_train_01))\n",
    "print('Test Error Lasso Model alpha=0.1:', mean_squared_error(y_test, y_h_lasso_test_01))\n",
    "print('\\n')\n",
    "\n",
    "print('Train Error Lasso Model alpha=0.5:', mean_squared_error(y_train, y_h_lasso_train_05))\n",
    "print('Test Error Lasso Model alpha=0.5:', mean_squared_error(y_test, y_h_lasso_test_05))\n",
    "print('\\n')\n",
    "print('Train Error Lasso Model alpha=1:', mean_squared_error(y_train, y_h_lasso_train_1))\n",
    "print('Test Error Lasso Model alpha=1:', mean_squared_error(y_test, y_h_lasso_test_1))\n",
    "print('\\n')"
   ]
  },
  {
   "cell_type": "code",
   "execution_count": null,
   "metadata": {},
   "outputs": [],
   "source": []
  }
 ],
 "metadata": {
  "kernelspec": {
   "display_name": "Python 3",
   "language": "python",
   "name": "python3"
  },
  "language_info": {
   "codemirror_mode": {
    "name": "ipython",
    "version": 3
   },
   "file_extension": ".py",
   "mimetype": "text/x-python",
   "name": "python",
   "nbconvert_exporter": "python",
   "pygments_lexer": "ipython3",
   "version": "3.7.3"
  }
 },
 "nbformat": 4,
 "nbformat_minor": 2
}
