{
 "cells": [
  {
   "cell_type": "markdown",
   "metadata": {},
   "source": [
    "# JSON and APIs\n",
    "\n",
    "_September 22, 2020_\n",
    "\n",
    "Agenda today:\n",
    "- Introduction to API and Remote Server Model \n",
    "- Getting data through an API: Case study with YELP API"
   ]
  },
  {
   "cell_type": "code",
   "execution_count": 1,
   "metadata": {},
   "outputs": [],
   "source": [
    "import pandas as pd\n",
    "import numpy as np\n",
    "import requests\n",
    "import json\n",
    "#from yelp.client import Client\n",
    "import matplotlib.pyplot as plt\n",
    "plt.style.use('seaborn')"
   ]
  },
  {
   "cell_type": "code",
   "execution_count": 96,
   "metadata": {},
   "outputs": [],
   "source": [
    "mykey = open(\"no_commit/yelpapi.txt\", \"r\").read() #this is only ran to import my api key for this project!"
   ]
  },
  {
   "cell_type": "markdown",
   "metadata": {},
   "source": [
    "## Part I. APIs and Remote Server Model\n",
    "API stands for Application Programming Interface. At some point or the other, large companies would build API for their products for their clients or internal use. It allows the company's application to communicate with another application. But what _exactly_ is an API?\n",
    "\n",
    "#### Remote server \n",
    "When we think about the world of Web, we can think of it as a collection of _servers_. And servers are nothing but huge computers that store a huge amount of data from users and are optimized to process requests. For example, when you type in www.facebook.com, your browser sends a _request_ to the Facebook server, and gets a response from the server, thus interpreting the code and displaying your homepage. \n",
    "\n",
    "In this case, your browser is the _client_, and Facebook’s server is an API. To put it broadly, whenever you visit a website, you are interacting with its API. However, an API isn’t the same as the remote server — rather it is the part of the server that receives __requests__ and sends __responses__.\n",
    "\n",
    "<img src='status-code.png' width = 500>"
   ]
  },
  {
   "cell_type": "markdown",
   "metadata": {},
   "source": [
    "## Part II. Getting Data Through APIs\n",
    "\n",
    "The `get()` method send a request to YELP's API, and stored information in a variable called `request`. Next, let's see if it's successful. "
   ]
  },
  {
   "cell_type": "markdown",
   "metadata": {},
   "source": [
    "#### YELP API\n",
    "Sometimes you need _authentication_ to get data from a service in additional to just sending a `GET()` request. Yelp API is a perfect example. \n",
    "\n",
    "You will need to go to the YELP's developer's [website](https://www.yelp.com/developers/v3/manage_app) and request for a client ID and API key, which function like a key into a house of data. \n",
    "\n",
    "<img src='yelp.png' width = 500>"
   ]
  },
  {
   "cell_type": "code",
   "execution_count": 2,
   "metadata": {},
   "outputs": [],
   "source": [
    "# lets try to get some data from yelp!\n",
    "url = 'https://api.yelp.com/v3/businesses/search'\n",
    "response = requests.get(url)"
   ]
  },
  {
   "cell_type": "code",
   "execution_count": 3,
   "metadata": {},
   "outputs": [
    {
     "data": {
      "text/plain": [
       "400"
      ]
     },
     "execution_count": 3,
     "metadata": {},
     "output_type": "execute_result"
    }
   ],
   "source": [
    "# check the status code\n",
    "response.status_code\n",
    "\n",
    "# what happened here?"
   ]
  },
  {
   "cell_type": "code",
   "execution_count": 4,
   "metadata": {
    "scrolled": true
   },
   "outputs": [],
   "source": [
    "# now we are ready to get our data \n",
    "\n",
    "# usually, services would limit you to a certain amount of API calls. This varies from service\n",
    "# to service, so you have to watch out to it \n",
    "\n",
    "MY_API_KEY = \"mykey\"\n",
    "\n",
    "\n",
    "term = 'Axe Throwing'\n",
    "location = 'Brooklyn'\n",
    "SEARCH_LIMIT = 10\n",
    "\n",
    "url = 'https://api.yelp.com/v3/businesses/search'\n",
    "\n",
    "headers = {\n",
    "        'Authorization': 'Bearer {}'.format(MY_API_KEY),\n",
    "    }\n",
    "\n",
    "url_params = {\n",
    "                'term': term.replace(' ', '+'),\n",
    "                'location': location.replace(' ', '+'),\n",
    "                'limit': SEARCH_LIMIT\n",
    "            }\n",
    "response = requests.get(url, headers=headers, params=url_params)"
   ]
  },
  {
   "cell_type": "code",
   "execution_count": 5,
   "metadata": {},
   "outputs": [
    {
     "name": "stdout",
     "output_type": "stream",
     "text": [
      "<Response [200]>\n"
     ]
    }
   ],
   "source": [
    "# examine the response object\n",
    "\n",
    "print(response)\n"
   ]
  },
  {
   "cell_type": "code",
   "execution_count": 6,
   "metadata": {},
   "outputs": [
    {
     "name": "stdout",
     "output_type": "stream",
     "text": [
      "{\"businesses\": [{\"id\": \"X0DNGKUQPjf0AfaXfXU2Qg\", \"alias\": \"kick-axe-throwing-brooklyn-2\", \"name\": \"Kick Axe Throwing\", \"image_url\": \"https://s3-media1.fl.yelpcdn.com/bphoto/WjKylwrUBKnGIE_ldj142Q/o.jpg\", \"is_closed\": false, \"url\": \"https://www.yelp.com/biz/kick-axe-throwing-brooklyn-2?adjust_creative=beH78tKnBsJlO3zA-wY_pw&utm_campaign=yelp_api_v3&utm_medium=api_v3_business_search&utm_source=beH78tKnBsJlO3zA-wY_pw\", \"review_count\": 399, \"categories\": [{\"alias\": \"bars\", \"title\": \"Bars\"}, {\"alias\": \"axethrowing\", \"title\": \"Axe Throwing\"}, {\"alias\": \"tradamerican\", \"title\": \"American (Traditional)\"}], \"rating\": 4.5, \"coordinates\": {\"latitude\": 40.6790268, \"longitude\": -73.983077}, \"transactions\": [], \"location\": {\"address1\": \"622 Degraw St\", \"address2\": null, \"address3\": \"\", \"city\": \"Brooklyn\", \"zip_code\": \"11217\", \"country\": \"US\", \"state\": \"NY\", \"display_address\": [\"622 Degraw St\", \"Brooklyn, NY 11217\"]}, \"phone\": \"+18335425293\", \"display_phone\": \"(833) 542-5293\", \"distance\": 4733.616620254917}, {\"id\": \"4E6BkrEVf_0TjRVYE7gxeQ\", \"alias\": \"bury-the-hatchet-brooklyn-axe-throwing-brooklyn-2\", \"name\": \"Bury the Hatchet Brooklyn - Axe Throwing\", \"image_url\": \"https://s3-media3.fl.yelpcdn.com/bphoto/SH8_Nwmd13LkntwuzcEPeg/o.jpg\", \"is_closed\": false, \"url\": \"https://www.yelp.com/biz/bury-the-hatchet-brooklyn-axe-throwing-brooklyn-2?adjust_creative=beH78tKnBsJlO3zA-wY_pw&utm_campaign=yelp_api_v3&utm_medium=api_v3_business_search&utm_source=beH78tKnBsJlO3zA-wY_pw\", \"review_count\": 143, \"categories\": [{\"alias\": \"axethrowing\", \"title\": \"Axe Throwing\"}, {\"alias\": \"teambuilding\", \"title\": \"Team Building Activities\"}], \"rating\": 4.5, \"coordinates\": {\"latitude\": 40.7283195, \"longitude\": -73.9600679}, \"transactions\": [], \"location\": {\"address1\": \"25 Noble St\", \"address2\": null, \"address3\": \"\", \"city\": \"Brooklyn\", \"zip_code\": \"11222\", \"country\": \"US\", \"state\": \"NY\", \"display_address\": [\"25 Noble St\", \"Brooklyn, NY 11222\"]}, \"phone\": \"+19172439696\", \"display_phone\": \"(917) 243-9696\", \"distance\": 8652.979400045351}, {\"id\": \"PhEkSzYZHKYS7uyXePmkMw\", \"alias\": \"axes-and-arrows-long-island-city-2\", \"name\": \"Axes And Arrows\", \"image_url\": \"https://s3-media4.fl.yelpcdn.com/bphoto/Uinh_osn8ykDeLoigmgo0Q/o.jpg\", \"is_closed\": false, \"url\": \"https://www.yelp.com/biz/axes-and-arrows-long-island-city-2?adjust_creative=beH78tKnBsJlO3zA-wY_pw&utm_campaign=yelp_api_v3&utm_medium=api_v3_business_search&utm_source=beH78tKnBsJlO3zA-wY_pw\", \"review_count\": 49, \"categories\": [{\"alias\": \"axethrowing\", \"title\": \"Axe Throwing\"}, {\"alias\": \"archery\", \"title\": \"Archery\"}], \"rating\": 4.5, \"coordinates\": {\"latitude\": 40.7425127, \"longitude\": -73.933816}, \"transactions\": [], \"location\": {\"address1\": \"47- 11 Van Dam St\", \"address2\": null, \"address3\": \"\", \"city\": \"Long Island City\", \"zip_code\": \"11101\", \"country\": \"US\", \"state\": \"NY\", \"display_address\": [\"47- 11 Van Dam St\", \"Long Island City, NY 11101\"]}, \"phone\": \"+17183619152\", \"display_phone\": \"(718) 361-9152\", \"distance\": 9996.588059135383}, {\"id\": \"lZVE27r_W_3GXxNwECYC4g\", \"alias\": \"live-axe-new-york\", \"name\": \"Live Axe\", \"image_url\": \"https://s3-media2.fl.yelpcdn.com/bphoto/-Z1qvni_2N-K85FHmaesaQ/o.jpg\", \"is_closed\": false, \"url\": \"https://www.yelp.com/biz/live-axe-new-york?adjust_creative=beH78tKnBsJlO3zA-wY_pw&utm_campaign=yelp_api_v3&utm_medium=api_v3_business_search&utm_source=beH78tKnBsJlO3zA-wY_pw\", \"review_count\": 2, \"categories\": [{\"alias\": \"axethrowing\", \"title\": \"Axe Throwing\"}, {\"alias\": \"bars\", \"title\": \"Bars\"}], \"rating\": 5.0, \"coordinates\": {\"latitude\": 40.71769, \"longitude\": -74.00144}, \"transactions\": [], \"location\": {\"address1\": \"96 Lafayette St\", \"address2\": null, \"address3\": null, \"city\": \"New York\", \"zip_code\": \"10013\", \"country\": \"US\", \"state\": \"NY\", \"display_address\": [\"96 Lafayette St\", \"New York, NY 10013\"]}, \"phone\": \"+18888129060\", \"display_phone\": \"(888) 812-9060\", \"distance\": 8955.976101576549}, {\"id\": \"b9DAbR-1eIfLr6TPI_r59Q\", \"alias\": \"axe-kicking-entertainment-mineola\", \"name\": \"Axe Kicking Entertainment\", \"image_url\": \"https://s3-media3.fl.yelpcdn.com/bphoto/stIBBatr6P1t9IKtZpL2Lg/o.jpg\", \"is_closed\": false, \"url\": \"https://www.yelp.com/biz/axe-kicking-entertainment-mineola?adjust_creative=beH78tKnBsJlO3zA-wY_pw&utm_campaign=yelp_api_v3&utm_medium=api_v3_business_search&utm_source=beH78tKnBsJlO3zA-wY_pw\", \"review_count\": 2, \"categories\": [{\"alias\": \"axethrowing\", \"title\": \"Axe Throwing\"}, {\"alias\": \"archery\", \"title\": \"Archery\"}, {\"alias\": \"bowling\", \"title\": \"Bowling\"}], \"rating\": 5.0, \"coordinates\": {\"latitude\": 40.74638, \"longitude\": -73.65027}, \"transactions\": [], \"location\": {\"address1\": \"360 Jericho Turnpike\", \"address2\": null, \"address3\": \"\", \"city\": \"Mineola\", \"zip_code\": \"11501\", \"country\": \"US\", \"state\": \"NY\", \"display_address\": [\"360 Jericho Turnpike\", \"Mineola, NY 11501\"]}, \"phone\": \"+15162806040\", \"display_phone\": \"(516) 280-6040\", \"distance\": 26518.825160012875}, {\"id\": \"K_Jm8V-XuOFlbHb_VUzk-w\", \"alias\": \"indoor-extreme-sports-long-island-city\", \"name\": \"Indoor Extreme Sports\", \"image_url\": \"https://s3-media2.fl.yelpcdn.com/bphoto/wQE-gOKf-shCB4sDI2WmhQ/o.jpg\", \"is_closed\": false, \"url\": \"https://www.yelp.com/biz/indoor-extreme-sports-long-island-city?adjust_creative=beH78tKnBsJlO3zA-wY_pw&utm_campaign=yelp_api_v3&utm_medium=api_v3_business_search&utm_source=beH78tKnBsJlO3zA-wY_pw\", \"review_count\": 508, \"categories\": [{\"alias\": \"paintball\", \"title\": \"Paintball\"}, {\"alias\": \"lasertag\", \"title\": \"Laser Tag\"}, {\"alias\": \"axethrowing\", \"title\": \"Axe Throwing\"}], \"rating\": 4.0, \"coordinates\": {\"latitude\": 40.7422746, \"longitude\": -73.9338804}, \"transactions\": [], \"location\": {\"address1\": \"47 11 Van Dam St\", \"address2\": null, \"address3\": \"\", \"city\": \"Long Island City\", \"zip_code\": \"11101\", \"country\": \"US\", \"state\": \"NY\", \"display_address\": [\"47 11 Van Dam St\", \"Long Island City, NY 11101\"]}, \"phone\": \"+17183619152\", \"display_phone\": \"(718) 361-9152\", \"distance\": 10012.024588128}, {\"id\": \"yXOjBSwyqOKDY7oHx3z7HA\", \"alias\": \"tomahawks-jersey-city\", \"name\": \"Tomahawks\", \"image_url\": \"https://s3-media1.fl.yelpcdn.com/bphoto/AcR-ExIWOWPNXRr6G5cGQw/o.jpg\", \"is_closed\": false, \"url\": \"https://www.yelp.com/biz/tomahawks-jersey-city?adjust_creative=beH78tKnBsJlO3zA-wY_pw&utm_campaign=yelp_api_v3&utm_medium=api_v3_business_search&utm_source=beH78tKnBsJlO3zA-wY_pw\", \"review_count\": 13, \"categories\": [{\"alias\": \"axethrowing\", \"title\": \"Axe Throwing\"}], \"rating\": 4.5, \"coordinates\": {\"latitude\": 40.7411216, \"longitude\": -74.0493572}, \"transactions\": [], \"location\": {\"address1\": \"7 Sherman Ave\", \"address2\": \"Fl 2\", \"address3\": \"\", \"city\": \"Jersey City\", \"zip_code\": \"07307\", \"country\": \"US\", \"state\": \"NJ\", \"display_address\": [\"7 Sherman Ave\", \"Fl 2\", \"Jersey City, NJ 07307\"]}, \"phone\": \"+12014209722\", \"display_phone\": \"(201) 420-9722\", \"distance\": 13556.0314007906}, {\"id\": \"wuy6jyi5cxm1pwnUTWyBLw\", \"alias\": \"stumpys-hatchet-house-fairfield-fairfield-3\", \"name\": \"Stumpy's Hatchet House Fairfield - Axe Throwing\", \"image_url\": \"https://s3-media1.fl.yelpcdn.com/bphoto/yKG858jIoenW0jLpq6Hg1A/o.jpg\", \"is_closed\": false, \"url\": \"https://www.yelp.com/biz/stumpys-hatchet-house-fairfield-fairfield-3?adjust_creative=beH78tKnBsJlO3zA-wY_pw&utm_campaign=yelp_api_v3&utm_medium=api_v3_business_search&utm_source=beH78tKnBsJlO3zA-wY_pw\", \"review_count\": 44, \"categories\": [{\"alias\": \"axethrowing\", \"title\": \"Axe Throwing\"}, {\"alias\": \"recreation\", \"title\": \"Recreation Centers\"}], \"rating\": 5.0, \"coordinates\": {\"latitude\": 40.8824525201793, \"longitude\": -74.2942046508915}, \"transactions\": [], \"location\": {\"address1\": \"373 Us-46 W\", \"address2\": \"Ste D140\", \"address3\": \"\", \"city\": \"Fairfield\", \"zip_code\": \"07004\", \"country\": \"US\", \"state\": \"NJ\", \"display_address\": [\"373 Us-46 W\", \"Ste D140\", \"Fairfield, NJ 07004\"]}, \"phone\": \"+19737213120\", \"display_phone\": \"(973) 721-3120\", \"distance\": 39341.674681213146}, {\"id\": \"1BUoVTCYSpGfG0oobAr5Hg\", \"alias\": \"bury-the-hatchet-axe-throwing-bloomfield-bloomfield\", \"name\": \"Bury The Hatchet Axe Throwing- Bloomfield\", \"image_url\": \"https://s3-media2.fl.yelpcdn.com/bphoto/Y6OdaWjNZKFNKuSdl-rU3w/o.jpg\", \"is_closed\": false, \"url\": \"https://www.yelp.com/biz/bury-the-hatchet-axe-throwing-bloomfield-bloomfield?adjust_creative=beH78tKnBsJlO3zA-wY_pw&utm_campaign=yelp_api_v3&utm_medium=api_v3_business_search&utm_source=beH78tKnBsJlO3zA-wY_pw\", \"review_count\": 90, \"categories\": [{\"alias\": \"axethrowing\", \"title\": \"Axe Throwing\"}], \"rating\": 4.5, \"coordinates\": {\"latitude\": 40.79607, \"longitude\": -74.2003299}, \"transactions\": [], \"location\": {\"address1\": \"672 Bloomfield Ave\", \"address2\": null, \"address3\": \"\", \"city\": \"Bloomfield\", \"zip_code\": \"07003\", \"country\": \"US\", \"state\": \"NJ\", \"display_address\": [\"672 Bloomfield Ave\", \"Bloomfield, NJ 07003\"]}, \"phone\": \"+19738427725\", \"display_phone\": \"(973) 842-7725\", \"distance\": 27173.957270887662}, {\"id\": \"oKkn9nKh6jB-fsQIDbP4tQ\", \"alias\": \"bury-the-hatchet-matawan\", \"name\": \"Bury The Hatchet\", \"image_url\": \"https://s3-media1.fl.yelpcdn.com/bphoto/EsKEUTyvjjzdr6SzTzubSQ/o.jpg\", \"is_closed\": false, \"url\": \"https://www.yelp.com/biz/bury-the-hatchet-matawan?adjust_creative=beH78tKnBsJlO3zA-wY_pw&utm_campaign=yelp_api_v3&utm_medium=api_v3_business_search&utm_source=beH78tKnBsJlO3zA-wY_pw\", \"review_count\": 88, \"categories\": [{\"alias\": \"axethrowing\", \"title\": \"Axe Throwing\"}, {\"alias\": \"teambuilding\", \"title\": \"Team Building Activities\"}], \"rating\": 5.0, \"coordinates\": {\"latitude\": 40.4234040521118, \"longitude\": -74.2643531039357}, \"transactions\": [], \"location\": {\"address1\": \"419 Route 34\", \"address2\": \"\", \"address3\": null, \"city\": \"Matawan\", \"zip_code\": \"07747\", \"country\": \"US\", \"state\": \"NJ\", \"display_address\": [\"419 Route 34\", \"Matawan, NJ 07747\"]}, \"phone\": \"+17329626284\", \"display_phone\": \"(732) 962-6284\", \"distance\": 37446.224760844736}], \"total\": 28, \"region\": {\"center\": {\"longitude\": -73.93936157226562, \"latitude\": 40.652330148320374}}}\n"
     ]
    }
   ],
   "source": [
    "# how are we going to parse the response.text object?\n",
    "\n",
    "print(response.text)"
   ]
  },
  {
   "cell_type": "code",
   "execution_count": 7,
   "metadata": {},
   "outputs": [],
   "source": [
    "# working with JSON\n",
    "#json.load = LOADS a file\n",
    "#json.loads = Loads a long string or values into a json file\n",
    "axe_throwing = response.text\n",
    "axe_throwing = json.loads(axe_throwing)"
   ]
  },
  {
   "cell_type": "code",
   "execution_count": 8,
   "metadata": {
    "scrolled": true
   },
   "outputs": [
    {
     "name": "stdout",
     "output_type": "stream",
     "text": [
      "businesses\n",
      "total\n",
      "region\n"
     ]
    }
   ],
   "source": [
    "# cleaning and exploring the data\n",
    "for key in axe_throwing.keys():\n",
    "    print(key)"
   ]
  },
  {
   "cell_type": "code",
   "execution_count": 9,
   "metadata": {
    "scrolled": false
   },
   "outputs": [
    {
     "data": {
      "text/plain": [
       "{'businesses': [{'id': 'X0DNGKUQPjf0AfaXfXU2Qg',\n",
       "   'alias': 'kick-axe-throwing-brooklyn-2',\n",
       "   'name': 'Kick Axe Throwing',\n",
       "   'image_url': 'https://s3-media1.fl.yelpcdn.com/bphoto/WjKylwrUBKnGIE_ldj142Q/o.jpg',\n",
       "   'is_closed': False,\n",
       "   'url': 'https://www.yelp.com/biz/kick-axe-throwing-brooklyn-2?adjust_creative=beH78tKnBsJlO3zA-wY_pw&utm_campaign=yelp_api_v3&utm_medium=api_v3_business_search&utm_source=beH78tKnBsJlO3zA-wY_pw',\n",
       "   'review_count': 399,\n",
       "   'categories': [{'alias': 'bars', 'title': 'Bars'},\n",
       "    {'alias': 'axethrowing', 'title': 'Axe Throwing'},\n",
       "    {'alias': 'tradamerican', 'title': 'American (Traditional)'}],\n",
       "   'rating': 4.5,\n",
       "   'coordinates': {'latitude': 40.6790268, 'longitude': -73.983077},\n",
       "   'transactions': [],\n",
       "   'location': {'address1': '622 Degraw St',\n",
       "    'address2': None,\n",
       "    'address3': '',\n",
       "    'city': 'Brooklyn',\n",
       "    'zip_code': '11217',\n",
       "    'country': 'US',\n",
       "    'state': 'NY',\n",
       "    'display_address': ['622 Degraw St', 'Brooklyn, NY 11217']},\n",
       "   'phone': '+18335425293',\n",
       "   'display_phone': '(833) 542-5293',\n",
       "   'distance': 4733.616620254917},\n",
       "  {'id': '4E6BkrEVf_0TjRVYE7gxeQ',\n",
       "   'alias': 'bury-the-hatchet-brooklyn-axe-throwing-brooklyn-2',\n",
       "   'name': 'Bury the Hatchet Brooklyn - Axe Throwing',\n",
       "   'image_url': 'https://s3-media3.fl.yelpcdn.com/bphoto/SH8_Nwmd13LkntwuzcEPeg/o.jpg',\n",
       "   'is_closed': False,\n",
       "   'url': 'https://www.yelp.com/biz/bury-the-hatchet-brooklyn-axe-throwing-brooklyn-2?adjust_creative=beH78tKnBsJlO3zA-wY_pw&utm_campaign=yelp_api_v3&utm_medium=api_v3_business_search&utm_source=beH78tKnBsJlO3zA-wY_pw',\n",
       "   'review_count': 143,\n",
       "   'categories': [{'alias': 'axethrowing', 'title': 'Axe Throwing'},\n",
       "    {'alias': 'teambuilding', 'title': 'Team Building Activities'}],\n",
       "   'rating': 4.5,\n",
       "   'coordinates': {'latitude': 40.7283195, 'longitude': -73.9600679},\n",
       "   'transactions': [],\n",
       "   'location': {'address1': '25 Noble St',\n",
       "    'address2': None,\n",
       "    'address3': '',\n",
       "    'city': 'Brooklyn',\n",
       "    'zip_code': '11222',\n",
       "    'country': 'US',\n",
       "    'state': 'NY',\n",
       "    'display_address': ['25 Noble St', 'Brooklyn, NY 11222']},\n",
       "   'phone': '+19172439696',\n",
       "   'display_phone': '(917) 243-9696',\n",
       "   'distance': 8652.979400045351},\n",
       "  {'id': 'PhEkSzYZHKYS7uyXePmkMw',\n",
       "   'alias': 'axes-and-arrows-long-island-city-2',\n",
       "   'name': 'Axes And Arrows',\n",
       "   'image_url': 'https://s3-media4.fl.yelpcdn.com/bphoto/Uinh_osn8ykDeLoigmgo0Q/o.jpg',\n",
       "   'is_closed': False,\n",
       "   'url': 'https://www.yelp.com/biz/axes-and-arrows-long-island-city-2?adjust_creative=beH78tKnBsJlO3zA-wY_pw&utm_campaign=yelp_api_v3&utm_medium=api_v3_business_search&utm_source=beH78tKnBsJlO3zA-wY_pw',\n",
       "   'review_count': 49,\n",
       "   'categories': [{'alias': 'axethrowing', 'title': 'Axe Throwing'},\n",
       "    {'alias': 'archery', 'title': 'Archery'}],\n",
       "   'rating': 4.5,\n",
       "   'coordinates': {'latitude': 40.7425127, 'longitude': -73.933816},\n",
       "   'transactions': [],\n",
       "   'location': {'address1': '47- 11 Van Dam St',\n",
       "    'address2': None,\n",
       "    'address3': '',\n",
       "    'city': 'Long Island City',\n",
       "    'zip_code': '11101',\n",
       "    'country': 'US',\n",
       "    'state': 'NY',\n",
       "    'display_address': ['47- 11 Van Dam St', 'Long Island City, NY 11101']},\n",
       "   'phone': '+17183619152',\n",
       "   'display_phone': '(718) 361-9152',\n",
       "   'distance': 9996.588059135383},\n",
       "  {'id': 'lZVE27r_W_3GXxNwECYC4g',\n",
       "   'alias': 'live-axe-new-york',\n",
       "   'name': 'Live Axe',\n",
       "   'image_url': 'https://s3-media2.fl.yelpcdn.com/bphoto/-Z1qvni_2N-K85FHmaesaQ/o.jpg',\n",
       "   'is_closed': False,\n",
       "   'url': 'https://www.yelp.com/biz/live-axe-new-york?adjust_creative=beH78tKnBsJlO3zA-wY_pw&utm_campaign=yelp_api_v3&utm_medium=api_v3_business_search&utm_source=beH78tKnBsJlO3zA-wY_pw',\n",
       "   'review_count': 2,\n",
       "   'categories': [{'alias': 'axethrowing', 'title': 'Axe Throwing'},\n",
       "    {'alias': 'bars', 'title': 'Bars'}],\n",
       "   'rating': 5.0,\n",
       "   'coordinates': {'latitude': 40.71769, 'longitude': -74.00144},\n",
       "   'transactions': [],\n",
       "   'location': {'address1': '96 Lafayette St',\n",
       "    'address2': None,\n",
       "    'address3': None,\n",
       "    'city': 'New York',\n",
       "    'zip_code': '10013',\n",
       "    'country': 'US',\n",
       "    'state': 'NY',\n",
       "    'display_address': ['96 Lafayette St', 'New York, NY 10013']},\n",
       "   'phone': '+18888129060',\n",
       "   'display_phone': '(888) 812-9060',\n",
       "   'distance': 8955.976101576549},\n",
       "  {'id': 'b9DAbR-1eIfLr6TPI_r59Q',\n",
       "   'alias': 'axe-kicking-entertainment-mineola',\n",
       "   'name': 'Axe Kicking Entertainment',\n",
       "   'image_url': 'https://s3-media3.fl.yelpcdn.com/bphoto/stIBBatr6P1t9IKtZpL2Lg/o.jpg',\n",
       "   'is_closed': False,\n",
       "   'url': 'https://www.yelp.com/biz/axe-kicking-entertainment-mineola?adjust_creative=beH78tKnBsJlO3zA-wY_pw&utm_campaign=yelp_api_v3&utm_medium=api_v3_business_search&utm_source=beH78tKnBsJlO3zA-wY_pw',\n",
       "   'review_count': 2,\n",
       "   'categories': [{'alias': 'axethrowing', 'title': 'Axe Throwing'},\n",
       "    {'alias': 'archery', 'title': 'Archery'},\n",
       "    {'alias': 'bowling', 'title': 'Bowling'}],\n",
       "   'rating': 5.0,\n",
       "   'coordinates': {'latitude': 40.74638, 'longitude': -73.65027},\n",
       "   'transactions': [],\n",
       "   'location': {'address1': '360 Jericho Turnpike',\n",
       "    'address2': None,\n",
       "    'address3': '',\n",
       "    'city': 'Mineola',\n",
       "    'zip_code': '11501',\n",
       "    'country': 'US',\n",
       "    'state': 'NY',\n",
       "    'display_address': ['360 Jericho Turnpike', 'Mineola, NY 11501']},\n",
       "   'phone': '+15162806040',\n",
       "   'display_phone': '(516) 280-6040',\n",
       "   'distance': 26518.825160012875},\n",
       "  {'id': 'K_Jm8V-XuOFlbHb_VUzk-w',\n",
       "   'alias': 'indoor-extreme-sports-long-island-city',\n",
       "   'name': 'Indoor Extreme Sports',\n",
       "   'image_url': 'https://s3-media2.fl.yelpcdn.com/bphoto/wQE-gOKf-shCB4sDI2WmhQ/o.jpg',\n",
       "   'is_closed': False,\n",
       "   'url': 'https://www.yelp.com/biz/indoor-extreme-sports-long-island-city?adjust_creative=beH78tKnBsJlO3zA-wY_pw&utm_campaign=yelp_api_v3&utm_medium=api_v3_business_search&utm_source=beH78tKnBsJlO3zA-wY_pw',\n",
       "   'review_count': 508,\n",
       "   'categories': [{'alias': 'paintball', 'title': 'Paintball'},\n",
       "    {'alias': 'lasertag', 'title': 'Laser Tag'},\n",
       "    {'alias': 'axethrowing', 'title': 'Axe Throwing'}],\n",
       "   'rating': 4.0,\n",
       "   'coordinates': {'latitude': 40.7422746, 'longitude': -73.9338804},\n",
       "   'transactions': [],\n",
       "   'location': {'address1': '47 11 Van Dam St',\n",
       "    'address2': None,\n",
       "    'address3': '',\n",
       "    'city': 'Long Island City',\n",
       "    'zip_code': '11101',\n",
       "    'country': 'US',\n",
       "    'state': 'NY',\n",
       "    'display_address': ['47 11 Van Dam St', 'Long Island City, NY 11101']},\n",
       "   'phone': '+17183619152',\n",
       "   'display_phone': '(718) 361-9152',\n",
       "   'distance': 10012.024588128},\n",
       "  {'id': 'yXOjBSwyqOKDY7oHx3z7HA',\n",
       "   'alias': 'tomahawks-jersey-city',\n",
       "   'name': 'Tomahawks',\n",
       "   'image_url': 'https://s3-media1.fl.yelpcdn.com/bphoto/AcR-ExIWOWPNXRr6G5cGQw/o.jpg',\n",
       "   'is_closed': False,\n",
       "   'url': 'https://www.yelp.com/biz/tomahawks-jersey-city?adjust_creative=beH78tKnBsJlO3zA-wY_pw&utm_campaign=yelp_api_v3&utm_medium=api_v3_business_search&utm_source=beH78tKnBsJlO3zA-wY_pw',\n",
       "   'review_count': 13,\n",
       "   'categories': [{'alias': 'axethrowing', 'title': 'Axe Throwing'}],\n",
       "   'rating': 4.5,\n",
       "   'coordinates': {'latitude': 40.7411216, 'longitude': -74.0493572},\n",
       "   'transactions': [],\n",
       "   'location': {'address1': '7 Sherman Ave',\n",
       "    'address2': 'Fl 2',\n",
       "    'address3': '',\n",
       "    'city': 'Jersey City',\n",
       "    'zip_code': '07307',\n",
       "    'country': 'US',\n",
       "    'state': 'NJ',\n",
       "    'display_address': ['7 Sherman Ave', 'Fl 2', 'Jersey City, NJ 07307']},\n",
       "   'phone': '+12014209722',\n",
       "   'display_phone': '(201) 420-9722',\n",
       "   'distance': 13556.0314007906},\n",
       "  {'id': 'wuy6jyi5cxm1pwnUTWyBLw',\n",
       "   'alias': 'stumpys-hatchet-house-fairfield-fairfield-3',\n",
       "   'name': \"Stumpy's Hatchet House Fairfield - Axe Throwing\",\n",
       "   'image_url': 'https://s3-media1.fl.yelpcdn.com/bphoto/yKG858jIoenW0jLpq6Hg1A/o.jpg',\n",
       "   'is_closed': False,\n",
       "   'url': 'https://www.yelp.com/biz/stumpys-hatchet-house-fairfield-fairfield-3?adjust_creative=beH78tKnBsJlO3zA-wY_pw&utm_campaign=yelp_api_v3&utm_medium=api_v3_business_search&utm_source=beH78tKnBsJlO3zA-wY_pw',\n",
       "   'review_count': 44,\n",
       "   'categories': [{'alias': 'axethrowing', 'title': 'Axe Throwing'},\n",
       "    {'alias': 'recreation', 'title': 'Recreation Centers'}],\n",
       "   'rating': 5.0,\n",
       "   'coordinates': {'latitude': 40.8824525201793,\n",
       "    'longitude': -74.2942046508915},\n",
       "   'transactions': [],\n",
       "   'location': {'address1': '373 Us-46 W',\n",
       "    'address2': 'Ste D140',\n",
       "    'address3': '',\n",
       "    'city': 'Fairfield',\n",
       "    'zip_code': '07004',\n",
       "    'country': 'US',\n",
       "    'state': 'NJ',\n",
       "    'display_address': ['373 Us-46 W', 'Ste D140', 'Fairfield, NJ 07004']},\n",
       "   'phone': '+19737213120',\n",
       "   'display_phone': '(973) 721-3120',\n",
       "   'distance': 39341.674681213146},\n",
       "  {'id': '1BUoVTCYSpGfG0oobAr5Hg',\n",
       "   'alias': 'bury-the-hatchet-axe-throwing-bloomfield-bloomfield',\n",
       "   'name': 'Bury The Hatchet Axe Throwing- Bloomfield',\n",
       "   'image_url': 'https://s3-media2.fl.yelpcdn.com/bphoto/Y6OdaWjNZKFNKuSdl-rU3w/o.jpg',\n",
       "   'is_closed': False,\n",
       "   'url': 'https://www.yelp.com/biz/bury-the-hatchet-axe-throwing-bloomfield-bloomfield?adjust_creative=beH78tKnBsJlO3zA-wY_pw&utm_campaign=yelp_api_v3&utm_medium=api_v3_business_search&utm_source=beH78tKnBsJlO3zA-wY_pw',\n",
       "   'review_count': 90,\n",
       "   'categories': [{'alias': 'axethrowing', 'title': 'Axe Throwing'}],\n",
       "   'rating': 4.5,\n",
       "   'coordinates': {'latitude': 40.79607, 'longitude': -74.2003299},\n",
       "   'transactions': [],\n",
       "   'location': {'address1': '672 Bloomfield Ave',\n",
       "    'address2': None,\n",
       "    'address3': '',\n",
       "    'city': 'Bloomfield',\n",
       "    'zip_code': '07003',\n",
       "    'country': 'US',\n",
       "    'state': 'NJ',\n",
       "    'display_address': ['672 Bloomfield Ave', 'Bloomfield, NJ 07003']},\n",
       "   'phone': '+19738427725',\n",
       "   'display_phone': '(973) 842-7725',\n",
       "   'distance': 27173.957270887662},\n",
       "  {'id': 'oKkn9nKh6jB-fsQIDbP4tQ',\n",
       "   'alias': 'bury-the-hatchet-matawan',\n",
       "   'name': 'Bury The Hatchet',\n",
       "   'image_url': 'https://s3-media1.fl.yelpcdn.com/bphoto/EsKEUTyvjjzdr6SzTzubSQ/o.jpg',\n",
       "   'is_closed': False,\n",
       "   'url': 'https://www.yelp.com/biz/bury-the-hatchet-matawan?adjust_creative=beH78tKnBsJlO3zA-wY_pw&utm_campaign=yelp_api_v3&utm_medium=api_v3_business_search&utm_source=beH78tKnBsJlO3zA-wY_pw',\n",
       "   'review_count': 88,\n",
       "   'categories': [{'alias': 'axethrowing', 'title': 'Axe Throwing'},\n",
       "    {'alias': 'teambuilding', 'title': 'Team Building Activities'}],\n",
       "   'rating': 5.0,\n",
       "   'coordinates': {'latitude': 40.4234040521118,\n",
       "    'longitude': -74.2643531039357},\n",
       "   'transactions': [],\n",
       "   'location': {'address1': '419 Route 34',\n",
       "    'address2': '',\n",
       "    'address3': None,\n",
       "    'city': 'Matawan',\n",
       "    'zip_code': '07747',\n",
       "    'country': 'US',\n",
       "    'state': 'NJ',\n",
       "    'display_address': ['419 Route 34', 'Matawan, NJ 07747']},\n",
       "   'phone': '+17329626284',\n",
       "   'display_phone': '(732) 962-6284',\n",
       "   'distance': 37446.224760844736}],\n",
       " 'total': 28,\n",
       " 'region': {'center': {'longitude': -73.93936157226562,\n",
       "   'latitude': 40.652330148320374}}}"
      ]
     },
     "execution_count": 9,
     "metadata": {},
     "output_type": "execute_result"
    }
   ],
   "source": [
    "axe_throwing"
   ]
  },
  {
   "cell_type": "code",
   "execution_count": 11,
   "metadata": {},
   "outputs": [
    {
     "data": {
      "text/plain": [
       "dict"
      ]
     },
     "execution_count": 11,
     "metadata": {},
     "output_type": "execute_result"
    }
   ],
   "source": [
    "type(axe_throwing)"
   ]
  },
  {
   "cell_type": "code",
   "execution_count": 10,
   "metadata": {
    "scrolled": true
   },
   "outputs": [
    {
     "data": {
      "text/plain": [
       "{'id': 'X0DNGKUQPjf0AfaXfXU2Qg',\n",
       " 'alias': 'kick-axe-throwing-brooklyn-2',\n",
       " 'name': 'Kick Axe Throwing',\n",
       " 'image_url': 'https://s3-media1.fl.yelpcdn.com/bphoto/WjKylwrUBKnGIE_ldj142Q/o.jpg',\n",
       " 'is_closed': False,\n",
       " 'url': 'https://www.yelp.com/biz/kick-axe-throwing-brooklyn-2?adjust_creative=beH78tKnBsJlO3zA-wY_pw&utm_campaign=yelp_api_v3&utm_medium=api_v3_business_search&utm_source=beH78tKnBsJlO3zA-wY_pw',\n",
       " 'review_count': 399,\n",
       " 'categories': [{'alias': 'bars', 'title': 'Bars'},\n",
       "  {'alias': 'axethrowing', 'title': 'Axe Throwing'},\n",
       "  {'alias': 'tradamerican', 'title': 'American (Traditional)'}],\n",
       " 'rating': 4.5,\n",
       " 'coordinates': {'latitude': 40.6790268, 'longitude': -73.983077},\n",
       " 'transactions': [],\n",
       " 'location': {'address1': '622 Degraw St',\n",
       "  'address2': None,\n",
       "  'address3': '',\n",
       "  'city': 'Brooklyn',\n",
       "  'zip_code': '11217',\n",
       "  'country': 'US',\n",
       "  'state': 'NY',\n",
       "  'display_address': ['622 Degraw St', 'Brooklyn, NY 11217']},\n",
       " 'phone': '+18335425293',\n",
       " 'display_phone': '(833) 542-5293',\n",
       " 'distance': 4733.616620254917}"
      ]
     },
     "execution_count": 10,
     "metadata": {},
     "output_type": "execute_result"
    }
   ],
   "source": [
    "axe_throwing['businesses'][0]"
   ]
  },
  {
   "cell_type": "code",
   "execution_count": 12,
   "metadata": {},
   "outputs": [
    {
     "data": {
      "text/plain": [
       "dict_keys(['id', 'alias', 'name', 'image_url', 'is_closed', 'url', 'review_count', 'categories', 'rating', 'coordinates', 'transactions', 'location', 'phone', 'display_phone', 'distance'])"
      ]
     },
     "execution_count": 12,
     "metadata": {},
     "output_type": "execute_result"
    }
   ],
   "source": [
    "axe_throwing[\"businesses\"][0].keys()"
   ]
  },
  {
   "cell_type": "code",
   "execution_count": 22,
   "metadata": {
    "scrolled": false
   },
   "outputs": [
    {
     "name": "stdout",
     "output_type": "stream",
     "text": [
      "<class 'pandas.core.frame.DataFrame'>\n",
      "RangeIndex: 10 entries, 0 to 9\n",
      "Data columns (total 15 columns):\n",
      "id               10 non-null object\n",
      "alias            10 non-null object\n",
      "name             10 non-null object\n",
      "image_url        10 non-null object\n",
      "is_closed        10 non-null bool\n",
      "url              10 non-null object\n",
      "review_count     10 non-null int64\n",
      "categories       10 non-null object\n",
      "rating           10 non-null float64\n",
      "coordinates      10 non-null object\n",
      "transactions     10 non-null object\n",
      "location         10 non-null object\n",
      "phone            10 non-null object\n",
      "display_phone    10 non-null object\n",
      "distance         10 non-null float64\n",
      "dtypes: bool(1), float64(2), int64(1), object(11)\n",
      "memory usage: 1.2+ KB\n"
     ]
    }
   ],
   "source": [
    "# turn the relevant dataset into a dataframe\n",
    "\n",
    "axe_throwing_df = pd.DataFrame.from_dict(axe_throwing[\"businesses\"])\n",
    "axe_throwing_df.info()"
   ]
  },
  {
   "cell_type": "code",
   "execution_count": 23,
   "metadata": {},
   "outputs": [
    {
     "data": {
      "text/html": [
       "<div>\n",
       "<style scoped>\n",
       "    .dataframe tbody tr th:only-of-type {\n",
       "        vertical-align: middle;\n",
       "    }\n",
       "\n",
       "    .dataframe tbody tr th {\n",
       "        vertical-align: top;\n",
       "    }\n",
       "\n",
       "    .dataframe thead th {\n",
       "        text-align: right;\n",
       "    }\n",
       "</style>\n",
       "<table border=\"1\" class=\"dataframe\">\n",
       "  <thead>\n",
       "    <tr style=\"text-align: right;\">\n",
       "      <th></th>\n",
       "      <th>id</th>\n",
       "      <th>alias</th>\n",
       "      <th>name</th>\n",
       "      <th>image_url</th>\n",
       "      <th>is_closed</th>\n",
       "      <th>url</th>\n",
       "      <th>review_count</th>\n",
       "      <th>categories</th>\n",
       "      <th>rating</th>\n",
       "      <th>coordinates</th>\n",
       "      <th>transactions</th>\n",
       "      <th>location</th>\n",
       "      <th>phone</th>\n",
       "      <th>display_phone</th>\n",
       "      <th>distance</th>\n",
       "    </tr>\n",
       "  </thead>\n",
       "  <tbody>\n",
       "    <tr>\n",
       "      <th>0</th>\n",
       "      <td>X0DNGKUQPjf0AfaXfXU2Qg</td>\n",
       "      <td>kick-axe-throwing-brooklyn-2</td>\n",
       "      <td>Kick Axe Throwing</td>\n",
       "      <td>https://s3-media1.fl.yelpcdn.com/bphoto/WjKylw...</td>\n",
       "      <td>False</td>\n",
       "      <td>https://www.yelp.com/biz/kick-axe-throwing-bro...</td>\n",
       "      <td>399</td>\n",
       "      <td>[{'alias': 'bars', 'title': 'Bars'}, {'alias':...</td>\n",
       "      <td>4.5</td>\n",
       "      <td>{'latitude': 40.6790268, 'longitude': -73.983077}</td>\n",
       "      <td>[]</td>\n",
       "      <td>{'address1': '622 Degraw St', 'address2': None...</td>\n",
       "      <td>+18335425293</td>\n",
       "      <td>(833) 542-5293</td>\n",
       "      <td>4733.616620</td>\n",
       "    </tr>\n",
       "    <tr>\n",
       "      <th>1</th>\n",
       "      <td>4E6BkrEVf_0TjRVYE7gxeQ</td>\n",
       "      <td>bury-the-hatchet-brooklyn-axe-throwing-brooklyn-2</td>\n",
       "      <td>Bury the Hatchet Brooklyn - Axe Throwing</td>\n",
       "      <td>https://s3-media3.fl.yelpcdn.com/bphoto/SH8_Nw...</td>\n",
       "      <td>False</td>\n",
       "      <td>https://www.yelp.com/biz/bury-the-hatchet-broo...</td>\n",
       "      <td>143</td>\n",
       "      <td>[{'alias': 'axethrowing', 'title': 'Axe Throwi...</td>\n",
       "      <td>4.5</td>\n",
       "      <td>{'latitude': 40.7283195, 'longitude': -73.9600...</td>\n",
       "      <td>[]</td>\n",
       "      <td>{'address1': '25 Noble St', 'address2': None, ...</td>\n",
       "      <td>+19172439696</td>\n",
       "      <td>(917) 243-9696</td>\n",
       "      <td>8652.979400</td>\n",
       "    </tr>\n",
       "    <tr>\n",
       "      <th>2</th>\n",
       "      <td>PhEkSzYZHKYS7uyXePmkMw</td>\n",
       "      <td>axes-and-arrows-long-island-city-2</td>\n",
       "      <td>Axes And Arrows</td>\n",
       "      <td>https://s3-media4.fl.yelpcdn.com/bphoto/Uinh_o...</td>\n",
       "      <td>False</td>\n",
       "      <td>https://www.yelp.com/biz/axes-and-arrows-long-...</td>\n",
       "      <td>49</td>\n",
       "      <td>[{'alias': 'axethrowing', 'title': 'Axe Throwi...</td>\n",
       "      <td>4.5</td>\n",
       "      <td>{'latitude': 40.7425127, 'longitude': -73.933816}</td>\n",
       "      <td>[]</td>\n",
       "      <td>{'address1': '47- 11 Van Dam St', 'address2': ...</td>\n",
       "      <td>+17183619152</td>\n",
       "      <td>(718) 361-9152</td>\n",
       "      <td>9996.588059</td>\n",
       "    </tr>\n",
       "    <tr>\n",
       "      <th>3</th>\n",
       "      <td>lZVE27r_W_3GXxNwECYC4g</td>\n",
       "      <td>live-axe-new-york</td>\n",
       "      <td>Live Axe</td>\n",
       "      <td>https://s3-media2.fl.yelpcdn.com/bphoto/-Z1qvn...</td>\n",
       "      <td>False</td>\n",
       "      <td>https://www.yelp.com/biz/live-axe-new-york?adj...</td>\n",
       "      <td>2</td>\n",
       "      <td>[{'alias': 'axethrowing', 'title': 'Axe Throwi...</td>\n",
       "      <td>5.0</td>\n",
       "      <td>{'latitude': 40.71769, 'longitude': -74.00144}</td>\n",
       "      <td>[]</td>\n",
       "      <td>{'address1': '96 Lafayette St', 'address2': No...</td>\n",
       "      <td>+18888129060</td>\n",
       "      <td>(888) 812-9060</td>\n",
       "      <td>8955.976102</td>\n",
       "    </tr>\n",
       "    <tr>\n",
       "      <th>4</th>\n",
       "      <td>b9DAbR-1eIfLr6TPI_r59Q</td>\n",
       "      <td>axe-kicking-entertainment-mineola</td>\n",
       "      <td>Axe Kicking Entertainment</td>\n",
       "      <td>https://s3-media3.fl.yelpcdn.com/bphoto/stIBBa...</td>\n",
       "      <td>False</td>\n",
       "      <td>https://www.yelp.com/biz/axe-kicking-entertain...</td>\n",
       "      <td>2</td>\n",
       "      <td>[{'alias': 'axethrowing', 'title': 'Axe Throwi...</td>\n",
       "      <td>5.0</td>\n",
       "      <td>{'latitude': 40.74638, 'longitude': -73.65027}</td>\n",
       "      <td>[]</td>\n",
       "      <td>{'address1': '360 Jericho Turnpike', 'address2...</td>\n",
       "      <td>+15162806040</td>\n",
       "      <td>(516) 280-6040</td>\n",
       "      <td>26518.825160</td>\n",
       "    </tr>\n",
       "  </tbody>\n",
       "</table>\n",
       "</div>"
      ],
      "text/plain": [
       "                       id                                              alias  \\\n",
       "0  X0DNGKUQPjf0AfaXfXU2Qg                       kick-axe-throwing-brooklyn-2   \n",
       "1  4E6BkrEVf_0TjRVYE7gxeQ  bury-the-hatchet-brooklyn-axe-throwing-brooklyn-2   \n",
       "2  PhEkSzYZHKYS7uyXePmkMw                 axes-and-arrows-long-island-city-2   \n",
       "3  lZVE27r_W_3GXxNwECYC4g                                  live-axe-new-york   \n",
       "4  b9DAbR-1eIfLr6TPI_r59Q                  axe-kicking-entertainment-mineola   \n",
       "\n",
       "                                       name  \\\n",
       "0                         Kick Axe Throwing   \n",
       "1  Bury the Hatchet Brooklyn - Axe Throwing   \n",
       "2                           Axes And Arrows   \n",
       "3                                  Live Axe   \n",
       "4                 Axe Kicking Entertainment   \n",
       "\n",
       "                                           image_url  is_closed  \\\n",
       "0  https://s3-media1.fl.yelpcdn.com/bphoto/WjKylw...      False   \n",
       "1  https://s3-media3.fl.yelpcdn.com/bphoto/SH8_Nw...      False   \n",
       "2  https://s3-media4.fl.yelpcdn.com/bphoto/Uinh_o...      False   \n",
       "3  https://s3-media2.fl.yelpcdn.com/bphoto/-Z1qvn...      False   \n",
       "4  https://s3-media3.fl.yelpcdn.com/bphoto/stIBBa...      False   \n",
       "\n",
       "                                                 url  review_count  \\\n",
       "0  https://www.yelp.com/biz/kick-axe-throwing-bro...           399   \n",
       "1  https://www.yelp.com/biz/bury-the-hatchet-broo...           143   \n",
       "2  https://www.yelp.com/biz/axes-and-arrows-long-...            49   \n",
       "3  https://www.yelp.com/biz/live-axe-new-york?adj...             2   \n",
       "4  https://www.yelp.com/biz/axe-kicking-entertain...             2   \n",
       "\n",
       "                                          categories  rating  \\\n",
       "0  [{'alias': 'bars', 'title': 'Bars'}, {'alias':...     4.5   \n",
       "1  [{'alias': 'axethrowing', 'title': 'Axe Throwi...     4.5   \n",
       "2  [{'alias': 'axethrowing', 'title': 'Axe Throwi...     4.5   \n",
       "3  [{'alias': 'axethrowing', 'title': 'Axe Throwi...     5.0   \n",
       "4  [{'alias': 'axethrowing', 'title': 'Axe Throwi...     5.0   \n",
       "\n",
       "                                         coordinates transactions  \\\n",
       "0  {'latitude': 40.6790268, 'longitude': -73.983077}           []   \n",
       "1  {'latitude': 40.7283195, 'longitude': -73.9600...           []   \n",
       "2  {'latitude': 40.7425127, 'longitude': -73.933816}           []   \n",
       "3     {'latitude': 40.71769, 'longitude': -74.00144}           []   \n",
       "4     {'latitude': 40.74638, 'longitude': -73.65027}           []   \n",
       "\n",
       "                                            location         phone  \\\n",
       "0  {'address1': '622 Degraw St', 'address2': None...  +18335425293   \n",
       "1  {'address1': '25 Noble St', 'address2': None, ...  +19172439696   \n",
       "2  {'address1': '47- 11 Van Dam St', 'address2': ...  +17183619152   \n",
       "3  {'address1': '96 Lafayette St', 'address2': No...  +18888129060   \n",
       "4  {'address1': '360 Jericho Turnpike', 'address2...  +15162806040   \n",
       "\n",
       "    display_phone      distance  \n",
       "0  (833) 542-5293   4733.616620  \n",
       "1  (917) 243-9696   8652.979400  \n",
       "2  (718) 361-9152   9996.588059  \n",
       "3  (888) 812-9060   8955.976102  \n",
       "4  (516) 280-6040  26518.825160  "
      ]
     },
     "execution_count": 23,
     "metadata": {},
     "output_type": "execute_result"
    }
   ],
   "source": [
    "axe_throwing_df.head()"
   ]
  },
  {
   "cell_type": "code",
   "execution_count": 73,
   "metadata": {
    "scrolled": false
   },
   "outputs": [
    {
     "data": {
      "image/png": "[encoded data removed]",
      "text/plain": [
       "<Figure size 432x288 with 1 Axes>"
      ]
     },
     "metadata": {
      "needs_background": "light"
     },
     "output_type": "display_data"
    }
   ],
   "source": [
    "# you can do some analysis and visualization from here on! \n",
    "\n",
    "# visualize the review count - what's the appropriate plot?\n",
    "axe_throwing_df[[\"name\", \"review_count\"]].set_index(\"name\").sort_values(\"review_count\", ascending = True).plot(kind = \"barh\");\n",
    "plt.title(\"Review Count per Business\");\n",
    "plt.xlabel(\"Review Counts\");\n",
    "plt.ylabel(\"Business Name\");"
   ]
  },
  {
   "cell_type": "code",
   "execution_count": 105,
   "metadata": {},
   "outputs": [
    {
     "data": {
      "text/plain": [
       "'Kick Axe Throwing'"
      ]
     },
     "execution_count": 105,
     "metadata": {},
     "output_type": "execute_result"
    }
   ],
   "source": [
    "# query the name of the axe throwing place with the highest review\n",
    "axe_throwing_df[[\"name\", \"review_count\"]].sort_values(\"review_count\", ascending = True)[\"name\"][0]"
   ]
  },
  {
   "cell_type": "code",
   "execution_count": 106,
   "metadata": {},
   "outputs": [],
   "source": [
    "import sqlite3\n",
    "conn = sqlite3.connect(\"yelp_tutorial.db\")\n",
    "cur = conn.cursor()"
   ]
  },
  {
   "cell_type": "code",
   "execution_count": 114,
   "metadata": {},
   "outputs": [
    {
     "ename": "ValueError",
     "evalue": "Table 'axethrowbklyn' already exists.",
     "output_type": "error",
     "traceback": [
      "\u001b[0;31m---------------------------------------------------------------------------\u001b[0m",
      "\u001b[0;31mValueError\u001b[0m                                Traceback (most recent call last)",
      "\u001b[0;32m<ipython-input-114-570c2897c188>\u001b[0m in \u001b[0;36m<module>\u001b[0;34m()\u001b[0m\n\u001b[1;32m      1\u001b[0m \u001b[0;31m# migrate the cleaned data into a sql db\u001b[0m\u001b[0;34m\u001b[0m\u001b[0;34m\u001b[0m\u001b[0;34m\u001b[0m\u001b[0m\n\u001b[0;32m----> 2\u001b[0;31m \u001b[0maxe_throwing_df\u001b[0m\u001b[0;34m.\u001b[0m\u001b[0mto_sql\u001b[0m\u001b[0;34m(\u001b[0m\u001b[0;34m\"axethrowbklyn\"\u001b[0m\u001b[0;34m,\u001b[0m \u001b[0mconn\u001b[0m\u001b[0;34m)\u001b[0m\u001b[0;34m\u001b[0m\u001b[0;34m\u001b[0m\u001b[0m\n\u001b[0m",
      "\u001b[0;32m/Users/yunghanjeong/opt/anaconda3/envs/learn-env/lib/python3.6/site-packages/pandas/core/generic.py\u001b[0m in \u001b[0;36mto_sql\u001b[0;34m(self, name, con, schema, if_exists, index, index_label, chunksize, dtype, method)\u001b[0m\n\u001b[1;32m   2710\u001b[0m             \u001b[0mchunksize\u001b[0m\u001b[0;34m=\u001b[0m\u001b[0mchunksize\u001b[0m\u001b[0;34m,\u001b[0m\u001b[0;34m\u001b[0m\u001b[0;34m\u001b[0m\u001b[0m\n\u001b[1;32m   2711\u001b[0m             \u001b[0mdtype\u001b[0m\u001b[0;34m=\u001b[0m\u001b[0mdtype\u001b[0m\u001b[0;34m,\u001b[0m\u001b[0;34m\u001b[0m\u001b[0;34m\u001b[0m\u001b[0m\n\u001b[0;32m-> 2712\u001b[0;31m             \u001b[0mmethod\u001b[0m\u001b[0;34m=\u001b[0m\u001b[0mmethod\u001b[0m\u001b[0;34m,\u001b[0m\u001b[0;34m\u001b[0m\u001b[0;34m\u001b[0m\u001b[0m\n\u001b[0m\u001b[1;32m   2713\u001b[0m         )\n\u001b[1;32m   2714\u001b[0m \u001b[0;34m\u001b[0m\u001b[0m\n",
      "\u001b[0;32m/Users/yunghanjeong/opt/anaconda3/envs/learn-env/lib/python3.6/site-packages/pandas/io/sql.py\u001b[0m in \u001b[0;36mto_sql\u001b[0;34m(frame, name, con, schema, if_exists, index, index_label, chunksize, dtype, method)\u001b[0m\n\u001b[1;32m    516\u001b[0m         \u001b[0mchunksize\u001b[0m\u001b[0;34m=\u001b[0m\u001b[0mchunksize\u001b[0m\u001b[0;34m,\u001b[0m\u001b[0;34m\u001b[0m\u001b[0;34m\u001b[0m\u001b[0m\n\u001b[1;32m    517\u001b[0m         \u001b[0mdtype\u001b[0m\u001b[0;34m=\u001b[0m\u001b[0mdtype\u001b[0m\u001b[0;34m,\u001b[0m\u001b[0;34m\u001b[0m\u001b[0;34m\u001b[0m\u001b[0m\n\u001b[0;32m--> 518\u001b[0;31m         \u001b[0mmethod\u001b[0m\u001b[0;34m=\u001b[0m\u001b[0mmethod\u001b[0m\u001b[0;34m,\u001b[0m\u001b[0;34m\u001b[0m\u001b[0;34m\u001b[0m\u001b[0m\n\u001b[0m\u001b[1;32m    519\u001b[0m     )\n\u001b[1;32m    520\u001b[0m \u001b[0;34m\u001b[0m\u001b[0m\n",
      "\u001b[0;32m/Users/yunghanjeong/opt/anaconda3/envs/learn-env/lib/python3.6/site-packages/pandas/io/sql.py\u001b[0m in \u001b[0;36mto_sql\u001b[0;34m(self, frame, name, if_exists, index, index_label, schema, chunksize, dtype, method)\u001b[0m\n\u001b[1;32m   1747\u001b[0m             \u001b[0mdtype\u001b[0m\u001b[0;34m=\u001b[0m\u001b[0mdtype\u001b[0m\u001b[0;34m,\u001b[0m\u001b[0;34m\u001b[0m\u001b[0;34m\u001b[0m\u001b[0m\n\u001b[1;32m   1748\u001b[0m         )\n\u001b[0;32m-> 1749\u001b[0;31m         \u001b[0mtable\u001b[0m\u001b[0;34m.\u001b[0m\u001b[0mcreate\u001b[0m\u001b[0;34m(\u001b[0m\u001b[0;34m)\u001b[0m\u001b[0;34m\u001b[0m\u001b[0;34m\u001b[0m\u001b[0m\n\u001b[0m\u001b[1;32m   1750\u001b[0m         \u001b[0mtable\u001b[0m\u001b[0;34m.\u001b[0m\u001b[0minsert\u001b[0m\u001b[0;34m(\u001b[0m\u001b[0mchunksize\u001b[0m\u001b[0;34m,\u001b[0m \u001b[0mmethod\u001b[0m\u001b[0;34m)\u001b[0m\u001b[0;34m\u001b[0m\u001b[0;34m\u001b[0m\u001b[0m\n\u001b[1;32m   1751\u001b[0m \u001b[0;34m\u001b[0m\u001b[0m\n",
      "\u001b[0;32m/Users/yunghanjeong/opt/anaconda3/envs/learn-env/lib/python3.6/site-packages/pandas/io/sql.py\u001b[0m in \u001b[0;36mcreate\u001b[0;34m(self)\u001b[0m\n\u001b[1;32m    642\u001b[0m             \u001b[0;32mif\u001b[0m \u001b[0mself\u001b[0m\u001b[0;34m.\u001b[0m\u001b[0mif_exists\u001b[0m \u001b[0;34m==\u001b[0m \u001b[0;34m\"fail\"\u001b[0m\u001b[0;34m:\u001b[0m\u001b[0;34m\u001b[0m\u001b[0;34m\u001b[0m\u001b[0m\n\u001b[1;32m    643\u001b[0m                 raise ValueError(\n\u001b[0;32m--> 644\u001b[0;31m                     \u001b[0;34m\"Table '{name}' already exists.\"\u001b[0m\u001b[0;34m.\u001b[0m\u001b[0mformat\u001b[0m\u001b[0;34m(\u001b[0m\u001b[0mname\u001b[0m\u001b[0;34m=\u001b[0m\u001b[0mself\u001b[0m\u001b[0;34m.\u001b[0m\u001b[0mname\u001b[0m\u001b[0;34m)\u001b[0m\u001b[0;34m\u001b[0m\u001b[0;34m\u001b[0m\u001b[0m\n\u001b[0m\u001b[1;32m    645\u001b[0m                 )\n\u001b[1;32m    646\u001b[0m             \u001b[0;32melif\u001b[0m \u001b[0mself\u001b[0m\u001b[0;34m.\u001b[0m\u001b[0mif_exists\u001b[0m \u001b[0;34m==\u001b[0m \u001b[0;34m\"replace\"\u001b[0m\u001b[0;34m:\u001b[0m\u001b[0;34m\u001b[0m\u001b[0;34m\u001b[0m\u001b[0m\n",
      "\u001b[0;31mValueError\u001b[0m: Table 'axethrowbklyn' already exists."
     ]
    }
   ],
   "source": [
    "# migrate the cleaned data into a sql db\n",
    "axe_throwing_df.to_sql(\"axethrowbklyn\", conn)"
   ]
  },
  {
   "cell_type": "code",
   "execution_count": null,
   "metadata": {},
   "outputs": [],
   "source": [
    "# can you do some other queries using sql/pandas?"
   ]
  },
  {
   "cell_type": "code",
   "execution_count": null,
   "metadata": {},
   "outputs": [],
   "source": [
    "# homework - query something between on yelp. do one visualization, \n",
    "# send it to Fangfang"
   ]
  },
  {
   "cell_type": "markdown",
   "metadata": {},
   "source": [
    "#### Resources\n",
    "- [Getting Data from Reddit API](https://www.storybench.org/how-to-scrape-reddit-with-python/)\n",
    "- [Twitch API](https://dev.twitch.tv/docs)"
   ]
  }
 ],
 "metadata": {
  "kernelspec": {
   "display_name": "Python 3",
   "language": "python",
   "name": "python3"
  },
  "language_info": {
   "codemirror_mode": {
    "name": "ipython",
    "version": 3
   },
   "file_extension": ".py",
   "mimetype": "text/x-python",
   "name": "python",
   "nbconvert_exporter": "python",
   "pygments_lexer": "ipython3",
   "version": "3.6.9"
  }
 },
 "nbformat": 4,
 "nbformat_minor": 2
}
