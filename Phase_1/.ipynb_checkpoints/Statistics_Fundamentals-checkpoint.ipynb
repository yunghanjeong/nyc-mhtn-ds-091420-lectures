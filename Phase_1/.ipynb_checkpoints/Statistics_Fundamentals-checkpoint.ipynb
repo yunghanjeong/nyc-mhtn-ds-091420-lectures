{
 "cells": [
  {
   "cell_type": "markdown",
   "metadata": {},
   "source": [
    "# Statistics Fundamentals \n",
    "\n",
    "_September 15, 2020_\n",
    "\n",
    "Agenda today:\n",
    "- Measure of central tendency: mean, median, mode\n",
    "- Measure of dispersion: variance, standard deviation\n",
    "- Measure of relationship: covariance and correlation"
   ]
  },
  {
   "cell_type": "code",
   "execution_count": 22,
   "metadata": {},
   "outputs": [],
   "source": [
    "import numpy as np\n",
    "import matplotlib.pyplot as plt"
   ]
  },
  {
   "cell_type": "markdown",
   "metadata": {},
   "source": [
    "## Part I. Mean, Median, and Mode\n",
    "What are the definition of the three measurements?"
   ]
  },
  {
   "cell_type": "code",
   "execution_count": 23,
   "metadata": {
    "scrolled": true
   },
   "outputs": [
    {
     "data": {
      "text/plain": [
       "Text(0, 0.5, 'count')"
      ]
     },
     "execution_count": 23,
     "metadata": {},
     "output_type": "execute_result"
    },
    {
     "data": {
      "image/png": "[encoded data removed]",
      "text/plain": [
       "<Figure size 432x288 with 1 Axes>"
      ]
     },
     "metadata": {},
     "output_type": "display_data"
    }
   ],
   "source": [
    "array = [10,11,11,12,11,13,14,16,17,18,19,20,22,24,26,22,24]\n",
    "# plot it out and examine it \n",
    "plt.style.use('fivethirtyeight')\n",
    "plt.hist(array)\n",
    "plt.ylabel('count')"
   ]
  },
  {
   "cell_type": "markdown",
   "metadata": {},
   "source": [
    "What is the above plot called? What kind of values can it be used to represent?"
   ]
  },
  {
   "cell_type": "markdown",
   "metadata": {},
   "source": [
    "## Part II. Measure of Dispersion\n",
    "Two measurements of dispersion we will be concerned with is **variance** and **standard deviation**. They are both measurement of variability of dataset. Why might we need a measure of variability in addition to central tendency?"
   ]
  },
  {
   "cell_type": "markdown",
   "metadata": {},
   "source": [
    "#### Variance calculation:\n",
    "$$ \\large \\sigma^2 = \\dfrac{1}{n}\\displaystyle\\sum^n_{i=1}(x_i-\\mu)^2 $$\n",
    "\n",
    "#### Standard deviation calculation:\n",
    "$$ \\large \\sigma = \\sqrt{\\dfrac{1}{n}\\displaystyle\\sum^n_{i=1}(x_i-\\mu)^2} $$"
   ]
  },
  {
   "cell_type": "code",
   "execution_count": 34,
   "metadata": {},
   "outputs": [],
   "source": [
    "test1 = list(range(1,10)) # [1, 2, 3, 4, 5, 6, 7, 8, 9]\n",
    "test2 = [4, 5, 8, 12, 41, 14, 15, 15, 18]\n",
    "#print(len(test1) == len(test2)) #check equal length for covariance"
   ]
  },
  {
   "cell_type": "code",
   "execution_count": 114,
   "metadata": {},
   "outputs": [],
   "source": [
    "# exercises\n",
    "\n",
    "# can you write a function that takes in an array, calculate the variance and standard deviation?\n",
    "def calculate_variance(array):\n",
    "    '''\n",
    "    calculate the variance of an array\n",
    "    '''\n",
    "    mean = sum(array)/len(array)\n",
    "    return sum((x - mean) ** 2 for x in array)/len(array)"
   ]
  },
  {
   "cell_type": "code",
   "execution_count": 115,
   "metadata": {},
   "outputs": [
    {
     "name": "stdout",
     "output_type": "stream",
     "text": [
      "26.52595155709342\n",
      "1.25\n",
      "1.25\n"
     ]
    }
   ],
   "source": [
    "print(calculate_variance(array))\n",
    "print(calculate_variance(test1))\n",
    "print(calculate_variance(test2))"
   ]
  },
  {
   "cell_type": "code",
   "execution_count": 109,
   "metadata": {},
   "outputs": [],
   "source": [
    "def calculate_std(array):\n",
    "    '''\n",
    "    calculate the standard deviation of an array\n",
    "    '''\n",
    "    return calculate_variance(array) ** 0.5"
   ]
  },
  {
   "cell_type": "code",
   "execution_count": 86,
   "metadata": {},
   "outputs": [
    {
     "name": "stdout",
     "output_type": "stream",
     "text": [
      "21.23537559052319\n",
      "2.23606797749979\n",
      "2.23606797749979\n"
     ]
    }
   ],
   "source": [
    "print(calculate_std(array))\n",
    "print(calculate_std(test1))\n",
    "print(calculate_std(test2))"
   ]
  },
  {
   "cell_type": "markdown",
   "metadata": {},
   "source": [
    "## Part III. Covariance and Correlation\n",
    "Covariance and correlation measures the degree of two variables' relationship. \n",
    "\n",
    "#### Covariance calculation:\n",
    "$$Cov_{X,Y} = \\dfrac{1}{n}\\displaystyle\\sum_{i=1}^{n}(x_i -\\mu_x)(y_i - \\mu_y)$$\n",
    "\n",
    "#### Correlation calculation:\n",
    "$$ r = \\frac{\\sum_{i=1}^{n}(x_i -\\mu_x)(y_i - \\mu_y)} {\\sigma_x  \\sigma_y}$$"
   ]
  },
  {
   "cell_type": "markdown",
   "metadata": {},
   "source": [
    "<img src= 'https://raw.githubusercontent.com/learn-co-curriculum/dsc-correlation-covariance/master/images/correx.svg'>"
   ]
  },
  {
   "cell_type": "code",
   "execution_count": 110,
   "metadata": {},
   "outputs": [],
   "source": [
    "## exercises\n",
    "\n",
    "# write a function that calculates the correlation and covariance of two arrays \n",
    "\n",
    "def calculate_covariance(array1, array2):\n",
    "    '''\n",
    "    calculate the covariance of two arrays \n",
    "    '''\n",
    "    \n",
    "    if len(array1) != len(array2):\n",
    "        print(\"Sample size is not equal, exiting calculation\")\n",
    "        pass\n",
    "    \n",
    "    mean1 = sum(array1)/len(array1)\n",
    "    mean2 = sum(array2)/len(array2)\n",
    "    varsum = sum([(x1-mean1) * (y1-mean2) for x1, y1 in zip(array1,array2)])\n",
    "    #varsum = 0\n",
    "    #for num1, num2 in zip(array1,array):\n",
    "        #varsum += (num1-mean1) * (num2-mean2)\n",
    "    \n",
    "    return varsum/len(array1)"
   ]
  },
  {
   "cell_type": "code",
   "execution_count": 111,
   "metadata": {},
   "outputs": [
    {
     "name": "stdout",
     "output_type": "stream",
     "text": [
      "1.25\n"
     ]
    }
   ],
   "source": [
    "test1 = [1,2,3,4]\n",
    "test2 = [1,2,3,4]\n",
    "print(calculate_covariance(test1, test2))"
   ]
  },
  {
   "cell_type": "code",
   "execution_count": 112,
   "metadata": {},
   "outputs": [],
   "source": [
    "def calculate_correlation(array1, array2):\n",
    "    '''\n",
    "    calculate the correlation of two arrays\n",
    "    '''\n",
    "    \n",
    "    if len(array1) != len(array2):\n",
    "        print(\"Sample size is not equal, exiting calculation\")\n",
    "        pass\n",
    "\n",
    "    top = calculate_covariance(array1, array2)\n",
    "    bottom = calculate_std(array1)*calculate_std(array2)\n",
    "    print(top)\n",
    "    print(bottom)\n",
    "    return top/bottom"
   ]
  },
  {
   "cell_type": "code",
   "execution_count": 113,
   "metadata": {},
   "outputs": [
    {
     "name": "stdout",
     "output_type": "stream",
     "text": [
      "1.25\n",
      "1.2500000000000002\n",
      "0.9999999999999998\n"
     ]
    }
   ],
   "source": [
    "test1 = [1,2,3,4]\n",
    "test2 = [1,2,3,4]\n",
    "\n",
    "print(calculate_correlation(test1, test2))s"
   ]
  },
  {
   "cell_type": "code",
   "execution_count": null,
   "metadata": {},
   "outputs": [],
   "source": []
  }
 ],
 "metadata": {
  "kernelspec": {
   "display_name": "Python 3",
   "language": "python",
   "name": "python3"
  },
  "language_info": {
   "codemirror_mode": {
    "name": "ipython",
    "version": 3
   },
   "file_extension": ".py",
   "mimetype": "text/x-python",
   "name": "python",
   "nbconvert_exporter": "python",
   "pygments_lexer": "ipython3",
   "version": "3.6.9"
  }
 },
 "nbformat": 4,
 "nbformat_minor": 2
}
