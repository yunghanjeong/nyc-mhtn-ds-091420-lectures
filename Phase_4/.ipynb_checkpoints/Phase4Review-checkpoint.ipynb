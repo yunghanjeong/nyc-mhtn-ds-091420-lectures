{
 "cells": [
  {
   "cell_type": "markdown",
   "metadata": {},
   "source": [
    "# Phase 4 Assessment Review\n",
    "Agenda Today:\n",
    "- Principal Component Analysis\n",
    "- Clustering\n",
    "- Time Series\n",
    "- Natural Language Processing"
   ]
  },
  {
   "cell_type": "code",
   "execution_count": 36,
   "metadata": {},
   "outputs": [],
   "source": [
    "from sklearn.model_selection import train_test_split\n",
    "from sklearn.preprocessing import StandardScaler, LabelEncoder\n",
    "from sklearn.decomposition import PCA\n",
    "\n",
    "from sklearn.cluster import KMeans\n",
    "from sklearn.ensemble import RandomForestClassifier\n",
    "\n",
    "from sklearn.naive_bayes import MultinomialNB\n",
    "from sklearn.metrics import accuracy_score, confusion_matrix, silhouette_score\n",
    "\n",
    "from sklearn.feature_extraction.text import TfidfVectorizer\n",
    "\n",
    "import string\n",
    "import nltk\n",
    "from nltk.corpus import stopwords\n",
    "from nltk import word_tokenize\n",
    "from nltk.tokenize import RegexpTokenizer\n",
    "\n",
    "import seaborn as sns\n",
    "import matplotlib.pyplot as plt\n",
    "import numpy as np\n",
    "import pandas as pd\n",
    "plt.style.use('fivethirtyeight')"
   ]
  },
  {
   "cell_type": "markdown",
   "metadata": {},
   "source": [
    "## Part I. PCA"
   ]
  },
  {
   "cell_type": "code",
   "execution_count": 58,
   "metadata": {},
   "outputs": [],
   "source": [
    "# Import the mpg dataset and build pca\n",
    "mpg = sns.load_dataset('mpg')\n",
    "# what are some of the steps to build pca?\n",
    "mpg_features = mpg.iloc[:,:5]\n",
    "# step 1 - standardize and scale\n",
    "scaler = StandardScaler()\n",
    "mpg_scaled = pd.DataFrame(scaler.fit_transform(mpg_features), columns=mpg_features.columns)\n",
    "mpg_scaled.dropna(axis = 0, inplace = True)"
   ]
  },
  {
   "cell_type": "code",
   "execution_count": 59,
   "metadata": {
    "scrolled": true
   },
   "outputs": [
    {
     "data": {
      "text/html": [
       "<div>\n",
       "<style scoped>\n",
       "    .dataframe tbody tr th:only-of-type {\n",
       "        vertical-align: middle;\n",
       "    }\n",
       "\n",
       "    .dataframe tbody tr th {\n",
       "        vertical-align: top;\n",
       "    }\n",
       "\n",
       "    .dataframe thead th {\n",
       "        text-align: right;\n",
       "    }\n",
       "</style>\n",
       "<table border=\"1\" class=\"dataframe\">\n",
       "  <thead>\n",
       "    <tr style=\"text-align: right;\">\n",
       "      <th></th>\n",
       "      <th>mpg</th>\n",
       "      <th>cylinders</th>\n",
       "      <th>displacement</th>\n",
       "      <th>horsepower</th>\n",
       "      <th>weight</th>\n",
       "    </tr>\n",
       "  </thead>\n",
       "  <tbody>\n",
       "    <tr>\n",
       "      <th>0</th>\n",
       "      <td>-0.706439</td>\n",
       "      <td>1.498191</td>\n",
       "      <td>1.090604</td>\n",
       "      <td>0.664133</td>\n",
       "      <td>0.630870</td>\n",
       "    </tr>\n",
       "    <tr>\n",
       "      <th>1</th>\n",
       "      <td>-1.090751</td>\n",
       "      <td>1.498191</td>\n",
       "      <td>1.503514</td>\n",
       "      <td>1.574594</td>\n",
       "      <td>0.854333</td>\n",
       "    </tr>\n",
       "    <tr>\n",
       "      <th>2</th>\n",
       "      <td>-0.706439</td>\n",
       "      <td>1.498191</td>\n",
       "      <td>1.196232</td>\n",
       "      <td>1.184397</td>\n",
       "      <td>0.550470</td>\n",
       "    </tr>\n",
       "    <tr>\n",
       "      <th>3</th>\n",
       "      <td>-0.962647</td>\n",
       "      <td>1.498191</td>\n",
       "      <td>1.061796</td>\n",
       "      <td>1.184397</td>\n",
       "      <td>0.546923</td>\n",
       "    </tr>\n",
       "    <tr>\n",
       "      <th>4</th>\n",
       "      <td>-0.834543</td>\n",
       "      <td>1.498191</td>\n",
       "      <td>1.042591</td>\n",
       "      <td>0.924265</td>\n",
       "      <td>0.565841</td>\n",
       "    </tr>\n",
       "  </tbody>\n",
       "</table>\n",
       "</div>"
      ],
      "text/plain": [
       "        mpg  cylinders  displacement  horsepower    weight\n",
       "0 -0.706439   1.498191      1.090604    0.664133  0.630870\n",
       "1 -1.090751   1.498191      1.503514    1.574594  0.854333\n",
       "2 -0.706439   1.498191      1.196232    1.184397  0.550470\n",
       "3 -0.962647   1.498191      1.061796    1.184397  0.546923\n",
       "4 -0.834543   1.498191      1.042591    0.924265  0.565841"
      ]
     },
     "execution_count": 59,
     "metadata": {},
     "output_type": "execute_result"
    }
   ],
   "source": [
    "mpg_scaled.head()"
   ]
  },
  {
   "cell_type": "code",
   "execution_count": 60,
   "metadata": {},
   "outputs": [
    {
     "data": {
      "text/plain": [
       "(392, 5)"
      ]
     },
     "execution_count": 60,
     "metadata": {},
     "output_type": "execute_result"
    }
   ],
   "source": [
    "mpg_scaled.shape"
   ]
  },
  {
   "cell_type": "code",
   "execution_count": 61,
   "metadata": {
    "scrolled": false
   },
   "outputs": [],
   "source": [
    "# step 2 fit our pca - and specify i only want the amount of components that explain 90% of the variance \n",
    "mpg_pca = PCA(n_components=0.9)"
   ]
  },
  {
   "cell_type": "code",
   "execution_count": 65,
   "metadata": {},
   "outputs": [
    {
     "data": {
      "text/plain": [
       "array([[-0.41997093,  0.4518869 ,  0.46404706,  0.44128215,  0.45755112],\n",
       "       [ 0.88371228,  0.33388273,  0.2722891 ,  0.18011154,  0.03151838]])"
      ]
     },
     "execution_count": 65,
     "metadata": {},
     "output_type": "execute_result"
    }
   ],
   "source": [
    "# check out how many components there are \n",
    "principal_components = mpg_pca.fit_transform(mpg_scaled)\n",
    "mpg_pca.components_"
   ]
  },
  {
   "cell_type": "code",
   "execution_count": 63,
   "metadata": {},
   "outputs": [],
   "source": [
    "# 2 components \n",
    "mpg_pca.n_components_"
   ]
  },
  {
   "cell_type": "markdown",
   "metadata": {},
   "source": [
    "#### What are some of the advantages using PCA? How does it help reduce dimensions?"
   ]
  },
  {
   "cell_type": "markdown",
   "metadata": {},
   "source": [
    "PCA can help with large data by reducing the dimension into smaller dimension by projecting the data into lower dimension. \n",
    "\n",
    "PCA also aids with data with multicolinearity because all features of PCAs are orthogonal (linearly independent)\n",
    "\n",
    "Lowers the interpretability of the model"
   ]
  },
  {
   "cell_type": "markdown",
   "metadata": {},
   "source": [
    "## Part II. Clustering"
   ]
  },
  {
   "cell_type": "markdown",
   "metadata": {},
   "source": [
    "- Describe the algorithm of [K-Means](https://www.naftaliharris.com/blog/visualizing-k-means-clustering/) Clustering \n"
   ]
  },
  {
   "cell_type": "code",
   "execution_count": 68,
   "metadata": {
    "scrolled": true
   },
   "outputs": [
    {
     "data": {
      "text/plain": [
       "KMeans(n_clusters=3)"
      ]
     },
     "execution_count": 68,
     "metadata": {},
     "output_type": "execute_result"
    }
   ],
   "source": [
    "# building a k-means clustering model with 3 clusters\n",
    "kmeans = KMeans(n_clusters=3)\n",
    "kmeans.fit(mpg_scaled)"
   ]
  },
  {
   "cell_type": "code",
   "execution_count": 71,
   "metadata": {
    "scrolled": false
   },
   "outputs": [
    {
     "data": {
      "text/plain": [
       "{0, 1, 2}"
      ]
     },
     "execution_count": 71,
     "metadata": {},
     "output_type": "execute_result"
    }
   ],
   "source": [
    "# we can get the labels\n",
    "set(kmeans.labels_)"
   ]
  },
  {
   "cell_type": "code",
   "execution_count": 72,
   "metadata": {},
   "outputs": [
    {
     "data": {
      "text/plain": [
       "0.5214421123757329"
      ]
     },
     "execution_count": 72,
     "metadata": {},
     "output_type": "execute_result"
    }
   ],
   "source": [
    "# what are some of the ways to evaluate k-means?\n",
    "silhouette_score(mpg_scaled, kmeans.labels_)\n",
    "# how to select the best value of k using those metrics?"
   ]
  },
  {
   "cell_type": "code",
   "execution_count": null,
   "metadata": {},
   "outputs": [],
   "source": [
    "# silhouette_score\n",
    "# (b - a) / max(a, b) (avg between cluster - avg within cluster)\n",
    "# want this to be large"
   ]
  },
  {
   "cell_type": "markdown",
   "metadata": {},
   "source": [
    "## Part III. Natural Language Processing \n",
    "- What are some of the ways in which we can engineer features in NLP?\n",
    "- What is TF-IDF, how is it calculated? What does it represent?"
   ]
  },
  {
   "cell_type": "code",
   "execution_count": 23,
   "metadata": {},
   "outputs": [],
   "source": [
    "# instantiate some data \n",
    "review_1 = \"6/10 Acting, not great but some good acting.<br /><br />4/10 Director, makes some stupid decisions for this film.<br /><br />2/10 Writer, story makes no sense at all and has huge amount of flaws.<br /><br />4/10 Overall score for this movie.<br /><br />Don't waste your time with this film, it's not worth it. I gave 4 for this movie and it may be too much. Characters are so over exaggerated than they can ever be in real life and some pretty unexplainable stuff happens 'storywise', not in good way. Because of the style this film has been filmed you get bored after 30 minutes (too many special effects: slow motions and camera shakes and fast forwards). It's always good that movie uses music to make the story go smooth but there's too many tracks in this one. In the first hour there is almost 50/50 dialogs and musics\"\n",
    "review_2 = \"Devil Hunter gained notoriety for the fact that it's on the DPP 'Video Nasty' list, but it really needn't have been. Many films on the list where there for God (and DPP) only known reasons, and while this isn't the tamest of the bunch; there isn't a lot here that warrants banning...which is a shame because I never would have sat through it where it not for the fact that it's on 'the shopping list'. The plot actually gives the film a decent base - or at least more of a decent base than most cannibal films - and it follows an actress who is kidnapped and dragged off into the Amazon jungle. A hunter is then hired to find her, but along the way he has to brave the natives, lead by a man who calls himself 'The Devil' (hence the title). The film basically just plods along for eighty five minutes and there really aren't many scenes of interest. It's a real shame that Jess Franco ended up making films like this because the man clearly has talent; as seen by films such as The Diabolical Dr Z, Venus in Furs, Faceless and She Kills in Ecstasy, but unfortunately his good films are just gems amongst heaps of crap and Devil Hunter is very much a part of the crap. I saw this film purely because I want to be able to say I've seen everything on the DPP's list (just two more to go!), and I'm guessing that's why most other people who have seen it, saw it. But if you're not on the lookout for Nasties; there really is no reason to bother with this one.\"\n",
    "review_3 = \"`Stanley and Iris' is a heart warming film about two people who find each other and help one another overcome their problems in life. Stanley's life is difficult, because he never learned to read or write. Iris is a widower with two teenage children working in a bakery where she meets Stanley. She decides to teach Stanley how to read at her home in her spare time. Over time they become romantically involved. After Stanley learns to read, he goes off to a good job in Chicago, only to return to Iris and ask her to marry him.<br /><br />It's a really good film without nudity, violence, or profanity, that which is rare in today's films. A good film all round. <br /><br />\"\n",
    "review_4 = \"This may not be a memorable classic, but it is a touching romance with an important theme that stresses the importance of literacy in modern society and the devastating career and life consequences for any unfortunate individual lacking this vital skill.<br /><br />The story revolves around Iris, a widow who becomes acquainted with a fellow employee at her factory job, an illiterate cafeteria worker named Stanley. Iris discovers that Stanley is unable to read, and after he loses his job, she gives him reading lessons at home in her kitchen. Of course, as you might predict, the two, although initially wary of involvement, develop feelings for each other...<br /><br />Jane Fonda competently plays Iris, a woman with problems of her own, coping with a job lacking prospects, two teenage children (one pregnant), an unemployed sister and her abusive husband. However, Robert DeNiro is of course brilliant in his endearing portrayal of the intelligent and resourceful, but illiterate, Stanley, bringing a dignity to the role that commands respect. They aren't your typical charming young yuppie couple, as generally depicted in on screen romances, but an ordinary working class, middle aged pair with pretty down to earth struggles.<br /><br />I won't give the ending away, but it's a lovely, heartwarming romance and a personal look into the troubling issue of adult illiteracy, albeit from the perspective of a fictional character.\"\n",
    "labels = [0,1,1,0]\n",
    "df = pd.DataFrame([review_1,review_2,review_3, review_4],columns = ['review'])\n",
    "df['label'] = labels"
   ]
  },
  {
   "cell_type": "code",
   "execution_count": 24,
   "metadata": {},
   "outputs": [],
   "source": [
    "# define our x and y\n",
    "X = df.review\n",
    "y = df.label"
   ]
  },
  {
   "cell_type": "code",
   "execution_count": 25,
   "metadata": {
    "scrolled": false
   },
   "outputs": [
    {
     "data": {
      "text/html": [
       "<div>\n",
       "<style scoped>\n",
       "    .dataframe tbody tr th:only-of-type {\n",
       "        vertical-align: middle;\n",
       "    }\n",
       "\n",
       "    .dataframe tbody tr th {\n",
       "        vertical-align: top;\n",
       "    }\n",
       "\n",
       "    .dataframe thead th {\n",
       "        text-align: right;\n",
       "    }\n",
       "</style>\n",
       "<table border=\"1\" class=\"dataframe\">\n",
       "  <thead>\n",
       "    <tr style=\"text-align: right;\">\n",
       "      <th></th>\n",
       "      <th>review</th>\n",
       "      <th>label</th>\n",
       "    </tr>\n",
       "  </thead>\n",
       "  <tbody>\n",
       "    <tr>\n",
       "      <th>0</th>\n",
       "      <td>6/10 Acting, not great but some good acting.&lt;b...</td>\n",
       "      <td>0</td>\n",
       "    </tr>\n",
       "    <tr>\n",
       "      <th>1</th>\n",
       "      <td>Devil Hunter gained notoriety for the fact tha...</td>\n",
       "      <td>1</td>\n",
       "    </tr>\n",
       "    <tr>\n",
       "      <th>2</th>\n",
       "      <td>`Stanley and Iris' is a heart warming film abo...</td>\n",
       "      <td>1</td>\n",
       "    </tr>\n",
       "    <tr>\n",
       "      <th>3</th>\n",
       "      <td>This may not be a memorable classic, but it is...</td>\n",
       "      <td>0</td>\n",
       "    </tr>\n",
       "  </tbody>\n",
       "</table>\n",
       "</div>"
      ],
      "text/plain": [
       "                                              review  label\n",
       "0  6/10 Acting, not great but some good acting.<b...      0\n",
       "1  Devil Hunter gained notoriety for the fact tha...      1\n",
       "2  `Stanley and Iris' is a heart warming film abo...      1\n",
       "3  This may not be a memorable classic, but it is...      0"
      ]
     },
     "execution_count": 25,
     "metadata": {},
     "output_type": "execute_result"
    }
   ],
   "source": [
    "df"
   ]
  },
  {
   "cell_type": "code",
   "execution_count": 37,
   "metadata": {},
   "outputs": [],
   "source": [
    "tokenizer = RegexpTokenizer(r'[a-zA-Z0-9]+')"
   ]
  },
  {
   "cell_type": "code",
   "execution_count": 45,
   "metadata": {},
   "outputs": [],
   "source": [
    "tokenized_reviews = [tokenizer.tokenize(review) for review in df.review]"
   ]
  },
  {
   "cell_type": "code",
   "execution_count": 56,
   "metadata": {},
   "outputs": [
    {
     "data": {
      "text/plain": [
       "['Devil',\n",
       " 'Hunter',\n",
       " 'gained',\n",
       " 'notoriety',\n",
       " 'for',\n",
       " 'the',\n",
       " 'fact',\n",
       " 'that',\n",
       " 'it',\n",
       " 's',\n",
       " 'on',\n",
       " 'the',\n",
       " 'DPP',\n",
       " 'Video',\n",
       " 'Nasty',\n",
       " 'list',\n",
       " 'but',\n",
       " 'it',\n",
       " 'really',\n",
       " 'needn',\n",
       " 't',\n",
       " 'have',\n",
       " 'been',\n",
       " 'Many',\n",
       " 'films',\n",
       " 'on',\n",
       " 'the',\n",
       " 'list',\n",
       " 'where',\n",
       " 'there',\n",
       " 'for',\n",
       " 'God',\n",
       " 'and',\n",
       " 'DPP',\n",
       " 'only',\n",
       " 'known',\n",
       " 'reasons',\n",
       " 'and',\n",
       " 'while',\n",
       " 'this',\n",
       " 'isn',\n",
       " 't',\n",
       " 'the',\n",
       " 'tamest',\n",
       " 'of',\n",
       " 'the',\n",
       " 'bunch',\n",
       " 'there',\n",
       " 'isn',\n",
       " 't',\n",
       " 'a',\n",
       " 'lot',\n",
       " 'here',\n",
       " 'that',\n",
       " 'warrants',\n",
       " 'banning',\n",
       " 'which',\n",
       " 'is',\n",
       " 'a',\n",
       " 'shame',\n",
       " 'because',\n",
       " 'I',\n",
       " 'never',\n",
       " 'would',\n",
       " 'have',\n",
       " 'sat',\n",
       " 'through',\n",
       " 'it',\n",
       " 'where',\n",
       " 'it',\n",
       " 'not',\n",
       " 'for',\n",
       " 'the',\n",
       " 'fact',\n",
       " 'that',\n",
       " 'it',\n",
       " 's',\n",
       " 'on',\n",
       " 'the',\n",
       " 'shopping',\n",
       " 'list',\n",
       " 'The',\n",
       " 'plot',\n",
       " 'actually',\n",
       " 'gives',\n",
       " 'the',\n",
       " 'film',\n",
       " 'a',\n",
       " 'decent',\n",
       " 'base',\n",
       " 'or',\n",
       " 'at',\n",
       " 'least',\n",
       " 'more',\n",
       " 'of',\n",
       " 'a',\n",
       " 'decent',\n",
       " 'base',\n",
       " 'than',\n",
       " 'most',\n",
       " 'cannibal',\n",
       " 'films',\n",
       " 'and',\n",
       " 'it',\n",
       " 'follows',\n",
       " 'an',\n",
       " 'actress',\n",
       " 'who',\n",
       " 'is',\n",
       " 'kidnapped',\n",
       " 'and',\n",
       " 'dragged',\n",
       " 'off',\n",
       " 'into',\n",
       " 'the',\n",
       " 'Amazon',\n",
       " 'jungle',\n",
       " 'A',\n",
       " 'hunter',\n",
       " 'is',\n",
       " 'then',\n",
       " 'hired',\n",
       " 'to',\n",
       " 'find',\n",
       " 'her',\n",
       " 'but',\n",
       " 'along',\n",
       " 'the',\n",
       " 'way',\n",
       " 'he',\n",
       " 'has',\n",
       " 'to',\n",
       " 'brave',\n",
       " 'the',\n",
       " 'natives',\n",
       " 'lead',\n",
       " 'by',\n",
       " 'a',\n",
       " 'man',\n",
       " 'who',\n",
       " 'calls',\n",
       " 'himself',\n",
       " 'The',\n",
       " 'Devil',\n",
       " 'hence',\n",
       " 'the',\n",
       " 'title',\n",
       " 'The',\n",
       " 'film',\n",
       " 'basically',\n",
       " 'just',\n",
       " 'plods',\n",
       " 'along',\n",
       " 'for',\n",
       " 'eighty',\n",
       " 'five',\n",
       " 'minutes',\n",
       " 'and',\n",
       " 'there',\n",
       " 'really',\n",
       " 'aren',\n",
       " 't',\n",
       " 'many',\n",
       " 'scenes',\n",
       " 'of',\n",
       " 'interest',\n",
       " 'It',\n",
       " 's',\n",
       " 'a',\n",
       " 'real',\n",
       " 'shame',\n",
       " 'that',\n",
       " 'Jess',\n",
       " 'Franco',\n",
       " 'ended',\n",
       " 'up',\n",
       " 'making',\n",
       " 'films',\n",
       " 'like',\n",
       " 'this',\n",
       " 'because',\n",
       " 'the',\n",
       " 'man',\n",
       " 'clearly',\n",
       " 'has',\n",
       " 'talent',\n",
       " 'as',\n",
       " 'seen',\n",
       " 'by',\n",
       " 'films',\n",
       " 'such',\n",
       " 'as',\n",
       " 'The',\n",
       " 'Diabolical',\n",
       " 'Dr',\n",
       " 'Z',\n",
       " 'Venus',\n",
       " 'in',\n",
       " 'Furs',\n",
       " 'Faceless',\n",
       " 'and',\n",
       " 'She',\n",
       " 'Kills',\n",
       " 'in',\n",
       " 'Ecstasy',\n",
       " 'but',\n",
       " 'unfortunately',\n",
       " 'his',\n",
       " 'good',\n",
       " 'films',\n",
       " 'are',\n",
       " 'just',\n",
       " 'gems',\n",
       " 'amongst',\n",
       " 'heaps',\n",
       " 'of',\n",
       " 'crap',\n",
       " 'and',\n",
       " 'Devil',\n",
       " 'Hunter',\n",
       " 'is',\n",
       " 'very',\n",
       " 'much',\n",
       " 'a',\n",
       " 'part',\n",
       " 'of',\n",
       " 'the',\n",
       " 'crap',\n",
       " 'I',\n",
       " 'saw',\n",
       " 'this',\n",
       " 'film',\n",
       " 'purely',\n",
       " 'because',\n",
       " 'I',\n",
       " 'want',\n",
       " 'to',\n",
       " 'be',\n",
       " 'able',\n",
       " 'to',\n",
       " 'say',\n",
       " 'I',\n",
       " 've',\n",
       " 'seen',\n",
       " 'everything',\n",
       " 'on',\n",
       " 'the',\n",
       " 'DPP',\n",
       " 's',\n",
       " 'list',\n",
       " 'just',\n",
       " 'two',\n",
       " 'more',\n",
       " 'to',\n",
       " 'go',\n",
       " 'and',\n",
       " 'I',\n",
       " 'm',\n",
       " 'guessing',\n",
       " 'that',\n",
       " 's',\n",
       " 'why',\n",
       " 'most',\n",
       " 'other',\n",
       " 'people',\n",
       " 'who',\n",
       " 'have',\n",
       " 'seen',\n",
       " 'it',\n",
       " 'saw',\n",
       " 'it',\n",
       " 'But',\n",
       " 'if',\n",
       " 'you',\n",
       " 're',\n",
       " 'not',\n",
       " 'on',\n",
       " 'the',\n",
       " 'lookout',\n",
       " 'for',\n",
       " 'Nasties',\n",
       " 'there',\n",
       " 'really',\n",
       " 'is',\n",
       " 'no',\n",
       " 'reason',\n",
       " 'to',\n",
       " 'bother',\n",
       " 'with',\n",
       " 'this',\n",
       " 'one']"
      ]
     },
     "execution_count": 56,
     "metadata": {},
     "output_type": "execute_result"
    }
   ],
   "source": [
    "tokenized_reviews[1]"
   ]
  },
  {
   "cell_type": "code",
   "execution_count": 52,
   "metadata": {},
   "outputs": [],
   "source": [
    "stopwords = ['am','he','i','the','hi']\n",
    "# for token_review in tokenized_reviews:\n",
    "    \n",
    "# stop words removal\n",
    "\n",
    "stop_token_review = [[char for char in token_review if char not in stopwords] \n",
    "                     for token_review in tokenized_reviews]\n"
   ]
  },
  {
   "cell_type": "code",
   "execution_count": 57,
   "metadata": {},
   "outputs": [
    {
     "data": {
      "text/plain": [
       "['Devil',\n",
       " 'Hunter',\n",
       " 'gained',\n",
       " 'notoriety',\n",
       " 'for',\n",
       " 'fact',\n",
       " 'that',\n",
       " 'it',\n",
       " 's',\n",
       " 'on',\n",
       " 'DPP',\n",
       " 'Video',\n",
       " 'Nasty',\n",
       " 'list',\n",
       " 'but',\n",
       " 'it',\n",
       " 'really',\n",
       " 'needn',\n",
       " 't',\n",
       " 'have',\n",
       " 'been',\n",
       " 'Many',\n",
       " 'films',\n",
       " 'on',\n",
       " 'list',\n",
       " 'where',\n",
       " 'there',\n",
       " 'for',\n",
       " 'God',\n",
       " 'and',\n",
       " 'DPP',\n",
       " 'only',\n",
       " 'known',\n",
       " 'reasons',\n",
       " 'and',\n",
       " 'while',\n",
       " 'this',\n",
       " 'isn',\n",
       " 't',\n",
       " 'tamest',\n",
       " 'of',\n",
       " 'bunch',\n",
       " 'there',\n",
       " 'isn',\n",
       " 't',\n",
       " 'a',\n",
       " 'lot',\n",
       " 'here',\n",
       " 'that',\n",
       " 'warrants',\n",
       " 'banning',\n",
       " 'which',\n",
       " 'is',\n",
       " 'a',\n",
       " 'shame',\n",
       " 'because',\n",
       " 'I',\n",
       " 'never',\n",
       " 'would',\n",
       " 'have',\n",
       " 'sat',\n",
       " 'through',\n",
       " 'it',\n",
       " 'where',\n",
       " 'it',\n",
       " 'not',\n",
       " 'for',\n",
       " 'fact',\n",
       " 'that',\n",
       " 'it',\n",
       " 's',\n",
       " 'on',\n",
       " 'shopping',\n",
       " 'list',\n",
       " 'The',\n",
       " 'plot',\n",
       " 'actually',\n",
       " 'gives',\n",
       " 'film',\n",
       " 'a',\n",
       " 'decent',\n",
       " 'base',\n",
       " 'or',\n",
       " 'at',\n",
       " 'least',\n",
       " 'more',\n",
       " 'of',\n",
       " 'a',\n",
       " 'decent',\n",
       " 'base',\n",
       " 'than',\n",
       " 'most',\n",
       " 'cannibal',\n",
       " 'films',\n",
       " 'and',\n",
       " 'it',\n",
       " 'follows',\n",
       " 'an',\n",
       " 'actress',\n",
       " 'who',\n",
       " 'is',\n",
       " 'kidnapped',\n",
       " 'and',\n",
       " 'dragged',\n",
       " 'off',\n",
       " 'into',\n",
       " 'Amazon',\n",
       " 'jungle',\n",
       " 'A',\n",
       " 'hunter',\n",
       " 'is',\n",
       " 'then',\n",
       " 'hired',\n",
       " 'to',\n",
       " 'find',\n",
       " 'her',\n",
       " 'but',\n",
       " 'along',\n",
       " 'way',\n",
       " 'has',\n",
       " 'to',\n",
       " 'brave',\n",
       " 'natives',\n",
       " 'lead',\n",
       " 'by',\n",
       " 'a',\n",
       " 'man',\n",
       " 'who',\n",
       " 'calls',\n",
       " 'himself',\n",
       " 'The',\n",
       " 'Devil',\n",
       " 'hence',\n",
       " 'title',\n",
       " 'The',\n",
       " 'film',\n",
       " 'basically',\n",
       " 'just',\n",
       " 'plods',\n",
       " 'along',\n",
       " 'for',\n",
       " 'eighty',\n",
       " 'five',\n",
       " 'minutes',\n",
       " 'and',\n",
       " 'there',\n",
       " 'really',\n",
       " 'aren',\n",
       " 't',\n",
       " 'many',\n",
       " 'scenes',\n",
       " 'of',\n",
       " 'interest',\n",
       " 'It',\n",
       " 's',\n",
       " 'a',\n",
       " 'real',\n",
       " 'shame',\n",
       " 'that',\n",
       " 'Jess',\n",
       " 'Franco',\n",
       " 'ended',\n",
       " 'up',\n",
       " 'making',\n",
       " 'films',\n",
       " 'like',\n",
       " 'this',\n",
       " 'because',\n",
       " 'man',\n",
       " 'clearly',\n",
       " 'has',\n",
       " 'talent',\n",
       " 'as',\n",
       " 'seen',\n",
       " 'by',\n",
       " 'films',\n",
       " 'such',\n",
       " 'as',\n",
       " 'The',\n",
       " 'Diabolical',\n",
       " 'Dr',\n",
       " 'Z',\n",
       " 'Venus',\n",
       " 'in',\n",
       " 'Furs',\n",
       " 'Faceless',\n",
       " 'and',\n",
       " 'She',\n",
       " 'Kills',\n",
       " 'in',\n",
       " 'Ecstasy',\n",
       " 'but',\n",
       " 'unfortunately',\n",
       " 'his',\n",
       " 'good',\n",
       " 'films',\n",
       " 'are',\n",
       " 'just',\n",
       " 'gems',\n",
       " 'amongst',\n",
       " 'heaps',\n",
       " 'of',\n",
       " 'crap',\n",
       " 'and',\n",
       " 'Devil',\n",
       " 'Hunter',\n",
       " 'is',\n",
       " 'very',\n",
       " 'much',\n",
       " 'a',\n",
       " 'part',\n",
       " 'of',\n",
       " 'crap',\n",
       " 'I',\n",
       " 'saw',\n",
       " 'this',\n",
       " 'film',\n",
       " 'purely',\n",
       " 'because',\n",
       " 'I',\n",
       " 'want',\n",
       " 'to',\n",
       " 'be',\n",
       " 'able',\n",
       " 'to',\n",
       " 'say',\n",
       " 'I',\n",
       " 've',\n",
       " 'seen',\n",
       " 'everything',\n",
       " 'on',\n",
       " 'DPP',\n",
       " 's',\n",
       " 'list',\n",
       " 'just',\n",
       " 'two',\n",
       " 'more',\n",
       " 'to',\n",
       " 'go',\n",
       " 'and',\n",
       " 'I',\n",
       " 'm',\n",
       " 'guessing',\n",
       " 'that',\n",
       " 's',\n",
       " 'why',\n",
       " 'most',\n",
       " 'other',\n",
       " 'people',\n",
       " 'who',\n",
       " 'have',\n",
       " 'seen',\n",
       " 'it',\n",
       " 'saw',\n",
       " 'it',\n",
       " 'But',\n",
       " 'if',\n",
       " 'you',\n",
       " 're',\n",
       " 'not',\n",
       " 'on',\n",
       " 'lookout',\n",
       " 'for',\n",
       " 'Nasties',\n",
       " 'there',\n",
       " 'really',\n",
       " 'is',\n",
       " 'no',\n",
       " 'reason',\n",
       " 'to',\n",
       " 'bother',\n",
       " 'with',\n",
       " 'this',\n",
       " 'one']"
      ]
     },
     "execution_count": 57,
     "metadata": {},
     "output_type": "execute_result"
    }
   ],
   "source": [
    "stop_token_review[1]"
   ]
  },
  {
   "cell_type": "code",
   "execution_count": 75,
   "metadata": {
    "scrolled": true
   },
   "outputs": [],
   "source": [
    "\n",
    "# what if you need to remove more stopwords than this collection?\n",
    "\n",
    "# use tfidf, with unigrams and bigrams, and remove stop words\n",
    "vectorizer = TfidfVectorizer(ngram_range=(1,2), stop_words=stopwords)\n",
    "\n",
    "## could you add some optional parameters to that?\n"
   ]
  },
  {
   "cell_type": "markdown",
   "metadata": {},
   "source": [
    "**Interpretation of TFIDF** \n",
    "\n",
    "What does a high value of TFIDF tell you about a certain word?"
   ]
  },
  {
   "cell_type": "code",
   "execution_count": 102,
   "metadata": {},
   "outputs": [],
   "source": [
    "# what are the step by step process of doing text classification\n",
    "\n",
    "# step 1 - train test split\n",
    "x_train, x_test, y_train, y_test = train_test_split(X, y)\n",
    "\n",
    "# step 2 - tokenize and feature engineer using tfidf \n",
    "eng_x_train = vectorizer.fit_transform(x_train)\n",
    "eng_x_test = vectorizer.transform(x_test)\n",
    "\n"
   ]
  },
  {
   "cell_type": "code",
   "execution_count": 103,
   "metadata": {},
   "outputs": [],
   "source": [
    "# step 3 - fit the model to the training set, test the model on the testing set\n",
    "rfc = RandomForestClassifier()"
   ]
  },
  {
   "cell_type": "code",
   "execution_count": 104,
   "metadata": {},
   "outputs": [
    {
     "data": {
      "text/plain": [
       "RandomForestClassifier()"
      ]
     },
     "execution_count": 104,
     "metadata": {},
     "output_type": "execute_result"
    }
   ],
   "source": [
    "rfc.fit(eng_x_train, y_train)"
   ]
  },
  {
   "cell_type": "code",
   "execution_count": 105,
   "metadata": {},
   "outputs": [],
   "source": [
    "y_pred = rfc.predict(eng_x_test)"
   ]
  },
  {
   "cell_type": "code",
   "execution_count": 106,
   "metadata": {},
   "outputs": [
    {
     "data": {
      "text/plain": [
       "0.0"
      ]
     },
     "execution_count": 106,
     "metadata": {},
     "output_type": "execute_result"
    }
   ],
   "source": [
    "# step 4 - output prediction on testing set, compare true labels to predicted labels, get accuracy\n",
    "accuracy_score(y_test, y_pred)"
   ]
  },
  {
   "cell_type": "markdown",
   "metadata": {},
   "source": [
    "## Part IV. Time Series"
   ]
  },
  {
   "cell_type": "code",
   "execution_count": 120,
   "metadata": {},
   "outputs": [],
   "source": [
    "ts = pd.read_csv('https://raw.githubusercontent.com/jbrownlee/Datasets/master/daily-min-temperatures.csv')"
   ]
  },
  {
   "cell_type": "code",
   "execution_count": 121,
   "metadata": {
    "scrolled": true
   },
   "outputs": [
    {
     "data": {
      "text/html": [
       "<div>\n",
       "<style scoped>\n",
       "    .dataframe tbody tr th:only-of-type {\n",
       "        vertical-align: middle;\n",
       "    }\n",
       "\n",
       "    .dataframe tbody tr th {\n",
       "        vertical-align: top;\n",
       "    }\n",
       "\n",
       "    .dataframe thead th {\n",
       "        text-align: right;\n",
       "    }\n",
       "</style>\n",
       "<table border=\"1\" class=\"dataframe\">\n",
       "  <thead>\n",
       "    <tr style=\"text-align: right;\">\n",
       "      <th></th>\n",
       "      <th>Date</th>\n",
       "      <th>Temp</th>\n",
       "    </tr>\n",
       "  </thead>\n",
       "  <tbody>\n",
       "    <tr>\n",
       "      <th>0</th>\n",
       "      <td>1981-01-01</td>\n",
       "      <td>20.7</td>\n",
       "    </tr>\n",
       "    <tr>\n",
       "      <th>1</th>\n",
       "      <td>1981-01-02</td>\n",
       "      <td>17.9</td>\n",
       "    </tr>\n",
       "    <tr>\n",
       "      <th>2</th>\n",
       "      <td>1981-01-03</td>\n",
       "      <td>18.8</td>\n",
       "    </tr>\n",
       "    <tr>\n",
       "      <th>3</th>\n",
       "      <td>1981-01-04</td>\n",
       "      <td>14.6</td>\n",
       "    </tr>\n",
       "    <tr>\n",
       "      <th>4</th>\n",
       "      <td>1981-01-05</td>\n",
       "      <td>15.8</td>\n",
       "    </tr>\n",
       "  </tbody>\n",
       "</table>\n",
       "</div>"
      ],
      "text/plain": [
       "         Date  Temp\n",
       "0  1981-01-01  20.7\n",
       "1  1981-01-02  17.9\n",
       "2  1981-01-03  18.8\n",
       "3  1981-01-04  14.6\n",
       "4  1981-01-05  15.8"
      ]
     },
     "execution_count": 121,
     "metadata": {},
     "output_type": "execute_result"
    }
   ],
   "source": [
    "ts.head()"
   ]
  },
  {
   "cell_type": "code",
   "execution_count": 122,
   "metadata": {
    "scrolled": true
   },
   "outputs": [],
   "source": [
    "# covert the date to datetime \n",
    "ts.Date = pd.to_datetime(ts.Date)\n",
    "# your code below"
   ]
  },
  {
   "cell_type": "code",
   "execution_count": 123,
   "metadata": {
    "scrolled": true
   },
   "outputs": [],
   "source": [
    "# set the index to date\n",
    "ts.set_index(\"Date\", inplace=True)"
   ]
  },
  {
   "cell_type": "code",
   "execution_count": 124,
   "metadata": {},
   "outputs": [
    {
     "data": {
      "text/html": [
       "<div>\n",
       "<style scoped>\n",
       "    .dataframe tbody tr th:only-of-type {\n",
       "        vertical-align: middle;\n",
       "    }\n",
       "\n",
       "    .dataframe tbody tr th {\n",
       "        vertical-align: top;\n",
       "    }\n",
       "\n",
       "    .dataframe thead th {\n",
       "        text-align: right;\n",
       "    }\n",
       "</style>\n",
       "<table border=\"1\" class=\"dataframe\">\n",
       "  <thead>\n",
       "    <tr style=\"text-align: right;\">\n",
       "      <th></th>\n",
       "      <th>Temp</th>\n",
       "    </tr>\n",
       "    <tr>\n",
       "      <th>Date</th>\n",
       "      <th></th>\n",
       "    </tr>\n",
       "  </thead>\n",
       "  <tbody>\n",
       "    <tr>\n",
       "      <th>1981-01-01</th>\n",
       "      <td>20.7</td>\n",
       "    </tr>\n",
       "    <tr>\n",
       "      <th>1981-01-02</th>\n",
       "      <td>17.9</td>\n",
       "    </tr>\n",
       "    <tr>\n",
       "      <th>1981-01-03</th>\n",
       "      <td>18.8</td>\n",
       "    </tr>\n",
       "    <tr>\n",
       "      <th>1981-01-04</th>\n",
       "      <td>14.6</td>\n",
       "    </tr>\n",
       "    <tr>\n",
       "      <th>1981-01-05</th>\n",
       "      <td>15.8</td>\n",
       "    </tr>\n",
       "  </tbody>\n",
       "</table>\n",
       "</div>"
      ],
      "text/plain": [
       "            Temp\n",
       "Date            \n",
       "1981-01-01  20.7\n",
       "1981-01-02  17.9\n",
       "1981-01-03  18.8\n",
       "1981-01-04  14.6\n",
       "1981-01-05  15.8"
      ]
     },
     "execution_count": 124,
     "metadata": {},
     "output_type": "execute_result"
    }
   ],
   "source": [
    "ts.head()"
   ]
  },
  {
   "cell_type": "code",
   "execution_count": 125,
   "metadata": {},
   "outputs": [],
   "source": [
    "# visualize the daily temperature "
   ]
  },
  {
   "cell_type": "code",
   "execution_count": 126,
   "metadata": {
    "scrolled": false
   },
   "outputs": [
    {
     "data": {
      "text/plain": [
       "[<matplotlib.lines.Line2D at 0x1f01a9a1ef0>]"
      ]
     },
     "execution_count": 126,
     "metadata": {},
     "output_type": "execute_result"
    },
    {
     "data": {
      "image/png": "[encoded data removed]",
      "text/plain": [
       "<Figure size 936x720 with 1 Axes>"
      ]
     },
     "metadata": {},
     "output_type": "display_data"
    }
   ],
   "source": [
    "fig, ax = plt.subplots(figsize=(13, 10))\n",
    "ax.plot(ts['Temp'], color='blue',label='Average monthly opening stock price')"
   ]
  },
  {
   "cell_type": "code",
   "execution_count": 127,
   "metadata": {
    "scrolled": false
   },
   "outputs": [],
   "source": [
    "# get only the monthly mean \n",
    "temp_monthly = ts.resample(\"M\").mean() #resample is a groupby but specificalyl for date time"
   ]
  },
  {
   "cell_type": "code",
   "execution_count": 128,
   "metadata": {
    "scrolled": true
   },
   "outputs": [
    {
     "data": {
      "text/plain": [
       "[<matplotlib.lines.Line2D at 0x1f01a9ed5c0>]"
      ]
     },
     "execution_count": 128,
     "metadata": {},
     "output_type": "execute_result"
    },
    {
     "data": {
      "image/png": "[encoded data removed]",
      "text/plain": [
       "<Figure size 936x720 with 1 Axes>"
      ]
     },
     "metadata": {},
     "output_type": "display_data"
    }
   ],
   "source": [
    "fig, ax = plt.subplots(figsize=(13, 10))\n",
    "ax.plot(temp_monthly['Temp'], color='blue',label='Average monthly opening stock price')"
   ]
  },
  {
   "cell_type": "code",
   "execution_count": 129,
   "metadata": {
    "scrolled": true
   },
   "outputs": [],
   "source": [
    "# get the rrolling mean, rolling standard deviation, and visualize all three of them together"
   ]
  },
  {
   "cell_type": "code",
   "execution_count": 132,
   "metadata": {},
   "outputs": [
    {
     "data": {
      "text/plain": [
       "[<matplotlib.lines.Line2D at 0x1f01af54198>]"
      ]
     },
     "execution_count": 132,
     "metadata": {},
     "output_type": "execute_result"
    },
    {
     "data": {
      "image/png": "[encoded data removed]",
      "text/plain": [
       "<Figure size 432x288 with 1 Axes>"
      ]
     },
     "metadata": {},
     "output_type": "display_data"
    }
   ],
   "source": [
    "roll_mean = temp_monthly.rolling(window=3).mean()\n",
    "roll_std = temp_monthly.rolling(window=3).std()\n",
    "plt.plot(temp_monthly[\"Temp\"], color=\"blue\")\n",
    "plt.plot(roll_mean, color=\"red\")\n",
    "plt.plot(roll_std, color=\"green\")"
   ]
  },
  {
   "cell_type": "code",
   "execution_count": null,
   "metadata": {},
   "outputs": [],
   "source": [
    "## what are some of the assumptions of using arima model? \n",
    "\n",
    "# does our dataset satisfy this assumption?\n",
    "\n",
    "# what kind of test can you use to find out?"
   ]
  },
  {
   "cell_type": "markdown",
   "metadata": {},
   "source": [
    "visually looks stationary"
   ]
  },
  {
   "cell_type": "code",
   "execution_count": 115,
   "metadata": {
    "scrolled": true
   },
   "outputs": [
    {
     "data": {
      "text/html": [
       "<div>\n",
       "<style scoped>\n",
       "    .dataframe tbody tr th:only-of-type {\n",
       "        vertical-align: middle;\n",
       "    }\n",
       "\n",
       "    .dataframe tbody tr th {\n",
       "        vertical-align: top;\n",
       "    }\n",
       "\n",
       "    .dataframe thead th {\n",
       "        text-align: right;\n",
       "    }\n",
       "</style>\n",
       "<table border=\"1\" class=\"dataframe\">\n",
       "  <thead>\n",
       "    <tr style=\"text-align: right;\">\n",
       "      <th></th>\n",
       "      <th>Temp</th>\n",
       "    </tr>\n",
       "    <tr>\n",
       "      <th>Date</th>\n",
       "      <th></th>\n",
       "    </tr>\n",
       "  </thead>\n",
       "  <tbody>\n",
       "    <tr>\n",
       "      <th>1981-01-31</th>\n",
       "      <td>AxesSubplot(0.08,0.07;0.87x0.81)</td>\n",
       "    </tr>\n",
       "    <tr>\n",
       "      <th>1981-02-28</th>\n",
       "      <td>AxesSubplot(0.08,0.07;0.87x0.81)</td>\n",
       "    </tr>\n",
       "    <tr>\n",
       "      <th>1981-03-31</th>\n",
       "      <td>AxesSubplot(0.08,0.07;0.87x0.81)</td>\n",
       "    </tr>\n",
       "    <tr>\n",
       "      <th>1981-04-30</th>\n",
       "      <td>AxesSubplot(0.08,0.07;0.87x0.81)</td>\n",
       "    </tr>\n",
       "    <tr>\n",
       "      <th>1981-05-31</th>\n",
       "      <td>AxesSubplot(0.08,0.07;0.87x0.81)</td>\n",
       "    </tr>\n",
       "    <tr>\n",
       "      <th>...</th>\n",
       "      <td>...</td>\n",
       "    </tr>\n",
       "    <tr>\n",
       "      <th>1990-08-31</th>\n",
       "      <td>AxesSubplot(0.08,0.07;0.87x0.81)</td>\n",
       "    </tr>\n",
       "    <tr>\n",
       "      <th>1990-09-30</th>\n",
       "      <td>AxesSubplot(0.08,0.07;0.87x0.81)</td>\n",
       "    </tr>\n",
       "    <tr>\n",
       "      <th>1990-10-31</th>\n",
       "      <td>AxesSubplot(0.08,0.07;0.87x0.81)</td>\n",
       "    </tr>\n",
       "    <tr>\n",
       "      <th>1990-11-30</th>\n",
       "      <td>AxesSubplot(0.08,0.07;0.87x0.81)</td>\n",
       "    </tr>\n",
       "    <tr>\n",
       "      <th>1990-12-31</th>\n",
       "      <td>AxesSubplot(0.08,0.07;0.87x0.81)</td>\n",
       "    </tr>\n",
       "  </tbody>\n",
       "</table>\n",
       "<p>120 rows × 1 columns</p>\n",
       "</div>"
      ],
      "text/plain": [
       "                                        Temp\n",
       "Date                                        \n",
       "1981-01-31  AxesSubplot(0.08,0.07;0.87x0.81)\n",
       "1981-02-28  AxesSubplot(0.08,0.07;0.87x0.81)\n",
       "1981-03-31  AxesSubplot(0.08,0.07;0.87x0.81)\n",
       "1981-04-30  AxesSubplot(0.08,0.07;0.87x0.81)\n",
       "1981-05-31  AxesSubplot(0.08,0.07;0.87x0.81)\n",
       "...                                      ...\n",
       "1990-08-31  AxesSubplot(0.08,0.07;0.87x0.81)\n",
       "1990-09-30  AxesSubplot(0.08,0.07;0.87x0.81)\n",
       "1990-10-31  AxesSubplot(0.08,0.07;0.87x0.81)\n",
       "1990-11-30  AxesSubplot(0.08,0.07;0.87x0.81)\n",
       "1990-12-31  AxesSubplot(0.08,0.07;0.87x0.81)\n",
       "\n",
       "[120 rows x 1 columns]"
      ]
     },
     "execution_count": 115,
     "metadata": {},
     "output_type": "execute_result"
    },
    {
     "data": {
      "image/png": "[encoded data removed]",
      "text/plain": [
       "<Figure size 432x288 with 1 Axes>"
      ]
     },
     "metadata": {},
     "output_type": "display_data"
    }
   ],
   "source": [
    "# visualize monthly mean\n",
    "temp_monthly.plot()"
   ]
  },
  {
   "cell_type": "code",
   "execution_count": 133,
   "metadata": {},
   "outputs": [
    {
     "name": "stdout",
     "output_type": "stream",
     "text": [
      "Test Statistic                  -1.892313\n",
      "p-value                          0.335686\n",
      "#Lags Used                      13.000000\n",
      "Number of Observations Used    106.000000\n",
      "dtype: float64\n"
     ]
    }
   ],
   "source": [
    "# do a dickey fuller test to find out whether our dataset is stationary or not\n",
    "from statsmodels.tsa.stattools import adfuller\n",
    "test = adfuller(temp_monthly['Temp'])\n",
    "dfoutput = pd.Series(test[0:4], index=['Test Statistic','p-value','#Lags Used','Number of Observations Used'])\n",
    "print(dfoutput)"
   ]
  },
  {
   "cell_type": "markdown",
   "metadata": {},
   "source": [
    "Fail to reject the null. The data is not stationary."
   ]
  },
  {
   "cell_type": "code",
   "execution_count": null,
   "metadata": {},
   "outputs": [],
   "source": []
  }
 ],
 "metadata": {
  "kernelspec": {
   "display_name": "Python 3",
   "language": "python",
   "name": "python3"
  },
  "language_info": {
   "codemirror_mode": {
    "name": "ipython",
    "version": 3
   },
   "file_extension": ".py",
   "mimetype": "text/x-python",
   "name": "python",
   "nbconvert_exporter": "python",
   "pygments_lexer": "ipython3",
   "version": "3.7.1"
  }
 },
 "nbformat": 4,
 "nbformat_minor": 2
}
